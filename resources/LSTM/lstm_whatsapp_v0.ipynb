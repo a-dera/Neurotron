{
 "cells": [
  {
   "cell_type": "code",
   "execution_count": 2,
   "metadata": {},
   "outputs": [
    {
     "ename": "ModuleNotFoundError",
     "evalue": "No module named 'tensorflow.python'",
     "output_type": "error",
     "traceback": [
      "\u001b[0;31m---------------------------------------------------------------------------\u001b[0m",
      "\u001b[0;31mModuleNotFoundError\u001b[0m                       Traceback (most recent call last)",
      "\u001b[0;32m<ipython-input-2-f2d5c7f00878>\u001b[0m in \u001b[0;36m<module>\u001b[0;34m\u001b[0m\n\u001b[1;32m     10\u001b[0m \u001b[0;31m#from keras.layers import Input, Dense'''\u001b[0m\u001b[0;34m\u001b[0m\u001b[0;34m\u001b[0m\u001b[0;34m\u001b[0m\u001b[0m\n\u001b[1;32m     11\u001b[0m \u001b[0;32mimport\u001b[0m \u001b[0mos\u001b[0m\u001b[0;34m\u001b[0m\u001b[0;34m\u001b[0m\u001b[0m\n\u001b[0;32m---> 12\u001b[0;31m \u001b[0;32mimport\u001b[0m \u001b[0mtensorflow\u001b[0m \u001b[0;32mas\u001b[0m \u001b[0mtf\u001b[0m\u001b[0;34m\u001b[0m\u001b[0;34m\u001b[0m\u001b[0m\n\u001b[0m\u001b[1;32m     13\u001b[0m \u001b[0;32mfrom\u001b[0m \u001b[0mtensorflow\u001b[0m\u001b[0;34m.\u001b[0m\u001b[0mkeras\u001b[0m\u001b[0;34m.\u001b[0m\u001b[0mpreprocessing\u001b[0m\u001b[0;34m.\u001b[0m\u001b[0msequence\u001b[0m \u001b[0;32mimport\u001b[0m \u001b[0mpad_sequences\u001b[0m\u001b[0;34m\u001b[0m\u001b[0;34m\u001b[0m\u001b[0m\n\u001b[1;32m     14\u001b[0m \u001b[0;32mfrom\u001b[0m \u001b[0mtensorflow\u001b[0m\u001b[0;34m.\u001b[0m\u001b[0mkeras\u001b[0m\u001b[0;34m.\u001b[0m\u001b[0mlayers\u001b[0m \u001b[0;32mimport\u001b[0m \u001b[0mEmbedding\u001b[0m\u001b[0;34m,\u001b[0m \u001b[0mLSTM\u001b[0m\u001b[0;34m,\u001b[0m \u001b[0mDense\u001b[0m\u001b[0;34m,\u001b[0m \u001b[0mDropout\u001b[0m\u001b[0;34m\u001b[0m\u001b[0;34m\u001b[0m\u001b[0m\n",
      "\u001b[0;32m~/.local/lib/python3.7/site-packages/tensorflow/__init__.py\u001b[0m in \u001b[0;36m<module>\u001b[0;34m\u001b[0m\n\u001b[1;32m     26\u001b[0m \u001b[0;34m\u001b[0m\u001b[0m\n\u001b[1;32m     27\u001b[0m \u001b[0;31m# pylint: disable=g-bad-import-order\u001b[0m\u001b[0;34m\u001b[0m\u001b[0;34m\u001b[0m\u001b[0;34m\u001b[0m\u001b[0m\n\u001b[0;32m---> 28\u001b[0;31m \u001b[0;32mfrom\u001b[0m \u001b[0mtensorflow\u001b[0m\u001b[0;34m.\u001b[0m\u001b[0mpython\u001b[0m \u001b[0;32mimport\u001b[0m \u001b[0mpywrap_tensorflow\u001b[0m  \u001b[0;31m# pylint: disable=unused-import\u001b[0m\u001b[0;34m\u001b[0m\u001b[0;34m\u001b[0m\u001b[0m\n\u001b[0m\u001b[1;32m     29\u001b[0m \u001b[0;32mfrom\u001b[0m \u001b[0mtensorflow\u001b[0m\u001b[0;34m.\u001b[0m\u001b[0mpython\u001b[0m\u001b[0;34m.\u001b[0m\u001b[0mtools\u001b[0m \u001b[0;32mimport\u001b[0m \u001b[0mmodule_util\u001b[0m \u001b[0;32mas\u001b[0m \u001b[0m_module_util\u001b[0m\u001b[0;34m\u001b[0m\u001b[0;34m\u001b[0m\u001b[0m\n\u001b[1;32m     30\u001b[0m \u001b[0;34m\u001b[0m\u001b[0m\n",
      "\u001b[0;31mModuleNotFoundError\u001b[0m: No module named 'tensorflow.python'"
     ]
    }
   ],
   "source": [
    "'''import numpy as np\n",
    "import pandas as pd\n",
    "import tensorflow as tf\n",
    "from tensorflow.python.keras.callbacks import TensorBoard\n",
    "import time\n",
    "from keras.preprocessing.text import Tokenizer\n",
    "from keras.preprocessing.sequence import pad_sequences\n",
    "from keras.models import Sequential\n",
    "#from keras.models import Model\n",
    "#from keras.layers import Input, Dense'''\n",
    "import os\n",
    "import tensorflow as tf\n",
    "from tensorflow.keras.preprocessing.sequence import pad_sequences\n",
    "from tensorflow.keras.layers import Embedding, LSTM, Dense, Dropout\n",
    "from tensorflow.keras.preprocessing.text import Tokenizer\n",
    "from tensorflow.keras.callbacks import EarlyStopping\n",
    "from tensorflow.keras.models import Sequential\n",
    "import tensorflow.keras.utils as ku \n",
    "import numpy as np\n",
    "\n",
    "tokenizer = Tokenizer()\n",
    "tf.__version__"
   ]
  },
  {
   "cell_type": "code",
   "execution_count": 2,
   "metadata": {},
   "outputs": [
    {
     "name": "stdout",
     "output_type": "stream",
     "text": [
      "data has 909889 characters, 394 unique.\n"
     ]
    }
   ],
   "source": [
    "# data I/O\n",
    "data = open('input_whatsapp.txt', 'r').read() #simple text file\n",
    "chars = list(set(data))\n",
    "data_size, vocab_size = len(data), len(chars)\n",
    "print('data has %d characters, %d unique.' % (data_size, vocab_size))"
   ]
  },
  {
   "cell_type": "code",
   "execution_count": 3,
   "metadata": {},
   "outputs": [],
   "source": [
    "def dataset_preparation(data):\n",
    "\n",
    "\t# basic cleanup\n",
    "\tcorpus = data.lower().split(\"\\n\")\n",
    "\n",
    "\t# tokenization\t\n",
    "\ttokenizer.fit_on_texts(corpus)\n",
    "\ttotal_words = len(tokenizer.word_index) + 1\n",
    "\n",
    "\t# create input sequences using list of tokens\n",
    "\tinput_sequences = []\n",
    "\tfor line in corpus:\n",
    "\t\ttoken_list = tokenizer.texts_to_sequences([line])[0]\n",
    "\t\tfor i in range(1, len(token_list)):\n",
    "\t\t\tn_gram_sequence = token_list[:i+1]\n",
    "\t\t\tinput_sequences.append(n_gram_sequence)\n",
    "\n",
    "\t# pad sequences \n",
    "\tmax_sequence_len = max([len(x) for x in input_sequences])\n",
    "\tinput_sequences = np.array(pad_sequences(input_sequences, maxlen=max_sequence_len, padding='pre'))\n",
    "\n",
    "\t# create predictors and label\n",
    "\tpredictors, label = input_sequences[:,:-1],input_sequences[:,-1]\n",
    "\tlabel = ku.to_categorical(label, num_classes=total_words)\n",
    "\n",
    "\treturn predictors, label, max_sequence_len, total_words"
   ]
  },
  {
   "cell_type": "code",
   "execution_count": 4,
   "metadata": {},
   "outputs": [],
   "source": [
    "def create_model(predictors, label, max_sequence_len, total_words):\n",
    "\t\n",
    "\tmodel = Sequential()\n",
    "\tmodel.add(Embedding(total_words, 10, input_length=max_sequence_len-1))\n",
    "\tmodel.add(LSTM(150, return_sequences = True))\n",
    "\tmodel.add(LSTM(100))\n",
    "\tmodel.add(Dense(total_words, activation='softmax'))\n",
    "\n",
    "\tmodel.compile(loss='categorical_crossentropy', optimizer='adam', metrics=['accuracy'])\n",
    "\n",
    "\tprint (model.summary())\n",
    "\treturn model "
   ]
  },
  {
   "cell_type": "code",
   "execution_count": 5,
   "metadata": {},
   "outputs": [],
   "source": [
    "def generate_text(seed_text, next_words, max_sequence_len):\n",
    "\tfor _ in range(next_words):\n",
    "\t\ttoken_list = tokenizer.texts_to_sequences([seed_text])[0]\n",
    "\t\ttoken_list = pad_sequences([token_list], maxlen=max_sequence_len-1, padding='pre')\n",
    "\t\tpredicted = model.predict_classes(token_list, verbose=0)\n",
    "\t\t\n",
    "\t\toutput_word = \"\"\n",
    "\t\tfor word, index in tokenizer.word_index.items():\n",
    "\t\t\tif index == predicted:\n",
    "\t\t\t\toutput_word = word\n",
    "\t\t\t\tbreak\n",
    "\t\tseed_text += \" \" + output_word\n",
    "\treturn seed_text"
   ]
  },
  {
   "cell_type": "code",
   "execution_count": 6,
   "metadata": {},
   "outputs": [
    {
     "name": "stdout",
     "output_type": "stream",
     "text": [
      "[[    0     0     0 ...     0     0  5643]\n",
      " [    0     0     0 ...     0  5643   468]\n",
      " [    0     0     0 ...  5643   468   403]\n",
      " ...\n",
      " [    0     0     0 ... 14599  1014     2]\n",
      " [    0     0     0 ...  1014     2   114]\n",
      " [    0     0     0 ...     2   114    75]]\n",
      "[[0. 0. 0. ... 0. 0. 0.]\n",
      " [0. 0. 0. ... 0. 0. 0.]\n",
      " [0. 0. 0. ... 0. 0. 0.]\n",
      " ...\n",
      " [0. 0. 0. ... 0. 0. 0.]\n",
      " [0. 0. 0. ... 0. 0. 0.]\n",
      " [0. 0. 0. ... 0. 0. 1.]]\n",
      "196\n",
      "14601\n"
     ]
    }
   ],
   "source": [
    "predictors, label, max_sequence_len, total_words = dataset_preparation(data)\n",
    "print(predictors)\n",
    "print(label)\n",
    "print(max_sequence_len)\n",
    "print(total_words)"
   ]
  },
  {
   "cell_type": "code",
   "execution_count": 7,
   "metadata": {},
   "outputs": [
    {
     "name": "stdout",
     "output_type": "stream",
     "text": [
      "Model: \"sequential\"\n",
      "_________________________________________________________________\n",
      "Layer (type)                 Output Shape              Param #   \n",
      "=================================================================\n",
      "embedding (Embedding)        (None, 195, 10)           146010    \n",
      "_________________________________________________________________\n",
      "lstm (LSTM)                  (None, 195, 150)          96600     \n",
      "_________________________________________________________________\n",
      "lstm_1 (LSTM)                (None, 100)               100400    \n",
      "_________________________________________________________________\n",
      "dense (Dense)                (None, 14601)             1474701   \n",
      "=================================================================\n",
      "Total params: 1,817,711\n",
      "Trainable params: 1,817,711\n",
      "Non-trainable params: 0\n",
      "_________________________________________________________________\n",
      "None\n"
     ]
    }
   ],
   "source": [
    "model = create_model(predictors, label, max_sequence_len, total_words)\n",
    "earlystop = EarlyStopping(monitor='val_loss', min_delta=0, patience=5, verbose=0, mode='auto')"
   ]
  },
  {
   "cell_type": "code",
   "execution_count": 8,
   "metadata": {},
   "outputs": [
    {
     "data": {
      "text/plain": [
       "<tensorflow.python.training.tracking.util.CheckpointLoadStatus at 0x13d99ff98>"
      ]
     },
     "execution_count": 8,
     "metadata": {},
     "output_type": "execute_result"
    }
   ],
   "source": [
    "model.load_weights('weights/model_weights_5_0')"
   ]
  },
  {
   "cell_type": "code",
   "execution_count": 9,
   "metadata": {},
   "outputs": [
    {
     "name": "stderr",
     "output_type": "stream",
     "text": [
      "WARNING: Logging before flag parsing goes to stderr.\n",
      "W0624 18:39:20.459333 140736110142336 deprecation.py:323] From /nfs/2018/j/jcruz-y-/.local/lib/python3.7/site-packages/tensorflow/python/ops/math_grad.py:1250: add_dispatch_support.<locals>.wrapper (from tensorflow.python.ops.array_ops) is deprecated and will be removed in a future version.\n",
      "Instructions for updating:\n",
      "Use tf.where in 2.0, which has the same broadcast rule as np.where\n"
     ]
    },
    {
     "name": "stdout",
     "output_type": "stream",
     "text": [
      "Train on 119610 samples, validate on 13290 samples\n",
      "Epoch 1/100\n",
      "119610/119610 [==============================] - 1824s 15ms/sample - loss: 5.0309 - accuracy: 0.2288 - val_loss: 5.7793 - val_accuracy: 0.2647\n",
      "Epoch 2/100\n",
      "119610/119610 [==============================] - 1835s 15ms/sample - loss: 4.9442 - accuracy: 0.2309 - val_loss: 5.7927 - val_accuracy: 0.2662\n",
      "Epoch 3/100\n",
      "119610/119610 [==============================] - 1263s 11ms/sample - loss: 4.8624 - accuracy: 0.2340 - val_loss: 5.8350 - val_accuracy: 0.2570\n",
      "Epoch 4/100\n",
      "119610/119610 [==============================] - 1154s 10ms/sample - loss: 4.7839 - accuracy: 0.2376 - val_loss: 5.8180 - val_accuracy: 0.2701\n",
      "Epoch 5/100\n",
      "119610/119610 [==============================] - 1153s 10ms/sample - loss: 4.7163 - accuracy: 0.2389 - val_loss: 5.8184 - val_accuracy: 0.2705\n",
      "Epoch 6/100\n",
      "119610/119610 [==============================] - 1159s 10ms/sample - loss: 4.6518 - accuracy: 0.2414 - val_loss: 5.8218 - val_accuracy: 0.2702\n"
     ]
    },
    {
     "data": {
      "text/plain": [
       "<tensorflow.python.keras.callbacks.History at 0x1111a5a20>"
      ]
     },
     "execution_count": 9,
     "metadata": {},
     "output_type": "execute_result"
    }
   ],
   "source": [
    "model.fit(predictors, label, epochs=100, verbose=1, callbacks=[earlystop], validation_split=0.1)"
   ]
  },
  {
   "cell_type": "code",
   "execution_count": 48,
   "metadata": {},
   "outputs": [
    {
     "name": "stdout",
     "output_type": "stream",
     "text": [
      "Fer Ripoll Lilo Domit media omitted media omitted media omitted media omitted media omitted media omitted media omitted media omitted media omitted media omitted media omitted media omitted media omitted media omitted media omitted media omitted media omitted media omitted media omitted media omitted media omitted media omitted media omitted media omitted media omitted media omitted media omitted media omitted media omitted media omitted media omitted media omitted media omitted media omitted media omitted media omitted media omitted media omitted media omitted media omitted media omitted media omitted media omitted media omitted media omitted media omitted media omitted media omitted media omitted media omitted\n"
     ]
    }
   ],
   "source": [
    "print (generate_text(\"Fer Ripoll Lilo Domit\", 100, max_sequence_len))"
   ]
  },
  {
   "cell_type": "code",
   "execution_count": 49,
   "metadata": {},
   "outputs": [],
   "source": [
    "model.save_weights(\"weights/model_weights_5_0\", overwrite=True, save_format='tf')"
   ]
  },
  {
   "cell_type": "code",
   "execution_count": 165,
   "metadata": {},
   "outputs": [],
   "source": [
    "def batch_gen(seq_length, input_dim, data):\n",
    "    j = 0\n",
    "    batches = data.shape[0] // seq_length\n",
    "    x = np.zeros((batches, seq_length, input_dim))\n",
    "    for batch in range(batches):\n",
    "        for i in range(seq_length):\n",
    "            x[batch, i, :] = data.iloc[j, :]\n",
    "            j += 1\n",
    "    return (x)"
   ]
  },
  {
   "cell_type": "code",
   "execution_count": 166,
   "metadata": {},
   "outputs": [
    {
     "data": {
      "text/plain": [
       "3082"
      ]
     },
     "execution_count": 166,
     "metadata": {},
     "output_type": "execute_result"
    }
   ],
   "source": [
    "len(x_train.iloc[:, 1])\n",
    "#Xtrain.shape[0]"
   ]
  },
  {
   "cell_type": "code",
   "execution_count": 188,
   "metadata": {},
   "outputs": [
    {
     "data": {
      "text/plain": [
       "(6, 512, 63)"
      ]
     },
     "execution_count": 188,
     "metadata": {},
     "output_type": "execute_result"
    }
   ],
   "source": [
    "# 3D tensor with shape (batch_size, timesteps, input_dim).\n",
    "x = batch_gen(512, 1, x_train)\n",
    "x.shape\n",
    "y = batch_gen(512, 1, y_train)\n",
    "y.shape"
   ]
  },
  {
   "cell_type": "code",
   "execution_count": 189,
   "metadata": {},
   "outputs": [],
   "source": [
    "inputs = tf.keras.layers.Input(shape=(None, 8))"
   ]
  },
  {
   "cell_type": "code",
   "execution_count": 190,
   "metadata": {},
   "outputs": [],
   "source": [
    "lstm = tf.keras.layers.LSTM(512,\n",
    "                            activation='tanh',\n",
    "                            recurrent_activation='hard_sigmoid',\n",
    "                            use_bias=True,\n",
    "                            kernel_initializer='glorot_uniform',\n",
    "                            recurrent_initializer='orthogonal',\n",
    "                            bias_initializer='zeros',\n",
    "                            unit_forget_bias=True, \n",
    "                            kernel_regularizer=None,\n",
    "                            recurrent_regularizer=None,\n",
    "                            bias_regularizer=None,\n",
    "                            activity_regularizer=None,\n",
    "                            kernel_constraint=None,\n",
    "                            recurrent_constraint=None,\n",
    "                            bias_constraint=None,\n",
    "                            dropout=0.5, \n",
    "                            recurrent_dropout=0.5,\n",
    "                            implementation=1, \n",
    "                            return_sequences=True, \n",
    "                            return_state=False, \n",
    "                            go_backwards=False, \n",
    "                            stateful=False,\n",
    "                            unroll=False)(inputs)\n",
    "lstm2 = tf.keras.layers.LSTM(512,\n",
    "                            dropout=0.5, \n",
    "                            recurrent_dropout=0.5,\n",
    "                            return_sequences=True)(lstm)\n",
    "predictions = tf.keras.layers.Dense(63, activation='relu')(lstm2)\n",
    "#predictions = tf.keras.layers.TimeDistributed(dense)(dense)"
   ]
  },
  {
   "cell_type": "code",
   "execution_count": 191,
   "metadata": {},
   "outputs": [],
   "source": [
    "model = tf.keras.models.Model(inputs=inputs, outputs=predictions)"
   ]
  },
  {
   "cell_type": "code",
   "execution_count": 192,
   "metadata": {},
   "outputs": [],
   "source": [
    "model.compile(optimizer='rmsprop', loss='mean_squared_error')"
   ]
  },
  {
   "cell_type": "code",
   "execution_count": 193,
   "metadata": {},
   "outputs": [
    {
     "name": "stdout",
     "output_type": "stream",
     "text": [
      "Model: \"model_13\"\n",
      "_________________________________________________________________\n",
      "Layer (type)                 Output Shape              Param #   \n",
      "=================================================================\n",
      "input_10 (InputLayer)        [(None, None, 8)]         0         \n",
      "_________________________________________________________________\n",
      "lstm_23 (LSTM)               (None, None, 512)         1067008   \n",
      "_________________________________________________________________\n",
      "lstm_24 (LSTM)               (None, None, 512)         2099200   \n",
      "_________________________________________________________________\n",
      "dense_16 (Dense)             (None, None, 63)          32319     \n",
      "=================================================================\n",
      "Total params: 3,198,527\n",
      "Trainable params: 3,198,527\n",
      "Non-trainable params: 0\n",
      "_________________________________________________________________\n",
      "None\n"
     ]
    }
   ],
   "source": [
    "print(model.summary())"
   ]
  },
  {
   "cell_type": "code",
   "execution_count": 194,
   "metadata": {},
   "outputs": [
    {
     "name": "stdout",
     "output_type": "stream",
     "text": [
      "Train on 6 samples\n",
      "Epoch 1/10000\n",
      "6/6 [==============================] - 10s 2s/sample - loss: 1523.6422\n",
      "Epoch 2/10000\n",
      "6/6 [==============================] - 6s 1s/sample - loss: 1516.0851\n",
      "Epoch 3/10000\n",
      "6/6 [==============================] - 7s 1s/sample - loss: 1506.9043\n",
      "Epoch 4/10000\n",
      "6/6 [==============================] - 8s 1s/sample - loss: 1484.7946\n",
      "Epoch 5/10000\n",
      "6/6 [==============================] - 10s 2s/sample - loss: 1454.6826\n",
      "Epoch 6/10000\n",
      "6/6 [==============================] - 7s 1s/sample - loss: 1428.4946\n",
      "Epoch 7/10000\n",
      "6/6 [==============================] - 7s 1s/sample - loss: 1408.1478\n",
      "Epoch 8/10000\n",
      "6/6 [==============================] - 9s 1s/sample - loss: 1394.6260\n",
      "Epoch 9/10000\n",
      "6/6 [==============================] - 8s 1s/sample - loss: 1384.7266\n",
      "Epoch 10/10000\n",
      "6/6 [==============================] - 8s 1s/sample - loss: 1376.0287\n",
      "Epoch 11/10000\n",
      "6/6 [==============================] - 8s 1s/sample - loss: 1369.3052\n",
      "Epoch 12/10000\n",
      "6/6 [==============================] - 9s 2s/sample - loss: 1363.8947\n",
      "Epoch 13/10000\n",
      "6/6 [==============================] - 8s 1s/sample - loss: 1358.7328\n",
      "Epoch 14/10000\n",
      "6/6 [==============================] - 7s 1s/sample - loss: 1353.9735\n",
      "Epoch 15/10000\n",
      "6/6 [==============================] - 6s 1s/sample - loss: 1350.0707\n",
      "Epoch 16/10000\n",
      "6/6 [==============================] - 6s 1s/sample - loss: 1346.3617\n",
      "Epoch 17/10000\n",
      "6/6 [==============================] - 6s 1s/sample - loss: 1343.2312\n",
      "Epoch 18/10000\n",
      "6/6 [==============================] - 7s 1s/sample - loss: 1340.0730\n",
      "Epoch 19/10000\n",
      "6/6 [==============================] - 7s 1s/sample - loss: 1337.4985\n",
      "Epoch 20/10000\n",
      "6/6 [==============================] - 6s 998ms/sample - loss: 1334.9303\n",
      "Epoch 21/10000\n",
      "6/6 [==============================] - 6s 1s/sample - loss: 1332.6494\n",
      "Epoch 22/10000\n",
      "6/6 [==============================] - 7s 1s/sample - loss: 1330.6146\n",
      "Epoch 23/10000\n",
      "6/6 [==============================] - 7s 1s/sample - loss: 1328.5942\n",
      "Epoch 24/10000\n",
      "6/6 [==============================] - 9s 1s/sample - loss: 1326.8959\n",
      "Epoch 25/10000\n",
      "6/6 [==============================] - 9s 2s/sample - loss: 1325.4327\n",
      "Epoch 26/10000\n",
      "6/6 [==============================] - 9s 2s/sample - loss: 1323.8932\n",
      "Epoch 27/10000\n",
      "6/6 [==============================] - 6s 1s/sample - loss: 1322.2609\n",
      "Epoch 28/10000\n",
      "6/6 [==============================] - 7s 1s/sample - loss: 1320.7755\n",
      "Epoch 29/10000\n",
      "6/6 [==============================] - 7s 1s/sample - loss: 1319.9478\n",
      "Epoch 30/10000\n",
      "6/6 [==============================] - 7s 1s/sample - loss: 1331.7504\n",
      "Epoch 31/10000\n",
      "6/6 [==============================] - 6s 1s/sample - loss: 1317.6066\n",
      "Epoch 32/10000\n",
      "6/6 [==============================] - 8s 1s/sample - loss: 1316.6440\n",
      "Epoch 33/10000\n",
      "6/6 [==============================] - 7s 1s/sample - loss: 1315.6244\n",
      "Epoch 34/10000\n",
      "6/6 [==============================] - 8s 1s/sample - loss: 1314.8104\n",
      "Epoch 35/10000\n",
      "6/6 [==============================] - 9s 1s/sample - loss: 1313.9110\n",
      "Epoch 36/10000\n",
      "6/6 [==============================] - 8s 1s/sample - loss: 1313.2632\n",
      "Epoch 37/10000\n",
      "6/6 [==============================] - 9s 2s/sample - loss: 1312.6259\n",
      "Epoch 38/10000\n",
      "6/6 [==============================] - 10s 2s/sample - loss: 1311.8862\n",
      "Epoch 39/10000\n",
      "6/6 [==============================] - 7s 1s/sample - loss: 1311.5049\n",
      "Epoch 40/10000\n",
      "6/6 [==============================] - 7s 1s/sample - loss: 1311.0570\n",
      "Epoch 41/10000\n",
      "6/6 [==============================] - 7s 1s/sample - loss: 1310.6274\n",
      "Epoch 42/10000\n",
      "6/6 [==============================] - 7s 1s/sample - loss: 1310.0365\n",
      "Epoch 43/10000\n",
      "6/6 [==============================] - 6s 1s/sample - loss: 1309.5551\n",
      "Epoch 44/10000\n",
      "6/6 [==============================] - 7s 1s/sample - loss: 1309.1830\n",
      "Epoch 45/10000\n",
      "6/6 [==============================] - 8s 1s/sample - loss: 1308.8744\n",
      "Epoch 46/10000\n",
      "6/6 [==============================] - 7s 1s/sample - loss: 1308.5558\n",
      "Epoch 47/10000\n",
      "6/6 [==============================] - 7s 1s/sample - loss: 1308.3307\n",
      "Epoch 48/10000\n",
      "6/6 [==============================] - 7s 1s/sample - loss: 1308.0675\n",
      "Epoch 49/10000\n",
      "6/6 [==============================] - 6s 1s/sample - loss: 1308.0582\n",
      "Epoch 50/10000\n",
      "6/6 [==============================] - 7s 1s/sample - loss: 1307.7197\n",
      "Epoch 51/10000\n",
      "6/6 [==============================] - 7s 1s/sample - loss: 1307.5411\n",
      "Epoch 52/10000\n",
      "6/6 [==============================] - 7s 1s/sample - loss: 1307.1920\n",
      "Epoch 53/10000\n",
      "6/6 [==============================] - 6s 1s/sample - loss: 1307.0726\n",
      "Epoch 54/10000\n",
      "6/6 [==============================] - 7s 1s/sample - loss: 1307.1523\n",
      "Epoch 55/10000\n",
      "6/6 [==============================] - 6s 1s/sample - loss: 1306.9474\n",
      "Epoch 56/10000\n",
      "6/6 [==============================] - 8s 1s/sample - loss: 1307.0280\n",
      "Epoch 57/10000\n",
      "6/6 [==============================] - 8s 1s/sample - loss: 1306.6182\n",
      "Epoch 58/10000\n",
      "6/6 [==============================] - 10s 2s/sample - loss: 1306.8270\n",
      "Epoch 59/10000\n",
      "6/6 [==============================] - 7s 1s/sample - loss: 1306.8667\n",
      "Epoch 60/10000\n",
      "6/6 [==============================] - 9s 2s/sample - loss: 1306.5770\n",
      "Epoch 61/10000\n",
      "6/6 [==============================] - 11s 2s/sample - loss: 1306.6709\n",
      "Epoch 62/10000\n",
      "6/6 [==============================] - 7s 1s/sample - loss: 1306.4771\n",
      "Epoch 63/10000\n",
      "6/6 [==============================] - 8s 1s/sample - loss: 1306.2855\n",
      "Epoch 64/10000\n",
      "6/6 [==============================] - 8s 1s/sample - loss: 1306.8802\n",
      "Epoch 65/10000\n",
      "6/6 [==============================] - 8s 1s/sample - loss: 1306.5120\n",
      "Epoch 66/10000\n",
      "6/6 [==============================] - 8s 1s/sample - loss: 1306.3131\n",
      "Epoch 67/10000\n",
      "6/6 [==============================] - 7s 1s/sample - loss: 1306.3589\n",
      "Epoch 68/10000\n",
      "6/6 [==============================] - 8s 1s/sample - loss: 1306.3903\n",
      "Epoch 69/10000\n",
      "6/6 [==============================] - 9s 1s/sample - loss: 1306.4860\n",
      "Epoch 70/10000\n",
      "6/6 [==============================] - 7s 1s/sample - loss: 1306.3265\n",
      "Epoch 71/10000\n",
      "6/6 [==============================] - 8s 1s/sample - loss: 1306.2690\n",
      "Epoch 72/10000\n",
      "6/6 [==============================] - 8s 1s/sample - loss: 1306.2328\n",
      "Epoch 73/10000\n",
      "6/6 [==============================] - 9s 2s/sample - loss: 1306.2693\n",
      "Epoch 74/10000\n",
      "6/6 [==============================] - 8s 1s/sample - loss: 1306.0328\n",
      "Epoch 75/10000\n",
      "6/6 [==============================] - 8s 1s/sample - loss: 1306.0731\n",
      "Epoch 76/10000\n",
      "6/6 [==============================] - 6s 1s/sample - loss: 1306.1539\n",
      "Epoch 77/10000\n",
      "6/6 [==============================] - 6s 1s/sample - loss: 1305.8604\n",
      "Epoch 78/10000\n",
      "6/6 [==============================] - 6s 1s/sample - loss: 1306.2938\n",
      "Epoch 79/10000\n",
      "6/6 [==============================] - 7s 1s/sample - loss: 1306.2592\n",
      "Epoch 80/10000\n",
      "6/6 [==============================] - 8s 1s/sample - loss: 1305.9156\n",
      "Epoch 81/10000\n",
      "6/6 [==============================] - 8s 1s/sample - loss: 1306.2651\n",
      "Epoch 82/10000\n",
      "6/6 [==============================] - 8s 1s/sample - loss: 1305.7450\n",
      "Epoch 83/10000\n",
      "6/6 [==============================] - 9s 1s/sample - loss: 1306.5651\n",
      "Epoch 84/10000\n",
      "6/6 [==============================] - 7s 1s/sample - loss: 1305.9442\n",
      "Epoch 85/10000\n",
      "6/6 [==============================] - 7s 1s/sample - loss: 1306.0459\n",
      "Epoch 86/10000\n",
      "6/6 [==============================] - 8s 1s/sample - loss: 1305.8646\n",
      "Epoch 87/10000\n",
      "6/6 [==============================] - 8s 1s/sample - loss: 1306.1202\n",
      "Epoch 88/10000\n",
      "6/6 [==============================] - 6s 1s/sample - loss: 1306.2083\n",
      "Epoch 89/10000\n",
      "6/6 [==============================] - 8s 1s/sample - loss: 1306.1803\n",
      "Epoch 90/10000\n",
      "6/6 [==============================] - 8s 1s/sample - loss: 1306.1967\n",
      "Epoch 91/10000\n",
      "6/6 [==============================] - 7s 1s/sample - loss: 1306.2903\n",
      "Epoch 92/10000\n",
      "6/6 [==============================] - 7s 1s/sample - loss: 1306.0438\n",
      "Epoch 93/10000\n",
      "6/6 [==============================] - 7s 1s/sample - loss: 1306.1783\n",
      "Epoch 94/10000\n",
      "6/6 [==============================] - 7s 1s/sample - loss: 1305.7744\n",
      "Epoch 95/10000\n",
      "6/6 [==============================] - 7s 1s/sample - loss: 1306.0482\n",
      "Epoch 96/10000\n",
      "6/6 [==============================] - 7s 1s/sample - loss: 1305.9967\n",
      "Epoch 97/10000\n"
     ]
    },
    {
     "name": "stdout",
     "output_type": "stream",
     "text": [
      "6/6 [==============================] - 6s 1s/sample - loss: 1305.9996\n",
      "Epoch 98/10000\n",
      "6/6 [==============================] - 6s 1s/sample - loss: 1305.8763\n",
      "Epoch 99/10000\n",
      "6/6 [==============================] - 6s 1s/sample - loss: 1306.2821\n",
      "Epoch 100/10000\n",
      "6/6 [==============================] - 6s 1s/sample - loss: 1305.6476\n",
      "Epoch 101/10000\n",
      "6/6 [==============================] - 6s 1s/sample - loss: 1306.8558\n",
      "Epoch 102/10000\n",
      "6/6 [==============================] - 6s 1s/sample - loss: 1306.4430\n",
      "Epoch 103/10000\n",
      "6/6 [==============================] - 6s 1s/sample - loss: 1305.3318\n",
      "Epoch 104/10000\n",
      "6/6 [==============================] - 6s 1s/sample - loss: 1305.9449\n",
      "Epoch 105/10000\n",
      "6/6 [==============================] - 8s 1s/sample - loss: 1305.2540\n",
      "Epoch 106/10000\n",
      "6/6 [==============================] - 12s 2s/sample - loss: 1305.2733\n",
      "Epoch 107/10000\n",
      "6/6 [==============================] - 12s 2s/sample - loss: 1305.7115\n",
      "Epoch 108/10000\n",
      "6/6 [==============================] - 9s 1s/sample - loss: 1305.5253\n",
      "Epoch 109/10000\n",
      "6/6 [==============================] - 8s 1s/sample - loss: 1305.2113\n",
      "Epoch 110/10000\n",
      "6/6 [==============================] - 6s 1s/sample - loss: 1306.3350\n",
      "Epoch 111/10000\n",
      "6/6 [==============================] - 6s 981ms/sample - loss: 1305.0546\n",
      "Epoch 112/10000\n",
      "6/6 [==============================] - 6s 1s/sample - loss: 1305.5811\n",
      "Epoch 113/10000\n",
      "6/6 [==============================] - 6s 1s/sample - loss: 1305.8429\n",
      "Epoch 114/10000\n",
      "6/6 [==============================] - 6s 1s/sample - loss: 1306.2733\n",
      "Epoch 115/10000\n",
      "6/6 [==============================] - 7s 1s/sample - loss: 1306.1356\n",
      "Epoch 116/10000\n",
      "6/6 [==============================] - 7s 1s/sample - loss: 1305.3656\n",
      "Epoch 117/10000\n",
      "6/6 [==============================] - 8s 1s/sample - loss: 1305.0903\n",
      "Epoch 118/10000\n",
      "6/6 [==============================] - 7s 1s/sample - loss: 1305.6306\n",
      "Epoch 119/10000\n",
      "6/6 [==============================] - 7s 1s/sample - loss: 1305.1696\n",
      "Epoch 120/10000\n",
      "6/6 [==============================] - 8s 1s/sample - loss: 1304.2294\n",
      "Epoch 121/10000\n",
      "6/6 [==============================] - 9s 2s/sample - loss: 1304.1180\n",
      "Epoch 122/10000\n",
      "6/6 [==============================] - 7s 1s/sample - loss: 1304.4569\n",
      "Epoch 123/10000\n",
      "6/6 [==============================] - 7s 1s/sample - loss: 1304.1071\n",
      "Epoch 124/10000\n",
      "6/6 [==============================] - 9s 2s/sample - loss: 1307.0469\n",
      "Epoch 125/10000\n",
      "6/6 [==============================] - 9s 2s/sample - loss: 1305.8943\n",
      "Epoch 126/10000\n",
      "6/6 [==============================] - 7s 1s/sample - loss: 1306.2432\n",
      "Epoch 127/10000\n",
      "6/6 [==============================] - 7s 1s/sample - loss: 1304.2325\n",
      "Epoch 128/10000\n",
      "6/6 [==============================] - 8s 1s/sample - loss: 1304.7151\n",
      "Epoch 129/10000\n",
      "6/6 [==============================] - 7s 1s/sample - loss: 1303.8817\n",
      "Epoch 130/10000\n",
      "6/6 [==============================] - 8s 1s/sample - loss: 1304.8141\n",
      "Epoch 131/10000\n",
      "6/6 [==============================] - 7s 1s/sample - loss: 1306.8024\n",
      "Epoch 132/10000\n",
      "6/6 [==============================] - 9s 1s/sample - loss: 1304.0117\n",
      "Epoch 133/10000\n",
      "6/6 [==============================] - 6s 1s/sample - loss: 1304.8271\n",
      "Epoch 134/10000\n"
     ]
    },
    {
     "ename": "KeyboardInterrupt",
     "evalue": "",
     "output_type": "error",
     "traceback": [
      "\u001b[0;31m-----------------------------------------------------------------\u001b[0m",
      "\u001b[0;31mKeyboardInterrupt\u001b[0m               Traceback (most recent call last)",
      "\u001b[0;32m<ipython-input-194-42ee01b35127>\u001b[0m in \u001b[0;36m<module>\u001b[0;34m\u001b[0m\n\u001b[1;32m      1\u001b[0m history = model.fit(x,\n\u001b[1;32m      2\u001b[0m                    \u001b[0my\u001b[0m\u001b[0;34m,\u001b[0m\u001b[0;34m\u001b[0m\u001b[0;34m\u001b[0m\u001b[0m\n\u001b[0;32m----> 3\u001b[0;31m                    epochs=10000)\n\u001b[0m",
      "\u001b[0;32m~/.local/lib/python3.7/site-packages/tensorflow/python/keras/engine/training.py\u001b[0m in \u001b[0;36mfit\u001b[0;34m(self, x, y, batch_size, epochs, verbose, callbacks, validation_split, validation_data, shuffle, class_weight, sample_weight, initial_epoch, steps_per_epoch, validation_steps, validation_freq, max_queue_size, workers, use_multiprocessing, **kwargs)\u001b[0m\n\u001b[1;32m    641\u001b[0m         \u001b[0mmax_queue_size\u001b[0m\u001b[0;34m=\u001b[0m\u001b[0mmax_queue_size\u001b[0m\u001b[0;34m,\u001b[0m\u001b[0;34m\u001b[0m\u001b[0;34m\u001b[0m\u001b[0m\n\u001b[1;32m    642\u001b[0m         \u001b[0mworkers\u001b[0m\u001b[0;34m=\u001b[0m\u001b[0mworkers\u001b[0m\u001b[0;34m,\u001b[0m\u001b[0;34m\u001b[0m\u001b[0;34m\u001b[0m\u001b[0m\n\u001b[0;32m--> 643\u001b[0;31m         use_multiprocessing=use_multiprocessing)\n\u001b[0m\u001b[1;32m    644\u001b[0m \u001b[0;34m\u001b[0m\u001b[0m\n\u001b[1;32m    645\u001b[0m   def evaluate(self,\n",
      "\u001b[0;32m~/.local/lib/python3.7/site-packages/tensorflow/python/keras/engine/training_arrays.py\u001b[0m in \u001b[0;36mfit\u001b[0;34m(self, model, x, y, batch_size, epochs, verbose, callbacks, validation_split, validation_data, shuffle, class_weight, sample_weight, initial_epoch, steps_per_epoch, validation_steps, validation_freq, **kwargs)\u001b[0m\n\u001b[1;32m    662\u001b[0m         \u001b[0mvalidation_steps\u001b[0m\u001b[0;34m=\u001b[0m\u001b[0mvalidation_steps\u001b[0m\u001b[0;34m,\u001b[0m\u001b[0;34m\u001b[0m\u001b[0;34m\u001b[0m\u001b[0m\n\u001b[1;32m    663\u001b[0m         \u001b[0mvalidation_freq\u001b[0m\u001b[0;34m=\u001b[0m\u001b[0mvalidation_freq\u001b[0m\u001b[0;34m,\u001b[0m\u001b[0;34m\u001b[0m\u001b[0;34m\u001b[0m\u001b[0m\n\u001b[0;32m--> 664\u001b[0;31m         steps_name='steps_per_epoch')\n\u001b[0m\u001b[1;32m    665\u001b[0m \u001b[0;34m\u001b[0m\u001b[0m\n\u001b[1;32m    666\u001b[0m   def evaluate(self,\n",
      "\u001b[0;32m~/.local/lib/python3.7/site-packages/tensorflow/python/keras/engine/training_arrays.py\u001b[0m in \u001b[0;36mmodel_iteration\u001b[0;34m(model, inputs, targets, sample_weights, batch_size, epochs, verbose, callbacks, val_inputs, val_targets, val_sample_weights, shuffle, initial_epoch, steps_per_epoch, validation_steps, validation_freq, mode, validation_in_fit, prepared_feed_values_from_dataset, steps_name, **kwargs)\u001b[0m\n\u001b[1;32m    381\u001b[0m \u001b[0;34m\u001b[0m\u001b[0m\n\u001b[1;32m    382\u001b[0m         \u001b[0;31m# Get outputs.\u001b[0m\u001b[0;34m\u001b[0m\u001b[0;34m\u001b[0m\u001b[0;34m\u001b[0m\u001b[0m\n\u001b[0;32m--> 383\u001b[0;31m         \u001b[0mbatch_outs\u001b[0m \u001b[0;34m=\u001b[0m \u001b[0mf\u001b[0m\u001b[0;34m(\u001b[0m\u001b[0mins_batch\u001b[0m\u001b[0;34m)\u001b[0m\u001b[0;34m\u001b[0m\u001b[0;34m\u001b[0m\u001b[0m\n\u001b[0m\u001b[1;32m    384\u001b[0m         \u001b[0;32mif\u001b[0m \u001b[0;32mnot\u001b[0m \u001b[0misinstance\u001b[0m\u001b[0;34m(\u001b[0m\u001b[0mbatch_outs\u001b[0m\u001b[0;34m,\u001b[0m \u001b[0mlist\u001b[0m\u001b[0;34m)\u001b[0m\u001b[0;34m:\u001b[0m\u001b[0;34m\u001b[0m\u001b[0;34m\u001b[0m\u001b[0m\n\u001b[1;32m    385\u001b[0m           \u001b[0mbatch_outs\u001b[0m \u001b[0;34m=\u001b[0m \u001b[0;34m[\u001b[0m\u001b[0mbatch_outs\u001b[0m\u001b[0;34m]\u001b[0m\u001b[0;34m\u001b[0m\u001b[0;34m\u001b[0m\u001b[0m\n",
      "\u001b[0;32m~/.local/lib/python3.7/site-packages/tensorflow/python/keras/backend.py\u001b[0m in \u001b[0;36m__call__\u001b[0;34m(self, inputs)\u001b[0m\n\u001b[1;32m   3508\u001b[0m         \u001b[0mvalue\u001b[0m \u001b[0;34m=\u001b[0m \u001b[0mmath_ops\u001b[0m\u001b[0;34m.\u001b[0m\u001b[0mcast\u001b[0m\u001b[0;34m(\u001b[0m\u001b[0mvalue\u001b[0m\u001b[0;34m,\u001b[0m \u001b[0mtensor\u001b[0m\u001b[0;34m.\u001b[0m\u001b[0mdtype\u001b[0m\u001b[0;34m)\u001b[0m\u001b[0;34m\u001b[0m\u001b[0;34m\u001b[0m\u001b[0m\n\u001b[1;32m   3509\u001b[0m       \u001b[0mconverted_inputs\u001b[0m\u001b[0;34m.\u001b[0m\u001b[0mappend\u001b[0m\u001b[0;34m(\u001b[0m\u001b[0mvalue\u001b[0m\u001b[0;34m)\u001b[0m\u001b[0;34m\u001b[0m\u001b[0;34m\u001b[0m\u001b[0m\n\u001b[0;32m-> 3510\u001b[0;31m     \u001b[0moutputs\u001b[0m \u001b[0;34m=\u001b[0m \u001b[0mself\u001b[0m\u001b[0;34m.\u001b[0m\u001b[0m_graph_fn\u001b[0m\u001b[0;34m(\u001b[0m\u001b[0;34m*\u001b[0m\u001b[0mconverted_inputs\u001b[0m\u001b[0;34m)\u001b[0m\u001b[0;34m\u001b[0m\u001b[0;34m\u001b[0m\u001b[0m\n\u001b[0m\u001b[1;32m   3511\u001b[0m \u001b[0;34m\u001b[0m\u001b[0m\n\u001b[1;32m   3512\u001b[0m     \u001b[0;31m# EagerTensor.numpy() will often make a copy to ensure memory safety.\u001b[0m\u001b[0;34m\u001b[0m\u001b[0;34m\u001b[0m\u001b[0;34m\u001b[0m\u001b[0m\n",
      "\u001b[0;32m~/.local/lib/python3.7/site-packages/tensorflow/python/eager/function.py\u001b[0m in \u001b[0;36m__call__\u001b[0;34m(self, *args, **kwargs)\u001b[0m\n\u001b[1;32m    570\u001b[0m       raise TypeError(\"Keyword arguments {} unknown. Expected {}.\".format(\n\u001b[1;32m    571\u001b[0m           list(kwargs.keys()), list(self._arg_keywords)))\n\u001b[0;32m--> 572\u001b[0;31m     \u001b[0;32mreturn\u001b[0m \u001b[0mself\u001b[0m\u001b[0;34m.\u001b[0m\u001b[0m_call_flat\u001b[0m\u001b[0;34m(\u001b[0m\u001b[0margs\u001b[0m\u001b[0;34m)\u001b[0m\u001b[0;34m\u001b[0m\u001b[0;34m\u001b[0m\u001b[0m\n\u001b[0m\u001b[1;32m    573\u001b[0m \u001b[0;34m\u001b[0m\u001b[0m\n\u001b[1;32m    574\u001b[0m   \u001b[0;32mdef\u001b[0m \u001b[0m_filtered_call\u001b[0m\u001b[0;34m(\u001b[0m\u001b[0mself\u001b[0m\u001b[0;34m,\u001b[0m \u001b[0margs\u001b[0m\u001b[0;34m,\u001b[0m \u001b[0mkwargs\u001b[0m\u001b[0;34m)\u001b[0m\u001b[0;34m:\u001b[0m\u001b[0;34m\u001b[0m\u001b[0;34m\u001b[0m\u001b[0m\n",
      "\u001b[0;32m~/.local/lib/python3.7/site-packages/tensorflow/python/eager/function.py\u001b[0m in \u001b[0;36m_call_flat\u001b[0;34m(self, args)\u001b[0m\n\u001b[1;32m    669\u001b[0m     \u001b[0;31m# Only need to override the gradient in graph mode and when we have outputs.\u001b[0m\u001b[0;34m\u001b[0m\u001b[0;34m\u001b[0m\u001b[0;34m\u001b[0m\u001b[0m\n\u001b[1;32m    670\u001b[0m     \u001b[0;32mif\u001b[0m \u001b[0mcontext\u001b[0m\u001b[0;34m.\u001b[0m\u001b[0mexecuting_eagerly\u001b[0m\u001b[0;34m(\u001b[0m\u001b[0;34m)\u001b[0m \u001b[0;32mor\u001b[0m \u001b[0;32mnot\u001b[0m \u001b[0mself\u001b[0m\u001b[0;34m.\u001b[0m\u001b[0moutputs\u001b[0m\u001b[0;34m:\u001b[0m\u001b[0;34m\u001b[0m\u001b[0;34m\u001b[0m\u001b[0m\n\u001b[0;32m--> 671\u001b[0;31m       \u001b[0moutputs\u001b[0m \u001b[0;34m=\u001b[0m \u001b[0mself\u001b[0m\u001b[0;34m.\u001b[0m\u001b[0m_inference_function\u001b[0m\u001b[0;34m.\u001b[0m\u001b[0mcall\u001b[0m\u001b[0;34m(\u001b[0m\u001b[0mctx\u001b[0m\u001b[0;34m,\u001b[0m \u001b[0margs\u001b[0m\u001b[0;34m)\u001b[0m\u001b[0;34m\u001b[0m\u001b[0;34m\u001b[0m\u001b[0m\n\u001b[0m\u001b[1;32m    672\u001b[0m     \u001b[0;32melse\u001b[0m\u001b[0;34m:\u001b[0m\u001b[0;34m\u001b[0m\u001b[0;34m\u001b[0m\u001b[0m\n\u001b[1;32m    673\u001b[0m       \u001b[0mself\u001b[0m\u001b[0;34m.\u001b[0m\u001b[0m_register_gradient\u001b[0m\u001b[0;34m(\u001b[0m\u001b[0;34m)\u001b[0m\u001b[0;34m\u001b[0m\u001b[0;34m\u001b[0m\u001b[0m\n",
      "\u001b[0;32m~/.local/lib/python3.7/site-packages/tensorflow/python/eager/function.py\u001b[0m in \u001b[0;36mcall\u001b[0;34m(self, ctx, args)\u001b[0m\n\u001b[1;32m    443\u001b[0m             attrs=(\"executor_type\", executor_type,\n\u001b[1;32m    444\u001b[0m                    \"config_proto\", config),\n\u001b[0;32m--> 445\u001b[0;31m             ctx=ctx)\n\u001b[0m\u001b[1;32m    446\u001b[0m       \u001b[0;31m# Replace empty list with None\u001b[0m\u001b[0;34m\u001b[0m\u001b[0;34m\u001b[0m\u001b[0;34m\u001b[0m\u001b[0m\n\u001b[1;32m    447\u001b[0m       \u001b[0moutputs\u001b[0m \u001b[0;34m=\u001b[0m \u001b[0moutputs\u001b[0m \u001b[0;32mor\u001b[0m \u001b[0;32mNone\u001b[0m\u001b[0;34m\u001b[0m\u001b[0;34m\u001b[0m\u001b[0m\n",
      "\u001b[0;32m~/.local/lib/python3.7/site-packages/tensorflow/python/eager/execute.py\u001b[0m in \u001b[0;36mquick_execute\u001b[0;34m(op_name, num_outputs, inputs, attrs, ctx, name)\u001b[0m\n\u001b[1;32m     59\u001b[0m     tensors = pywrap_tensorflow.TFE_Py_Execute(ctx._handle, device_name,\n\u001b[1;32m     60\u001b[0m                                                \u001b[0mop_name\u001b[0m\u001b[0;34m,\u001b[0m \u001b[0minputs\u001b[0m\u001b[0;34m,\u001b[0m \u001b[0mattrs\u001b[0m\u001b[0;34m,\u001b[0m\u001b[0;34m\u001b[0m\u001b[0;34m\u001b[0m\u001b[0m\n\u001b[0;32m---> 61\u001b[0;31m                                                num_outputs)\n\u001b[0m\u001b[1;32m     62\u001b[0m   \u001b[0;32mexcept\u001b[0m \u001b[0mcore\u001b[0m\u001b[0;34m.\u001b[0m\u001b[0m_NotOkStatusException\u001b[0m \u001b[0;32mas\u001b[0m \u001b[0me\u001b[0m\u001b[0;34m:\u001b[0m\u001b[0;34m\u001b[0m\u001b[0;34m\u001b[0m\u001b[0m\n\u001b[1;32m     63\u001b[0m     \u001b[0;32mif\u001b[0m \u001b[0mname\u001b[0m \u001b[0;32mis\u001b[0m \u001b[0;32mnot\u001b[0m \u001b[0;32mNone\u001b[0m\u001b[0;34m:\u001b[0m\u001b[0;34m\u001b[0m\u001b[0;34m\u001b[0m\u001b[0m\n",
      "\u001b[0;31mKeyboardInterrupt\u001b[0m: "
     ]
    }
   ],
   "source": [
    "history = model.fit(x,\n",
    "                   y,\n",
    "                   epochs=10000)"
   ]
  },
  {
   "cell_type": "code",
   "execution_count": null,
   "metadata": {},
   "outputs": [],
   "source": []
  },
  {
   "cell_type": "raw",
   "metadata": {},
   "source": [
    "tensorboard = TensorBoard(log_dir='./logs/{}'.format(time()))"
   ]
  },
  {
   "cell_type": "code",
   "execution_count": null,
   "metadata": {},
   "outputs": [],
   "source": []
  }
 ],
 "metadata": {
  "kernelspec": {
   "display_name": "Python 3",
   "language": "python",
   "name": "python3"
  },
  "language_info": {
   "codemirror_mode": {
    "name": "ipython",
    "version": 3
   },
   "file_extension": ".py",
   "mimetype": "text/x-python",
   "name": "python",
   "nbconvert_exporter": "python",
   "pygments_lexer": "ipython3",
   "version": "3.7.3"
  }
 },
 "nbformat": 4,
 "nbformat_minor": 2
}
