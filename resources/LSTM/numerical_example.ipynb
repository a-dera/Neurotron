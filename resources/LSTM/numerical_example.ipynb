{
 "cells": [
  {
   "cell_type": "code",
   "execution_count": 146,
   "metadata": {},
   "outputs": [],
   "source": [
    "import numpy as np"
   ]
  },
  {
   "cell_type": "code",
   "execution_count": 147,
   "metadata": {},
   "outputs": [
    {
     "name": "stdout",
     "output_type": "stream",
     "text": [
      "[[0.45 0.95 0.7  0.6 ]\n",
      " [0.25 0.8  0.45 0.4 ]] [0.15 0.8  0.1  0.25]\n"
     ]
    }
   ],
   "source": [
    "# Initial inputs\n",
    "x0 = np.array([1, 2])\n",
    "x1 = np.array([0.5, 3])\n",
    "\n",
    "# Labels\n",
    "y0 = 0.5\n",
    "y1 = 1.25\n",
    "\n",
    "# Initial weights\n",
    "Wa = np.array([0.45, 0.25])\n",
    "Wi = np.array([0.95, 0.8])\n",
    "Wf = np.array([0.7, 0.45])\n",
    "Wo = np.array([0.6, 0.4])\n",
    "W = np.array([Wa, Wi, Wf, Wo])\n",
    "WT = np.transpose(W)\n",
    "\n",
    "# Initial weights associated with prev output (ht-1)\n",
    "Ua = 0.15\n",
    "Ui = 0.8\n",
    "Uf = 0.1\n",
    "Uo = 0.25\n",
    "U = np.array([Ua, Ui, Uf, Uo])\n",
    "UT = np.transpose(U)\n",
    "\n",
    "# Biases\n",
    "ba = 0.2\n",
    "bi = 0.65\n",
    "bf = 0.15\n",
    "bo = 0.1\n",
    "b = np.array([ba, bi, bf, bo])\n",
    "\n",
    "# Assume initial output of previous state as 0\n",
    "ht = 0\n",
    "Ct = 0\n",
    "print(WT, U)"
   ]
  },
  {
   "cell_type": "code",
   "execution_count": 148,
   "metadata": {},
   "outputs": [],
   "source": [
    "def sigmoid(x):\n",
    "    return 1 / (1 + np.exp(-x))"
   ]
  },
  {
   "cell_type": "code",
   "execution_count": 149,
   "metadata": {},
   "outputs": [
    {
     "name": "stdout",
     "output_type": "stream",
     "text": [
      "a0:  0.8177540779702877 \n",
      "i0:  0.9608342772032357 \n",
      "f0:  0.8519528019683106 \n",
      "o0:  0.8175744761936437\n"
     ]
    }
   ],
   "source": [
    "# Forward pass t=0, part 1 (gates)\n",
    "a0 = np.tanh(np.dot(Wa, x0) + np.dot(Ua, ht) + ba)\n",
    "i0 = sigmoid(np.dot(Wi, x0) + np.dot(Ui, ht) + bi)\n",
    "f0 = sigmoid(np.dot(Wf, x0) + np.dot(Uf, ht) + bf)\n",
    "o0 = sigmoid(np.dot(Wo, x0) + np.dot(Uo, ht) + bo)\n",
    "print(\"a0: \", a0, \"\\ni0: \", i0, \"\\nf0: \", f0, \"\\no0: \", o0)"
   ]
  },
  {
   "cell_type": "code",
   "execution_count": 150,
   "metadata": {},
   "outputs": [
    {
     "name": "stdout",
     "output_type": "stream",
     "text": [
      "Ct0:  0.7857261484365797 \n",
      "ht0:  0.5363133978820118\n"
     ]
    }
   ],
   "source": [
    "# Forward pass t=0, part 2 (state and output)\n",
    "Ct0 = np.dot(a0, i0) + np.dot(f0, Ct)\n",
    "ht0 = np.dot(np.tanh(Ct0), o0)\n",
    "print(\"Ct0: \", Ct0, \"\\nht0: \", ht0)"
   ]
  },
  {
   "cell_type": "code",
   "execution_count": 151,
   "metadata": {},
   "outputs": [
    {
     "name": "stdout",
     "output_type": "stream",
     "text": [
      "a1:  0.8498040223194213 \n",
      "i1:  0.9811839683254171 \n",
      "f1:  0.8703019698552491 \n",
      "o1:  0.8499333428022842\n"
     ]
    }
   ],
   "source": [
    "# Forward pass t=1, part 1 (gates)\n",
    "a1 = np.tanh(np.dot(Wa, x1) + np.dot(Ua, ht0) + ba)\n",
    "i1 = sigmoid(np.dot(Wi, x1) + np.dot(Ui, ht0) + bi)\n",
    "f1 = sigmoid(np.dot(Wf, x1) + np.dot(Uf, ht0) + bf)\n",
    "o1 = sigmoid(np.dot(Wo, x1) + np.dot(Uo, ht0) + bo)\n",
    "print(\"a1: \", a1, \"\\ni1: \", i1, \"\\nf1: \", f1, \"\\no1: \", o1)"
   ]
  },
  {
   "cell_type": "code",
   "execution_count": 152,
   "metadata": {},
   "outputs": [
    {
     "name": "stdout",
     "output_type": "stream",
     "text": [
      "Ct1:  1.5176330976694041 \n",
      "ht1:  0.7719811057588907\n"
     ]
    }
   ],
   "source": [
    "# Forward pass t=1, part 2 (state and output)\n",
    "Ct1 = np.dot(a1, i1) + np.dot(f1, Ct0)\n",
    "ht1 = np.dot(np.tanh(Ct1), o1)\n",
    "print(\"Ct1: \", Ct1, \"\\nht1: \", ht1)"
   ]
  },
  {
   "cell_type": "code",
   "execution_count": 153,
   "metadata": {},
   "outputs": [
    {
     "name": "stdout",
     "output_type": "stream",
     "text": [
      "Loss 0: 0.0006593314328686503 Loss 1: 0.11425103162574643\n",
      "dLdWo1:  [-0.02768892 -0.16613349] \n",
      "dLdWa1:  [-0.00969217 -0.05815304] \n",
      "dLdWi1:  [-0.00055781 -0.00334684] \n",
      "dLdWf1:  [-0.00315327 -0.01891963]\n"
     ]
    },
    {
     "data": {
      "text/plain": [
       "-0.01938434750774075"
      ]
     },
     "execution_count": 153,
     "metadata": {},
     "output_type": "execute_result"
    }
   ],
   "source": [
    "# Backward pass t=1\n",
    "Loss0 = ((ht0 - y0)**2)/2\n",
    "Loss1 = ((ht1 - y1)**2)/2\n",
    "print(\"Loss 0:\", Loss0, \"Loss 1:\", Loss1)\n",
    "dL1dht1 = ht1 - y1\n",
    "dht1do1 = np.tanh(Ct1)\n",
    "do1dz1 = o1 * (1 - o1)\n",
    "dz1dWo1 = x1\n",
    "dLdWo1 = dL1dht1*dht1do1*do1dz1*dz1dWo1\n",
    "\n",
    "dht1dCt1 = (1-(np.tanh(Ct1)**2))*o1\n",
    "\n",
    "dstate = dL1dht1*dht1dCt1\n",
    "\n",
    "dCt1da1 = i1\n",
    "da1dz1 = 1-a1**2\n",
    "da = dstate*i1*(1-a1**2)\n",
    "dz1dWa1 = x1\n",
    "dLdWa1 = dL1dht1*dht1dCt1*dCt1da1*da1dz1*dz1dWa1\n",
    "\n",
    "dCt1di1 = a1 \n",
    "di1dz1 = i1*(1 - i1)\n",
    "dz1dWi = x1\n",
    "dLdWi1 = dL1dht1*dht1dCt1*dCt1di1*di1dz1*dz1dWi\n",
    "\n",
    "dCt1df1 = Ct0 \n",
    "df1dz = f1*(1 - f1)\n",
    "dzdWf1 = x1\n",
    "dLdWf1 = dL1dht1*dht1dCt1*dCt1df1*df1dz*dzdWf1\n",
    "print(\"dLdWo1: \", dLdWo1, \"\\ndLdWa1: \", dLdWa1, \"\\ndLdWi1: \", dLdWi1, \"\\ndLdWf1: \", dLdWf1)\n",
    "dht1dCt1\n",
    "dL1dht1\n",
    "dstate\n",
    "da"
   ]
  },
  {
   "cell_type": "code",
   "execution_count": 155,
   "metadata": {},
   "outputs": [
    {
     "name": "stdout",
     "output_type": "stream",
     "text": [
      "Loss 0: 0.0006593314328686503 Loss 1: 0.11425103162574643\n",
      "dLdWo0:  [0.0035528  0.00710561] \n",
      "dLdWa0:  0.005383606814026229 \n",
      "dLdWi0:  [0.00052049 0.00104097] \n",
      "dLdWf0:  [0. 0.]\n"
     ]
    }
   ],
   "source": [
    "# Backward pass t=0\n",
    "print(\"Loss 0:\", Loss0, \"Loss 1:\", Loss1)\n",
    "dL0dht0 = ht0 - y0\n",
    "dht0do0 = np.tanh(Ct0)\n",
    "do0dz0 = o0 * (1 - o0)\n",
    "dz0dWo0 = x0\n",
    "dLdWo0 = dL0dht0*dht0do0*do0dz0*dz0dWo0\n",
    "\n",
    "dht0dCt0 = (1-np.tanh(Ct0)**2)*o0\n",
    "dCt0da0 = i0\n",
    "da0dz0 = 1-a0**2\n",
    "dz0dWa0 = x0\n",
    "dLdWa0 = dL0dht0*dht0dCt0*dCt0da0*da0dz0 #*dz0dWa0\n",
    "\n",
    "dCt0di0 = a0 \n",
    "di0dz0 = i0*(1 - i0)\n",
    "dz0dWi0 = x0\n",
    "dLdWi0 = dL0dht0*dht0dCt0*dCt0di0*di0dz0*dz0dWi0\n",
    "\n",
    "dCt0df0 = Ct\n",
    "df0dz = f0*(1 - f0)\n",
    "dzdWf0 = x0\n",
    "dLdWf0 = dL0dht0*dht0dCt0*dCt0df0*df0dz*dzdWf0\n",
    "print(\"dLdWo0: \", dLdWo0, \"\\ndLdWa0: \", dLdWa0, \"\\ndLdWi0: \", dLdWi0, \"\\ndLdWf0: \", dLdWf0)"
   ]
  },
  {
   "cell_type": "code",
   "execution_count": 156,
   "metadata": {},
   "outputs": [
    {
     "data": {
      "text/plain": [
       "array([-0.00430857, -0.05276944])"
      ]
     },
     "execution_count": 156,
     "metadata": {},
     "output_type": "execute_result"
    }
   ],
   "source": [
    "dW = dLdWa0 + dLdWa1\n",
    "dW"
   ]
  },
  {
   "cell_type": "code",
   "execution_count": 157,
   "metadata": {},
   "outputs": [
    {
     "data": {
      "text/plain": [
       "array([0.45043086, 0.25527694])"
      ]
     },
     "execution_count": 157,
     "metadata": {},
     "output_type": "execute_result"
    }
   ],
   "source": [
    "Wa1 = Wa - 0.1*(dLdWa0 + dLdWa1)\n",
    "Wa1"
   ]
  },
  {
   "cell_type": "code",
   "execution_count": 158,
   "metadata": {},
   "outputs": [
    {
     "ename": "SyntaxError",
     "evalue": "invalid syntax (<ipython-input-158-6a3b9c995dce>, line 2)",
     "output_type": "error",
     "traceback": [
      "\u001b[0;36m  File \u001b[0;32m\"<ipython-input-158-6a3b9c995dce>\"\u001b[0;36m, line \u001b[0;32m2\u001b[0m\n\u001b[0;31m    deltaT0 = delta t the output difference as computed by any subsequent layers\u001b[0m\n\u001b[0m                    ^\u001b[0m\n\u001b[0;31mSyntaxError\u001b[0m\u001b[0;31m:\u001b[0m invalid syntax\n"
     ]
    }
   ],
   "source": [
    "# Backward pass delta components\n",
    "deltaT0 = delta t the output difference as computed by any subsequent layers\n",
    "deltaOut0 = UT * dgates1 #delta out the output difference as computed by the next time-step LSTM \n",
    "\n",
    "# Let's find:\n",
    "dout0 = deltaT0 + deltaOut0\n",
    "dstate0 = dout0 * ot0 * (1 - np.tanh(Ct0)**2) + (dstate1 * f1) #equivalent to dL0/dCt0 + dL1/dCt1\n",
    "\n",
    "# dgates are the deltas at the gate that will be used to calculate then the final derivative for a respective weight\n",
    "# W, U and b\n",
    "da0 = dCt0 * i0 * (1 - a0**2)\n",
    "di0 = dCt0 * a0 * i0 * (1 - i0)\n",
    "df0 = dCt0 * Ct-1 * f0 * (1 - f0)\n",
    "do0 = dout0 * np.tanh(Ct0) * o0 * (1 - o0)\n",
    "dx0 = WT * dgates0 #What is this?\n",
    "deltaOut-1 = UT * dgates0\n",
    "\n",
    "# Final updates to the internal parameters are computed as:\n",
    "dgates = [da0, di0, df0, do0]\n",
    "dW = dgates0*x0 + dgates1*x1 + ... + dgatesn*xn\n",
    "dU = dgates1*out0 + dgates2*out1 + ... + dgates3*out2\n",
    "db = dgates1 + ... + dgates2"
   ]
  },
  {
   "cell_type": "code",
   "execution_count": 159,
   "metadata": {},
   "outputs": [
    {
     "name": "stdout",
     "output_type": "stream",
     "text": [
      "Loss1:  0.11425103162574643 \n",
      "delta1:  -0.4780188942411093 \n",
      "deltaOut:  0 \n",
      "dout1:  -0.4780188942411093 \n",
      "dCt1:  -0.07110771475756385 \n",
      "da1:  -0.01938434750774075 \n",
      "di1:  -0.001115614070446023 \n",
      "df1:  -0.006306541742007648 \n",
      "do1:  -0.05537783112520711 \n",
      "dgates1:  [-0.01938435 -0.00111561 -0.00630654 -0.05537783] \n",
      "dx1:  [-0.04742407 -0.03072765] \n",
      "deltaOut0:  -0.018275255338020473\n"
     ]
    }
   ],
   "source": [
    "# Backward pass t=1 Deltas\n",
    "Loss1 = ((ht1 - y1)**2)/2\n",
    "delta1 = ht1 - y1 \n",
    "deltaOut = 0 #because there are no future time-steps\n",
    "dout1 = delta1 + deltaOut\n",
    "dCt2 = 0\n",
    "f2 = 0\n",
    "dCt1 = dout1 * o1 * (1-np.tanh(Ct1)**2) + dCt2 * f2 # backprop into state\n",
    "da1 = dCt1*i1*(1 - a1**2)  # backprop into gate a\n",
    "di1 = dCt1*a1*i1*(1 - i1)  # backprop into gate i                        \n",
    "df1 = dCt1*Ct0*f1*(1-f1)   # backprop into gate f\n",
    "do1 = dout1*np.tanh(Ct1)*o1*(1 - o1)  # backprop into gate o\n",
    "dgates1 = np.array([da1, di1, df1, do1]) # all gate deltas\n",
    "dx1 = np.matmul(WT, dgates1)             # backprop into input\n",
    "deltaOut0 = np.dot(UT, dgates1)          # backprop into prev h\n",
    "print(\"Loss1: \", Loss1, \"\\ndelta1: \", delta1, \"\\ndeltaOut: \", deltaOut, \"\\ndout1: \", dout1, \"\\ndCt1: \", dCt1,\n",
    "      \"\\nda1: \", da1, \"\\ndi1: \", di1, \"\\ndf1: \", df1, \"\\ndo1: \", do1, \"\\ndgates1: \", dgates1, \"\\ndx1: \", dx1,\n",
    "      \"\\ndeltaOut0: \", deltaOut0)"
   ]
  },
  {
   "cell_type": "raw",
   "metadata": {},
   "source": [
    "# Backward pass t=1 Deltas\n",
    "Loss1 = ((ht1 - y1)**2)/2\n",
    "delta1 = ht1 - y1 \n",
    "dh2 = 0 #because there are no future time-steps\n",
    "dh1 = delta1 + dh2\n",
    "dCt2 = 0\n",
    "f2 = 0\n",
    "dCt1 = dh1 * o1 * (1-np.tanh(Ct1)**2) + dCt2 * f2 # backprop into state\n",
    "da1 = dCt1*i1*(1 - a1**2)  # backprop into gate a\n",
    "di1 = dCt1*a1*i1*(1 - i1)  # backprop into gate i                        \n",
    "df1 = dCt1*Ct0*f1*(1-f1)   # backprop into gate f\n",
    "do1 = dh1*np.tanh(Ct1)*o1*(1 - o1)  # backprop into gate o\n",
    "dgates1 = np.array([da1, di1, df1, do1]) # all gate deltas\n",
    "dx1 = np.matmul(WT, dgates1)             # backprop into input\n",
    "deltaOut0 = np.dot(UT, dgates1)          # backprop into prev h\n",
    "print(\"Loss1: \", Loss1, \"\\ndelta1: \", delta1, \"\\ndeltaOut: \", deltaOut, \"\\ndout1: \", dout1, \"\\ndCt1: \", dCt1,\n",
    "      \"\\nda1: \", da1, \"\\ndi1: \", di1, \"\\ndf1: \", df1, \"\\ndo1: \", do1, \"\\ndgates1: \", dgates1, \"\\ndx1: \", dx1,\n",
    "      \"\\ndeltaOut0: \", deltaOut0)"
   ]
  },
  {
   "cell_type": "code",
   "execution_count": 160,
   "metadata": {},
   "outputs": [
    {
     "name": "stdout",
     "output_type": "stream",
     "text": [
      "Loss0:  0.0006593314328686503 \n",
      "delta0:  0.03631339788201182 \n",
      "deltaOut:  -0.003429111652144951 \n",
      "dout0:  0.01803814254399135 \n",
      "dCt0:  -0.05348368434062696 \n",
      "da0:  -0.01938434750774075 \n",
      "di0:  -0.001115614070446023 \n",
      "df0:  -0.006306541742007648 \n",
      "do0:  0.0017648023073026033 \n",
      "dgates0:  [-0.01702404 -0.00164588 -0.          0.0017648 ] \n",
      "dx0:  [-0.00816553 -0.0048668 ] \n",
      "deltaOut:  -0.003429111652144951\n"
     ]
    }
   ],
   "source": [
    "# Backward pass t=0 Deltas\n",
    "Loss0 = ((ht0 - y0)**2)/2\n",
    "delta0 = ht0 - y0\n",
    "#deltaOut0 = 0 #because there are no future time-steps\n",
    "dout0 = delta0 + deltaOut0\n",
    "dCt0 = dout0 * o0 * (1-np.tanh(Ct0)**2) + (dCt1 * f1)\n",
    "da0 = dCt0*i0*(1 - (a0**2))\n",
    "di0 = dCt0*a0*i0*(1 - i0)\n",
    "Ct = 0\n",
    "df0 = dCt0*Ct*f0*(1-f0)\n",
    "do0 = dout0*np.tanh(Ct0)*o0*(1 - o0)\n",
    "dgates0 = np.array([da0, di0, df0, do0])\n",
    "dx0 = np.matmul(WT, dgates0)\n",
    "deltaOut = np.dot(UT, dgates0)\n",
    "print(\"Loss0: \", Loss0, \"\\ndelta0: \", delta0, \"\\ndeltaOut: \", deltaOut, \"\\ndout0: \", dout0, \"\\ndCt0: \", dCt0,\n",
    "      \"\\nda0: \", da1, \"\\ndi0: \", di1, \"\\ndf0: \", df1, \"\\ndo0: \", do0, \"\\ndgates0: \", dgates0, \"\\ndx0: \", dx0,\n",
    "      \"\\ndeltaOut: \", deltaOut)"
   ]
  },
  {
   "cell_type": "code",
   "execution_count": 161,
   "metadata": {},
   "outputs": [
    {
     "data": {
      "text/plain": [
       "(4,)"
      ]
     },
     "execution_count": 161,
     "metadata": {},
     "output_type": "execute_result"
    }
   ],
   "source": [
    "dgates0.shape"
   ]
  },
  {
   "cell_type": "code",
   "execution_count": 162,
   "metadata": {},
   "outputs": [
    {
     "name": "stdout",
     "output_type": "stream",
     "text": [
      "[[-0.01702404 -0.00164588 -0.          0.0017648 ]]\n",
      "(1, 2)\n",
      "(2,)\n",
      "(2,)\n"
     ]
    }
   ],
   "source": [
    "print(np.array(np.transpose(dgates0)).reshape(1, 4))\n",
    "print(x0.reshape(1, 2).shape)\n",
    "print(x0.shape)\n",
    "print(np.transpose(x0).shape)"
   ]
  },
  {
   "cell_type": "code",
   "execution_count": 163,
   "metadata": {},
   "outputs": [
    {
     "data": {
      "text/plain": [
       "array([[-0.02671622, -0.09220113],\n",
       "       [-0.00220369, -0.00663861],\n",
       "       [-0.00315327, -0.01891963],\n",
       "       [-0.02592411, -0.16260389]])"
      ]
     },
     "execution_count": 163,
     "metadata": {},
     "output_type": "execute_result"
    }
   ],
   "source": [
    "# Changing weights\n",
    "dW = np.outer(dgates0, x0) + np.outer(dgates1, (x1))\n",
    "dW"
   ]
  },
  {
   "cell_type": "code",
   "execution_count": 164,
   "metadata": {},
   "outputs": [
    {
     "data": {
      "text/plain": [
       "array([-0.01039609, -0.00059832, -0.00338228, -0.02969987])"
      ]
     },
     "execution_count": 164,
     "metadata": {},
     "output_type": "execute_result"
    }
   ],
   "source": [
    "dU = np.outer(dgates1, ht0)\n",
    "dU1 = np.dot(dgates1, ht)\n",
    "dU = dgates1*ht0\n",
    "#print('{0:.16f}'.format(dU))\n",
    "dU"
   ]
  },
  {
   "cell_type": "code",
   "execution_count": 165,
   "metadata": {},
   "outputs": [
    {
     "data": {
      "text/plain": [
       "array([-0.03640839, -0.0027615 , -0.00630654, -0.05361303])"
      ]
     },
     "execution_count": 165,
     "metadata": {},
     "output_type": "execute_result"
    }
   ],
   "source": [
    "db = dgates0 + dgates1\n",
    "db"
   ]
  },
  {
   "cell_type": "code",
   "execution_count": 169,
   "metadata": {},
   "outputs": [
    {
     "name": "stdout",
     "output_type": "stream",
     "text": [
      "W1: \n",
      " [[0.45267162 0.25922011]\n",
      " [0.95022037 0.80066386]\n",
      " [0.70031533 0.45189196]\n",
      " [0.60259241 0.41626039]]\n",
      "\n",
      "U1:  [0.15103961 0.80005983 0.10033823 0.25296999]\n",
      "\n",
      "b1:  [0.20364084 0.65027615 0.15063065 0.1053613 ]\n"
     ]
    }
   ],
   "source": [
    "# Updating all weights\n",
    "lr = 0.1\n",
    "W1 = W - (lr*dW)\n",
    "print(\"W1: \\n\",W1)\n",
    "U1 = U - (lr*dU)\n",
    "print(\"\\nU1: \", U1)\n",
    "b1 = b - (lr*db)\n",
    "print(\"\\nb1: \", b1)"
   ]
  },
  {
   "cell_type": "code",
   "execution_count": null,
   "metadata": {},
   "outputs": [],
   "source": []
  }
 ],
 "metadata": {
  "kernelspec": {
   "display_name": "Python 3",
   "language": "python",
   "name": "python3"
  },
  "language_info": {
   "codemirror_mode": {
    "name": "ipython",
    "version": 3
   },
   "file_extension": ".py",
   "mimetype": "text/x-python",
   "name": "python",
   "nbconvert_exporter": "python",
   "pygments_lexer": "ipython3",
   "version": "3.7.0"
  }
 },
 "nbformat": 4,
 "nbformat_minor": 2
}
