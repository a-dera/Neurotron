{
 "cells": [
  {
   "cell_type": "code",
   "execution_count": 45,
   "metadata": {
    "colab": {},
    "colab_type": "code",
    "id": "zVVZVITgsO2f"
   },
   "outputs": [],
   "source": [
    "#!pip install tensorflow-gpu==2.0.0-alpha0\n",
    "import collections\n",
    "import pandas as pd\n",
    "import numpy as np\n",
    "import time\n",
    "import os\n",
    "import tensorflow as tf\n",
    "from tensorflow.keras.layers import *\n",
    "from tensorflow.keras.models import Model\n",
    "from tensorflow.keras.models import load_model\n",
    "from tensorflow.keras.utils import plot_model\n",
    "import matplotlib.pyplot as plt\n",
    "pd.set_option('display.max_columns', 500)"
   ]
  },
  {
   "cell_type": "code",
   "execution_count": 36,
   "metadata": {},
   "outputs": [],
   "source": [
    "os.environ['HDF5_USE_FILE_LOCKING'] = 'FALSE'"
   ]
  },
  {
   "cell_type": "code",
   "execution_count": 3,
   "metadata": {
    "colab": {
     "base_uri": "https://localhost:8080/",
     "height": 34
    },
    "colab_type": "code",
    "id": "JyZf23BCshld",
    "outputId": "509aed21-883c-4b1f-bf16-ca06bc2d8593"
   },
   "outputs": [
    {
     "data": {
      "text/plain": [
       "'1.13.1'"
      ]
     },
     "execution_count": 3,
     "metadata": {},
     "output_type": "execute_result"
    }
   ],
   "source": [
    "tf.__version__"
   ]
  },
  {
   "cell_type": "code",
   "execution_count": 2,
   "metadata": {},
   "outputs": [],
   "source": [
    "pwd = os.getcwd()"
   ]
  },
  {
   "cell_type": "raw",
   "metadata": {
    "colab": {},
    "colab_type": "code",
    "id": "S-PJIXylsO2i"
   },
   "source": [
    "df_0 = pd.read_csv(pwd + \"../../datasets/full_data/data_90644_1561101188.22012_thomas.csv\")\n",
    "df_1 = pd.read_csv(pwd + \"../../datasets/full_data/data_90600_1562039621.778815_jose.csv\")\n",
    "df_2 = pd.read_csv(pwd + \"../../datasets/full_data/data_90457_1562039922.327703_thomas.csv\")\n",
    "df_3 = pd.read_csv(pwd + \"../../datasets/full_data/data_90619_1562889372.0289652_jose.csv\")"
   ]
  },
  {
   "cell_type": "code",
   "execution_count": 3,
   "metadata": {},
   "outputs": [],
   "source": [
    "df = pd.read_csv('/nfs/2018/j/jcruz-y-/neurotron_datasets/joined_data_66002_24-Oct-19_12:09_jose_thumb_1.csv')"
   ]
  },
  {
   "cell_type": "code",
   "execution_count": 4,
   "metadata": {
    "colab": {
     "base_uri": "https://localhost:8080/",
     "height": 258
    },
    "colab_type": "code",
    "id": "ECLRqRSGsO2k",
    "outputId": "e991c459-9d1f-44e4-ee98-46ec63be8d97"
   },
   "outputs": [
    {
     "data": {
      "text/html": [
       "<div>\n",
       "<style scoped>\n",
       "    .dataframe tbody tr th:only-of-type {\n",
       "        vertical-align: middle;\n",
       "    }\n",
       "\n",
       "    .dataframe tbody tr th {\n",
       "        vertical-align: top;\n",
       "    }\n",
       "\n",
       "    .dataframe thead th {\n",
       "        text-align: right;\n",
       "    }\n",
       "</style>\n",
       "<table border=\"1\" class=\"dataframe\">\n",
       "  <thead>\n",
       "    <tr style=\"text-align: right;\">\n",
       "      <th></th>\n",
       "      <th>Leap timestamp</th>\n",
       "      <th>timestamp diff</th>\n",
       "      <th>emg timestamp</th>\n",
       "      <th>ch1</th>\n",
       "      <th>ch2</th>\n",
       "      <th>ch3</th>\n",
       "      <th>ch4</th>\n",
       "      <th>ch5</th>\n",
       "      <th>ch6</th>\n",
       "      <th>ch7</th>\n",
       "      <th>ch8</th>\n",
       "      <th>Wrist x</th>\n",
       "      <th>Wrist y</th>\n",
       "      <th>Wrist z</th>\n",
       "      <th>Thumb Proximal x</th>\n",
       "      <th>Thumb Proximal y</th>\n",
       "      <th>Thumb Proximal z</th>\n",
       "      <th>Thumb Intermediate x</th>\n",
       "      <th>Thumb Intermediate y</th>\n",
       "      <th>Thumb Intermediate z</th>\n",
       "      <th>Thumb Distal x</th>\n",
       "      <th>Thumb Distal y</th>\n",
       "      <th>Thumb Distal z</th>\n",
       "      <th>Thumb Tip x</th>\n",
       "      <th>Thumb Tip y</th>\n",
       "      <th>Thumb Tip z</th>\n",
       "      <th>Index Proximal x</th>\n",
       "      <th>Index Proximal y</th>\n",
       "      <th>Index Proximal z</th>\n",
       "      <th>Index Intermediate x</th>\n",
       "      <th>Index Intermediate y</th>\n",
       "      <th>Index Intermediate z</th>\n",
       "      <th>Index Distal x</th>\n",
       "      <th>Index Distal y</th>\n",
       "      <th>Index Distal z</th>\n",
       "      <th>Index Tip x</th>\n",
       "      <th>Index Tip y</th>\n",
       "      <th>Index Tip z</th>\n",
       "      <th>Middle Proximal x</th>\n",
       "      <th>Middle Proximal y</th>\n",
       "      <th>Middle Proximal z</th>\n",
       "      <th>Middle Intermediate x</th>\n",
       "      <th>Middle Intermediate y</th>\n",
       "      <th>Middle Intermediate z</th>\n",
       "      <th>Middle Distal x</th>\n",
       "      <th>Middle Distal y</th>\n",
       "      <th>Middle Distal z</th>\n",
       "      <th>Middle Tip x</th>\n",
       "      <th>Middle Tip y</th>\n",
       "      <th>Middle Tip z</th>\n",
       "      <th>Ring Proximal x</th>\n",
       "      <th>Ring Proximal y</th>\n",
       "      <th>Ring Proximal z</th>\n",
       "      <th>Ring Intermediate x</th>\n",
       "      <th>Ring Intermediate y</th>\n",
       "      <th>Ring Intermediate z</th>\n",
       "      <th>Ring Distal x</th>\n",
       "      <th>Ring Distal y</th>\n",
       "      <th>Ring Distal z</th>\n",
       "      <th>Ring Tip x</th>\n",
       "      <th>Ring Tip y</th>\n",
       "      <th>Ring Tip z</th>\n",
       "      <th>Pinky Proximal x</th>\n",
       "      <th>Pinky Proximal y</th>\n",
       "      <th>Pinky Proximal z</th>\n",
       "      <th>Pinky Intermediate x</th>\n",
       "      <th>Pinky Intermediate y</th>\n",
       "      <th>Pinky Intermediate z</th>\n",
       "      <th>Pinky Distal x</th>\n",
       "      <th>Pinky Distal y</th>\n",
       "      <th>Pinky Distal z</th>\n",
       "      <th>Pinky Tip x</th>\n",
       "      <th>Pinky Tip y</th>\n",
       "      <th>Pinky Tip z</th>\n",
       "    </tr>\n",
       "  </thead>\n",
       "  <tbody>\n",
       "    <tr>\n",
       "      <th>0</th>\n",
       "      <td>1.571881e+09</td>\n",
       "      <td>0.027255</td>\n",
       "      <td>1.571881e+09</td>\n",
       "      <td>36.0</td>\n",
       "      <td>134.0</td>\n",
       "      <td>52.0</td>\n",
       "      <td>66.0</td>\n",
       "      <td>40.0</td>\n",
       "      <td>23.0</td>\n",
       "      <td>18.0</td>\n",
       "      <td>19.0</td>\n",
       "      <td>14.774895</td>\n",
       "      <td>-41.911118</td>\n",
       "      <td>28.868484</td>\n",
       "      <td>-13.722885</td>\n",
       "      <td>-44.715561</td>\n",
       "      <td>36.808525</td>\n",
       "      <td>-44.649223</td>\n",
       "      <td>-14.084595</td>\n",
       "      <td>15.750854</td>\n",
       "      <td>-65.168022</td>\n",
       "      <td>6.654526</td>\n",
       "      <td>0.268753</td>\n",
       "      <td>-80.627174</td>\n",
       "      <td>21.239609</td>\n",
       "      <td>-7.620781</td>\n",
       "      <td>-22.661293</td>\n",
       "      <td>25.786606</td>\n",
       "      <td>-0.747406</td>\n",
       "      <td>-32.294617</td>\n",
       "      <td>50.715622</td>\n",
       "      <td>-32.648777</td>\n",
       "      <td>-43.066952</td>\n",
       "      <td>48.442886</td>\n",
       "      <td>-53.312187</td>\n",
       "      <td>-50.781441</td>\n",
       "      <td>38.295547</td>\n",
       "      <td>-63.868496</td>\n",
       "      <td>-3.352757</td>\n",
       "      <td>22.706833</td>\n",
       "      <td>-9.535362</td>\n",
       "      <td>-13.627308</td>\n",
       "      <td>50.289932</td>\n",
       "      <td>-45.779358</td>\n",
       "      <td>-29.183559</td>\n",
       "      <td>47.039230</td>\n",
       "      <td>-68.278320</td>\n",
       "      <td>-40.014397</td>\n",
       "      <td>35.496567</td>\n",
       "      <td>-77.268532</td>\n",
       "      <td>15.537476</td>\n",
       "      <td>13.339523</td>\n",
       "      <td>-16.065361</td>\n",
       "      <td>6.849747</td>\n",
       "      <td>38.003555</td>\n",
       "      <td>-50.552784</td>\n",
       "      <td>-9.218124</td>\n",
       "      <td>34.708237</td>\n",
       "      <td>-71.790627</td>\n",
       "      <td>-21.013229</td>\n",
       "      <td>23.535507</td>\n",
       "      <td>-79.766327</td>\n",
       "      <td>30.426750</td>\n",
       "      <td>0.853592</td>\n",
       "      <td>-23.319221</td>\n",
       "      <td>29.460793</td>\n",
       "      <td>21.646652</td>\n",
       "      <td>-50.520226</td>\n",
       "      <td>18.767494</td>\n",
       "      <td>22.918198</td>\n",
       "      <td>-66.108513</td>\n",
       "      <td>5.993256</td>\n",
       "      <td>16.304031</td>\n",
       "      <td>-74.585464</td>\n",
       "    </tr>\n",
       "    <tr>\n",
       "      <th>1</th>\n",
       "      <td>1.571881e+09</td>\n",
       "      <td>-0.020455</td>\n",
       "      <td>1.571881e+09</td>\n",
       "      <td>46.0</td>\n",
       "      <td>127.0</td>\n",
       "      <td>56.0</td>\n",
       "      <td>69.0</td>\n",
       "      <td>39.0</td>\n",
       "      <td>24.0</td>\n",
       "      <td>21.0</td>\n",
       "      <td>18.0</td>\n",
       "      <td>15.120982</td>\n",
       "      <td>-42.337372</td>\n",
       "      <td>28.053088</td>\n",
       "      <td>-13.366233</td>\n",
       "      <td>-45.582881</td>\n",
       "      <td>35.859851</td>\n",
       "      <td>-44.456287</td>\n",
       "      <td>-14.032547</td>\n",
       "      <td>16.490850</td>\n",
       "      <td>-64.699994</td>\n",
       "      <td>7.276586</td>\n",
       "      <td>1.431384</td>\n",
       "      <td>-79.674077</td>\n",
       "      <td>22.149185</td>\n",
       "      <td>-6.839289</td>\n",
       "      <td>-22.914069</td>\n",
       "      <td>25.570582</td>\n",
       "      <td>-0.285380</td>\n",
       "      <td>-32.556740</td>\n",
       "      <td>51.323532</td>\n",
       "      <td>-31.518884</td>\n",
       "      <td>-43.270885</td>\n",
       "      <td>49.242498</td>\n",
       "      <td>-52.232421</td>\n",
       "      <td>-50.819617</td>\n",
       "      <td>39.019445</td>\n",
       "      <td>-62.835171</td>\n",
       "      <td>-3.555122</td>\n",
       "      <td>22.860102</td>\n",
       "      <td>-9.082870</td>\n",
       "      <td>-13.594410</td>\n",
       "      <td>51.217290</td>\n",
       "      <td>-44.789654</td>\n",
       "      <td>-28.984478</td>\n",
       "      <td>48.243515</td>\n",
       "      <td>-67.440371</td>\n",
       "      <td>-39.664645</td>\n",
       "      <td>36.703740</td>\n",
       "      <td>-76.612325</td>\n",
       "      <td>15.442546</td>\n",
       "      <td>13.814092</td>\n",
       "      <td>-15.751143</td>\n",
       "      <td>6.629501</td>\n",
       "      <td>39.062078</td>\n",
       "      <td>-49.779775</td>\n",
       "      <td>-9.407192</td>\n",
       "      <td>35.813777</td>\n",
       "      <td>-71.048355</td>\n",
       "      <td>-21.036837</td>\n",
       "      <td>24.502365</td>\n",
       "      <td>-79.071009</td>\n",
       "      <td>30.472186</td>\n",
       "      <td>1.625575</td>\n",
       "      <td>-23.216618</td>\n",
       "      <td>29.163127</td>\n",
       "      <td>22.834732</td>\n",
       "      <td>-50.078665</td>\n",
       "      <td>18.304637</td>\n",
       "      <td>24.026291</td>\n",
       "      <td>-65.558462</td>\n",
       "      <td>5.574804</td>\n",
       "      <td>17.155980</td>\n",
       "      <td>-73.896576</td>\n",
       "    </tr>\n",
       "    <tr>\n",
       "      <th>2</th>\n",
       "      <td>1.571881e+09</td>\n",
       "      <td>0.001832</td>\n",
       "      <td>1.571881e+09</td>\n",
       "      <td>46.0</td>\n",
       "      <td>128.0</td>\n",
       "      <td>82.0</td>\n",
       "      <td>71.0</td>\n",
       "      <td>47.0</td>\n",
       "      <td>27.0</td>\n",
       "      <td>20.0</td>\n",
       "      <td>19.0</td>\n",
       "      <td>15.236916</td>\n",
       "      <td>-42.699860</td>\n",
       "      <td>27.436996</td>\n",
       "      <td>-13.256252</td>\n",
       "      <td>-46.192993</td>\n",
       "      <td>35.116188</td>\n",
       "      <td>-44.344387</td>\n",
       "      <td>-13.729218</td>\n",
       "      <td>17.290604</td>\n",
       "      <td>-64.217621</td>\n",
       "      <td>8.164429</td>\n",
       "      <td>2.574936</td>\n",
       "      <td>-78.699249</td>\n",
       "      <td>23.369995</td>\n",
       "      <td>-5.970657</td>\n",
       "      <td>-23.028225</td>\n",
       "      <td>25.470367</td>\n",
       "      <td>0.048111</td>\n",
       "      <td>-32.525551</td>\n",
       "      <td>51.962921</td>\n",
       "      <td>-30.609673</td>\n",
       "      <td>-43.179840</td>\n",
       "      <td>50.094788</td>\n",
       "      <td>-51.374573</td>\n",
       "      <td>-50.622570</td>\n",
       "      <td>39.835083</td>\n",
       "      <td>-62.017033</td>\n",
       "      <td>-3.633846</td>\n",
       "      <td>22.982605</td>\n",
       "      <td>-8.738350</td>\n",
       "      <td>-13.386490</td>\n",
       "      <td>51.681519</td>\n",
       "      <td>-44.252869</td>\n",
       "      <td>-28.673233</td>\n",
       "      <td>48.595428</td>\n",
       "      <td>-66.958786</td>\n",
       "      <td>-39.222069</td>\n",
       "      <td>36.870483</td>\n",
       "      <td>-76.047905</td>\n",
       "      <td>15.422112</td>\n",
       "      <td>14.125366</td>\n",
       "      <td>-15.494659</td>\n",
       "      <td>6.600189</td>\n",
       "      <td>39.797729</td>\n",
       "      <td>-49.203358</td>\n",
       "      <td>-9.420330</td>\n",
       "      <td>36.559906</td>\n",
       "      <td>-70.485764</td>\n",
       "      <td>-20.940365</td>\n",
       "      <td>25.131409</td>\n",
       "      <td>-78.501053</td>\n",
       "      <td>30.526321</td>\n",
       "      <td>2.120483</td>\n",
       "      <td>-23.107353</td>\n",
       "      <td>29.055214</td>\n",
       "      <td>23.661774</td>\n",
       "      <td>-49.696579</td>\n",
       "      <td>18.103806</td>\n",
       "      <td>24.847778</td>\n",
       "      <td>-65.111450</td>\n",
       "      <td>5.401817</td>\n",
       "      <td>17.842865</td>\n",
       "      <td>-73.380524</td>\n",
       "    </tr>\n",
       "    <tr>\n",
       "      <th>3</th>\n",
       "      <td>1.571881e+09</td>\n",
       "      <td>0.012555</td>\n",
       "      <td>1.571881e+09</td>\n",
       "      <td>49.0</td>\n",
       "      <td>127.0</td>\n",
       "      <td>93.0</td>\n",
       "      <td>62.0</td>\n",
       "      <td>47.0</td>\n",
       "      <td>29.0</td>\n",
       "      <td>19.0</td>\n",
       "      <td>19.0</td>\n",
       "      <td>15.193947</td>\n",
       "      <td>-42.856445</td>\n",
       "      <td>27.215775</td>\n",
       "      <td>-13.311451</td>\n",
       "      <td>-46.394211</td>\n",
       "      <td>34.828873</td>\n",
       "      <td>-44.329765</td>\n",
       "      <td>-13.574219</td>\n",
       "      <td>17.542091</td>\n",
       "      <td>-64.028793</td>\n",
       "      <td>8.557846</td>\n",
       "      <td>2.949364</td>\n",
       "      <td>-78.351013</td>\n",
       "      <td>23.913254</td>\n",
       "      <td>-5.597000</td>\n",
       "      <td>-23.029011</td>\n",
       "      <td>25.469223</td>\n",
       "      <td>0.157326</td>\n",
       "      <td>-32.445007</td>\n",
       "      <td>52.199661</td>\n",
       "      <td>-30.318516</td>\n",
       "      <td>-43.076836</td>\n",
       "      <td>50.372849</td>\n",
       "      <td>-51.098602</td>\n",
       "      <td>-50.483139</td>\n",
       "      <td>40.077469</td>\n",
       "      <td>-61.732010</td>\n",
       "      <td>-3.620434</td>\n",
       "      <td>23.032364</td>\n",
       "      <td>-8.612030</td>\n",
       "      <td>-13.285526</td>\n",
       "      <td>51.682907</td>\n",
       "      <td>-44.189465</td>\n",
       "      <td>-28.553608</td>\n",
       "      <td>48.388809</td>\n",
       "      <td>-66.878716</td>\n",
       "      <td>-39.047562</td>\n",
       "      <td>36.520248</td>\n",
       "      <td>-75.844070</td>\n",
       "      <td>15.446640</td>\n",
       "      <td>14.214432</td>\n",
       "      <td>-15.388409</td>\n",
       "      <td>6.616112</td>\n",
       "      <td>39.908096</td>\n",
       "      <td>-49.078632</td>\n",
       "      <td>-9.473755</td>\n",
       "      <td>36.347458</td>\n",
       "      <td>-70.256920</td>\n",
       "      <td>-20.912308</td>\n",
       "      <td>24.651230</td>\n",
       "      <td>-77.997948</td>\n",
       "      <td>30.563431</td>\n",
       "      <td>2.253769</td>\n",
       "      <td>-23.045597</td>\n",
       "      <td>29.076378</td>\n",
       "      <td>23.919327</td>\n",
       "      <td>-49.532791</td>\n",
       "      <td>18.089577</td>\n",
       "      <td>25.101242</td>\n",
       "      <td>-64.922768</td>\n",
       "      <td>5.390579</td>\n",
       "      <td>18.041702</td>\n",
       "      <td>-73.149887</td>\n",
       "    </tr>\n",
       "    <tr>\n",
       "      <th>4</th>\n",
       "      <td>1.571881e+09</td>\n",
       "      <td>-0.022679</td>\n",
       "      <td>1.571881e+09</td>\n",
       "      <td>46.0</td>\n",
       "      <td>129.0</td>\n",
       "      <td>102.0</td>\n",
       "      <td>70.0</td>\n",
       "      <td>45.0</td>\n",
       "      <td>27.0</td>\n",
       "      <td>19.0</td>\n",
       "      <td>22.0</td>\n",
       "      <td>15.117997</td>\n",
       "      <td>-43.421595</td>\n",
       "      <td>26.344393</td>\n",
       "      <td>-13.427787</td>\n",
       "      <td>-47.192200</td>\n",
       "      <td>33.687737</td>\n",
       "      <td>-44.322858</td>\n",
       "      <td>-13.556007</td>\n",
       "      <td>17.817881</td>\n",
       "      <td>-63.657493</td>\n",
       "      <td>9.176361</td>\n",
       "      <td>3.670753</td>\n",
       "      <td>-77.777748</td>\n",
       "      <td>24.916138</td>\n",
       "      <td>-4.500704</td>\n",
       "      <td>-23.089967</td>\n",
       "      <td>25.407130</td>\n",
       "      <td>0.577586</td>\n",
       "      <td>-32.345097</td>\n",
       "      <td>52.851161</td>\n",
       "      <td>-29.305072</td>\n",
       "      <td>-42.895341</td>\n",
       "      <td>51.015945</td>\n",
       "      <td>-50.125760</td>\n",
       "      <td>-50.114274</td>\n",
       "      <td>40.497136</td>\n",
       "      <td>-60.667524</td>\n",
       "      <td>-3.618973</td>\n",
       "      <td>23.210907</td>\n",
       "      <td>-8.115753</td>\n",
       "      <td>-13.347451</td>\n",
       "      <td>52.297602</td>\n",
       "      <td>-43.318001</td>\n",
       "      <td>-28.605190</td>\n",
       "      <td>48.790334</td>\n",
       "      <td>-65.981815</td>\n",
       "      <td>-38.904646</td>\n",
       "      <td>36.650874</td>\n",
       "      <td>-74.806619</td>\n",
       "      <td>15.512709</td>\n",
       "      <td>14.590017</td>\n",
       "      <td>-14.962332</td>\n",
       "      <td>6.630132</td>\n",
       "      <td>40.704824</td>\n",
       "      <td>-48.312019</td>\n",
       "      <td>-9.500531</td>\n",
       "      <td>36.824956</td>\n",
       "      <td>-69.402916</td>\n",
       "      <td>-20.729682</td>\n",
       "      <td>24.762156</td>\n",
       "      <td>-76.882117</td>\n",
       "      <td>30.707456</td>\n",
       "      <td>2.838465</td>\n",
       "      <td>-22.786043</td>\n",
       "      <td>29.020397</td>\n",
       "      <td>24.815206</td>\n",
       "      <td>-49.002844</td>\n",
       "      <td>17.808577</td>\n",
       "      <td>25.739614</td>\n",
       "      <td>-64.247178</td>\n",
       "      <td>5.136779</td>\n",
       "      <td>18.249273</td>\n",
       "      <td>-72.126537</td>\n",
       "    </tr>\n",
       "  </tbody>\n",
       "</table>\n",
       "</div>"
      ],
      "text/plain": [
       "   Leap timestamp  timestamp diff  emg timestamp   ch1    ch2    ch3   ch4  \\\n",
       "0    1.571881e+09        0.027255   1.571881e+09  36.0  134.0   52.0  66.0   \n",
       "1    1.571881e+09       -0.020455   1.571881e+09  46.0  127.0   56.0  69.0   \n",
       "2    1.571881e+09        0.001832   1.571881e+09  46.0  128.0   82.0  71.0   \n",
       "3    1.571881e+09        0.012555   1.571881e+09  49.0  127.0   93.0  62.0   \n",
       "4    1.571881e+09       -0.022679   1.571881e+09  46.0  129.0  102.0  70.0   \n",
       "\n",
       "    ch5   ch6   ch7   ch8    Wrist x    Wrist y    Wrist z  Thumb Proximal x  \\\n",
       "0  40.0  23.0  18.0  19.0  14.774895 -41.911118  28.868484        -13.722885   \n",
       "1  39.0  24.0  21.0  18.0  15.120982 -42.337372  28.053088        -13.366233   \n",
       "2  47.0  27.0  20.0  19.0  15.236916 -42.699860  27.436996        -13.256252   \n",
       "3  47.0  29.0  19.0  19.0  15.193947 -42.856445  27.215775        -13.311451   \n",
       "4  45.0  27.0  19.0  22.0  15.117997 -43.421595  26.344393        -13.427787   \n",
       "\n",
       "   Thumb Proximal y  Thumb Proximal z  Thumb Intermediate x  \\\n",
       "0        -44.715561         36.808525            -44.649223   \n",
       "1        -45.582881         35.859851            -44.456287   \n",
       "2        -46.192993         35.116188            -44.344387   \n",
       "3        -46.394211         34.828873            -44.329765   \n",
       "4        -47.192200         33.687737            -44.322858   \n",
       "\n",
       "   Thumb Intermediate y  Thumb Intermediate z  Thumb Distal x  Thumb Distal y  \\\n",
       "0            -14.084595             15.750854      -65.168022        6.654526   \n",
       "1            -14.032547             16.490850      -64.699994        7.276586   \n",
       "2            -13.729218             17.290604      -64.217621        8.164429   \n",
       "3            -13.574219             17.542091      -64.028793        8.557846   \n",
       "4            -13.556007             17.817881      -63.657493        9.176361   \n",
       "\n",
       "   Thumb Distal z  Thumb Tip x  Thumb Tip y  Thumb Tip z  Index Proximal x  \\\n",
       "0        0.268753   -80.627174    21.239609    -7.620781        -22.661293   \n",
       "1        1.431384   -79.674077    22.149185    -6.839289        -22.914069   \n",
       "2        2.574936   -78.699249    23.369995    -5.970657        -23.028225   \n",
       "3        2.949364   -78.351013    23.913254    -5.597000        -23.029011   \n",
       "4        3.670753   -77.777748    24.916138    -4.500704        -23.089967   \n",
       "\n",
       "   Index Proximal y  Index Proximal z  Index Intermediate x  \\\n",
       "0         25.786606         -0.747406            -32.294617   \n",
       "1         25.570582         -0.285380            -32.556740   \n",
       "2         25.470367          0.048111            -32.525551   \n",
       "3         25.469223          0.157326            -32.445007   \n",
       "4         25.407130          0.577586            -32.345097   \n",
       "\n",
       "   Index Intermediate y  Index Intermediate z  Index Distal x  Index Distal y  \\\n",
       "0             50.715622            -32.648777      -43.066952       48.442886   \n",
       "1             51.323532            -31.518884      -43.270885       49.242498   \n",
       "2             51.962921            -30.609673      -43.179840       50.094788   \n",
       "3             52.199661            -30.318516      -43.076836       50.372849   \n",
       "4             52.851161            -29.305072      -42.895341       51.015945   \n",
       "\n",
       "   Index Distal z  Index Tip x  Index Tip y  Index Tip z  Middle Proximal x  \\\n",
       "0      -53.312187   -50.781441    38.295547   -63.868496          -3.352757   \n",
       "1      -52.232421   -50.819617    39.019445   -62.835171          -3.555122   \n",
       "2      -51.374573   -50.622570    39.835083   -62.017033          -3.633846   \n",
       "3      -51.098602   -50.483139    40.077469   -61.732010          -3.620434   \n",
       "4      -50.125760   -50.114274    40.497136   -60.667524          -3.618973   \n",
       "\n",
       "   Middle Proximal y  Middle Proximal z  Middle Intermediate x  \\\n",
       "0          22.706833          -9.535362             -13.627308   \n",
       "1          22.860102          -9.082870             -13.594410   \n",
       "2          22.982605          -8.738350             -13.386490   \n",
       "3          23.032364          -8.612030             -13.285526   \n",
       "4          23.210907          -8.115753             -13.347451   \n",
       "\n",
       "   Middle Intermediate y  Middle Intermediate z  Middle Distal x  \\\n",
       "0              50.289932             -45.779358       -29.183559   \n",
       "1              51.217290             -44.789654       -28.984478   \n",
       "2              51.681519             -44.252869       -28.673233   \n",
       "3              51.682907             -44.189465       -28.553608   \n",
       "4              52.297602             -43.318001       -28.605190   \n",
       "\n",
       "   Middle Distal y  Middle Distal z  Middle Tip x  Middle Tip y  Middle Tip z  \\\n",
       "0        47.039230       -68.278320    -40.014397     35.496567    -77.268532   \n",
       "1        48.243515       -67.440371    -39.664645     36.703740    -76.612325   \n",
       "2        48.595428       -66.958786    -39.222069     36.870483    -76.047905   \n",
       "3        48.388809       -66.878716    -39.047562     36.520248    -75.844070   \n",
       "4        48.790334       -65.981815    -38.904646     36.650874    -74.806619   \n",
       "\n",
       "   Ring Proximal x  Ring Proximal y  Ring Proximal z  Ring Intermediate x  \\\n",
       "0        15.537476        13.339523       -16.065361             6.849747   \n",
       "1        15.442546        13.814092       -15.751143             6.629501   \n",
       "2        15.422112        14.125366       -15.494659             6.600189   \n",
       "3        15.446640        14.214432       -15.388409             6.616112   \n",
       "4        15.512709        14.590017       -14.962332             6.630132   \n",
       "\n",
       "   Ring Intermediate y  Ring Intermediate z  Ring Distal x  Ring Distal y  \\\n",
       "0            38.003555           -50.552784      -9.218124      34.708237   \n",
       "1            39.062078           -49.779775      -9.407192      35.813777   \n",
       "2            39.797729           -49.203358      -9.420330      36.559906   \n",
       "3            39.908096           -49.078632      -9.473755      36.347458   \n",
       "4            40.704824           -48.312019      -9.500531      36.824956   \n",
       "\n",
       "   Ring Distal z  Ring Tip x  Ring Tip y  Ring Tip z  Pinky Proximal x  \\\n",
       "0     -71.790627  -21.013229   23.535507  -79.766327         30.426750   \n",
       "1     -71.048355  -21.036837   24.502365  -79.071009         30.472186   \n",
       "2     -70.485764  -20.940365   25.131409  -78.501053         30.526321   \n",
       "3     -70.256920  -20.912308   24.651230  -77.997948         30.563431   \n",
       "4     -69.402916  -20.729682   24.762156  -76.882117         30.707456   \n",
       "\n",
       "   Pinky Proximal y  Pinky Proximal z  Pinky Intermediate x  \\\n",
       "0          0.853592        -23.319221             29.460793   \n",
       "1          1.625575        -23.216618             29.163127   \n",
       "2          2.120483        -23.107353             29.055214   \n",
       "3          2.253769        -23.045597             29.076378   \n",
       "4          2.838465        -22.786043             29.020397   \n",
       "\n",
       "   Pinky Intermediate y  Pinky Intermediate z  Pinky Distal x  Pinky Distal y  \\\n",
       "0             21.646652            -50.520226       18.767494       22.918198   \n",
       "1             22.834732            -50.078665       18.304637       24.026291   \n",
       "2             23.661774            -49.696579       18.103806       24.847778   \n",
       "3             23.919327            -49.532791       18.089577       25.101242   \n",
       "4             24.815206            -49.002844       17.808577       25.739614   \n",
       "\n",
       "   Pinky Distal z  Pinky Tip x  Pinky Tip y  Pinky Tip z  \n",
       "0      -66.108513     5.993256    16.304031   -74.585464  \n",
       "1      -65.558462     5.574804    17.155980   -73.896576  \n",
       "2      -65.111450     5.401817    17.842865   -73.380524  \n",
       "3      -64.922768     5.390579    18.041702   -73.149887  \n",
       "4      -64.247178     5.136779    18.249273   -72.126537  "
      ]
     },
     "execution_count": 4,
     "metadata": {},
     "output_type": "execute_result"
    }
   ],
   "source": [
    "df.head()"
   ]
  },
  {
   "cell_type": "code",
   "execution_count": 5,
   "metadata": {
    "colab": {},
    "colab_type": "code",
    "id": "y5mi31d2sO2m"
   },
   "outputs": [],
   "source": [
    "df = df.drop(labels=[\"Leap timestamp\", \"timestamp diff\", \"emg timestamp\"], axis=1)"
   ]
  },
  {
   "cell_type": "code",
   "execution_count": 6,
   "metadata": {
    "colab": {
     "base_uri": "https://localhost:8080/",
     "height": 258
    },
    "colab_type": "code",
    "id": "akjaYY0-sO2p",
    "outputId": "00c6902c-74e5-4035-e01c-4f4cd4d39862"
   },
   "outputs": [
    {
     "data": {
      "text/html": [
       "<div>\n",
       "<style scoped>\n",
       "    .dataframe tbody tr th:only-of-type {\n",
       "        vertical-align: middle;\n",
       "    }\n",
       "\n",
       "    .dataframe tbody tr th {\n",
       "        vertical-align: top;\n",
       "    }\n",
       "\n",
       "    .dataframe thead th {\n",
       "        text-align: right;\n",
       "    }\n",
       "</style>\n",
       "<table border=\"1\" class=\"dataframe\">\n",
       "  <thead>\n",
       "    <tr style=\"text-align: right;\">\n",
       "      <th></th>\n",
       "      <th>ch1</th>\n",
       "      <th>ch2</th>\n",
       "      <th>ch3</th>\n",
       "      <th>ch4</th>\n",
       "      <th>ch5</th>\n",
       "      <th>ch6</th>\n",
       "      <th>ch7</th>\n",
       "      <th>ch8</th>\n",
       "      <th>Wrist x</th>\n",
       "      <th>Wrist y</th>\n",
       "      <th>Wrist z</th>\n",
       "      <th>Thumb Proximal x</th>\n",
       "      <th>Thumb Proximal y</th>\n",
       "      <th>Thumb Proximal z</th>\n",
       "      <th>Thumb Intermediate x</th>\n",
       "      <th>Thumb Intermediate y</th>\n",
       "      <th>Thumb Intermediate z</th>\n",
       "      <th>Thumb Distal x</th>\n",
       "      <th>Thumb Distal y</th>\n",
       "      <th>Thumb Distal z</th>\n",
       "      <th>Thumb Tip x</th>\n",
       "      <th>Thumb Tip y</th>\n",
       "      <th>Thumb Tip z</th>\n",
       "      <th>Index Proximal x</th>\n",
       "      <th>Index Proximal y</th>\n",
       "      <th>Index Proximal z</th>\n",
       "      <th>Index Intermediate x</th>\n",
       "      <th>Index Intermediate y</th>\n",
       "      <th>Index Intermediate z</th>\n",
       "      <th>Index Distal x</th>\n",
       "      <th>Index Distal y</th>\n",
       "      <th>Index Distal z</th>\n",
       "      <th>Index Tip x</th>\n",
       "      <th>Index Tip y</th>\n",
       "      <th>Index Tip z</th>\n",
       "      <th>Middle Proximal x</th>\n",
       "      <th>Middle Proximal y</th>\n",
       "      <th>Middle Proximal z</th>\n",
       "      <th>Middle Intermediate x</th>\n",
       "      <th>Middle Intermediate y</th>\n",
       "      <th>Middle Intermediate z</th>\n",
       "      <th>Middle Distal x</th>\n",
       "      <th>Middle Distal y</th>\n",
       "      <th>Middle Distal z</th>\n",
       "      <th>Middle Tip x</th>\n",
       "      <th>Middle Tip y</th>\n",
       "      <th>Middle Tip z</th>\n",
       "      <th>Ring Proximal x</th>\n",
       "      <th>Ring Proximal y</th>\n",
       "      <th>Ring Proximal z</th>\n",
       "      <th>Ring Intermediate x</th>\n",
       "      <th>Ring Intermediate y</th>\n",
       "      <th>Ring Intermediate z</th>\n",
       "      <th>Ring Distal x</th>\n",
       "      <th>Ring Distal y</th>\n",
       "      <th>Ring Distal z</th>\n",
       "      <th>Ring Tip x</th>\n",
       "      <th>Ring Tip y</th>\n",
       "      <th>Ring Tip z</th>\n",
       "      <th>Pinky Proximal x</th>\n",
       "      <th>Pinky Proximal y</th>\n",
       "      <th>Pinky Proximal z</th>\n",
       "      <th>Pinky Intermediate x</th>\n",
       "      <th>Pinky Intermediate y</th>\n",
       "      <th>Pinky Intermediate z</th>\n",
       "      <th>Pinky Distal x</th>\n",
       "      <th>Pinky Distal y</th>\n",
       "      <th>Pinky Distal z</th>\n",
       "      <th>Pinky Tip x</th>\n",
       "      <th>Pinky Tip y</th>\n",
       "      <th>Pinky Tip z</th>\n",
       "    </tr>\n",
       "  </thead>\n",
       "  <tbody>\n",
       "    <tr>\n",
       "      <th>0</th>\n",
       "      <td>36.0</td>\n",
       "      <td>134.0</td>\n",
       "      <td>52.0</td>\n",
       "      <td>66.0</td>\n",
       "      <td>40.0</td>\n",
       "      <td>23.0</td>\n",
       "      <td>18.0</td>\n",
       "      <td>19.0</td>\n",
       "      <td>14.774895</td>\n",
       "      <td>-41.911118</td>\n",
       "      <td>28.868484</td>\n",
       "      <td>-13.722885</td>\n",
       "      <td>-44.715561</td>\n",
       "      <td>36.808525</td>\n",
       "      <td>-44.649223</td>\n",
       "      <td>-14.084595</td>\n",
       "      <td>15.750854</td>\n",
       "      <td>-65.168022</td>\n",
       "      <td>6.654526</td>\n",
       "      <td>0.268753</td>\n",
       "      <td>-80.627174</td>\n",
       "      <td>21.239609</td>\n",
       "      <td>-7.620781</td>\n",
       "      <td>-22.661293</td>\n",
       "      <td>25.786606</td>\n",
       "      <td>-0.747406</td>\n",
       "      <td>-32.294617</td>\n",
       "      <td>50.715622</td>\n",
       "      <td>-32.648777</td>\n",
       "      <td>-43.066952</td>\n",
       "      <td>48.442886</td>\n",
       "      <td>-53.312187</td>\n",
       "      <td>-50.781441</td>\n",
       "      <td>38.295547</td>\n",
       "      <td>-63.868496</td>\n",
       "      <td>-3.352757</td>\n",
       "      <td>22.706833</td>\n",
       "      <td>-9.535362</td>\n",
       "      <td>-13.627308</td>\n",
       "      <td>50.289932</td>\n",
       "      <td>-45.779358</td>\n",
       "      <td>-29.183559</td>\n",
       "      <td>47.039230</td>\n",
       "      <td>-68.278320</td>\n",
       "      <td>-40.014397</td>\n",
       "      <td>35.496567</td>\n",
       "      <td>-77.268532</td>\n",
       "      <td>15.537476</td>\n",
       "      <td>13.339523</td>\n",
       "      <td>-16.065361</td>\n",
       "      <td>6.849747</td>\n",
       "      <td>38.003555</td>\n",
       "      <td>-50.552784</td>\n",
       "      <td>-9.218124</td>\n",
       "      <td>34.708237</td>\n",
       "      <td>-71.790627</td>\n",
       "      <td>-21.013229</td>\n",
       "      <td>23.535507</td>\n",
       "      <td>-79.766327</td>\n",
       "      <td>30.426750</td>\n",
       "      <td>0.853592</td>\n",
       "      <td>-23.319221</td>\n",
       "      <td>29.460793</td>\n",
       "      <td>21.646652</td>\n",
       "      <td>-50.520226</td>\n",
       "      <td>18.767494</td>\n",
       "      <td>22.918198</td>\n",
       "      <td>-66.108513</td>\n",
       "      <td>5.993256</td>\n",
       "      <td>16.304031</td>\n",
       "      <td>-74.585464</td>\n",
       "    </tr>\n",
       "    <tr>\n",
       "      <th>1</th>\n",
       "      <td>46.0</td>\n",
       "      <td>127.0</td>\n",
       "      <td>56.0</td>\n",
       "      <td>69.0</td>\n",
       "      <td>39.0</td>\n",
       "      <td>24.0</td>\n",
       "      <td>21.0</td>\n",
       "      <td>18.0</td>\n",
       "      <td>15.120982</td>\n",
       "      <td>-42.337372</td>\n",
       "      <td>28.053088</td>\n",
       "      <td>-13.366233</td>\n",
       "      <td>-45.582881</td>\n",
       "      <td>35.859851</td>\n",
       "      <td>-44.456287</td>\n",
       "      <td>-14.032547</td>\n",
       "      <td>16.490850</td>\n",
       "      <td>-64.699994</td>\n",
       "      <td>7.276586</td>\n",
       "      <td>1.431384</td>\n",
       "      <td>-79.674077</td>\n",
       "      <td>22.149185</td>\n",
       "      <td>-6.839289</td>\n",
       "      <td>-22.914069</td>\n",
       "      <td>25.570582</td>\n",
       "      <td>-0.285380</td>\n",
       "      <td>-32.556740</td>\n",
       "      <td>51.323532</td>\n",
       "      <td>-31.518884</td>\n",
       "      <td>-43.270885</td>\n",
       "      <td>49.242498</td>\n",
       "      <td>-52.232421</td>\n",
       "      <td>-50.819617</td>\n",
       "      <td>39.019445</td>\n",
       "      <td>-62.835171</td>\n",
       "      <td>-3.555122</td>\n",
       "      <td>22.860102</td>\n",
       "      <td>-9.082870</td>\n",
       "      <td>-13.594410</td>\n",
       "      <td>51.217290</td>\n",
       "      <td>-44.789654</td>\n",
       "      <td>-28.984478</td>\n",
       "      <td>48.243515</td>\n",
       "      <td>-67.440371</td>\n",
       "      <td>-39.664645</td>\n",
       "      <td>36.703740</td>\n",
       "      <td>-76.612325</td>\n",
       "      <td>15.442546</td>\n",
       "      <td>13.814092</td>\n",
       "      <td>-15.751143</td>\n",
       "      <td>6.629501</td>\n",
       "      <td>39.062078</td>\n",
       "      <td>-49.779775</td>\n",
       "      <td>-9.407192</td>\n",
       "      <td>35.813777</td>\n",
       "      <td>-71.048355</td>\n",
       "      <td>-21.036837</td>\n",
       "      <td>24.502365</td>\n",
       "      <td>-79.071009</td>\n",
       "      <td>30.472186</td>\n",
       "      <td>1.625575</td>\n",
       "      <td>-23.216618</td>\n",
       "      <td>29.163127</td>\n",
       "      <td>22.834732</td>\n",
       "      <td>-50.078665</td>\n",
       "      <td>18.304637</td>\n",
       "      <td>24.026291</td>\n",
       "      <td>-65.558462</td>\n",
       "      <td>5.574804</td>\n",
       "      <td>17.155980</td>\n",
       "      <td>-73.896576</td>\n",
       "    </tr>\n",
       "    <tr>\n",
       "      <th>2</th>\n",
       "      <td>46.0</td>\n",
       "      <td>128.0</td>\n",
       "      <td>82.0</td>\n",
       "      <td>71.0</td>\n",
       "      <td>47.0</td>\n",
       "      <td>27.0</td>\n",
       "      <td>20.0</td>\n",
       "      <td>19.0</td>\n",
       "      <td>15.236916</td>\n",
       "      <td>-42.699860</td>\n",
       "      <td>27.436996</td>\n",
       "      <td>-13.256252</td>\n",
       "      <td>-46.192993</td>\n",
       "      <td>35.116188</td>\n",
       "      <td>-44.344387</td>\n",
       "      <td>-13.729218</td>\n",
       "      <td>17.290604</td>\n",
       "      <td>-64.217621</td>\n",
       "      <td>8.164429</td>\n",
       "      <td>2.574936</td>\n",
       "      <td>-78.699249</td>\n",
       "      <td>23.369995</td>\n",
       "      <td>-5.970657</td>\n",
       "      <td>-23.028225</td>\n",
       "      <td>25.470367</td>\n",
       "      <td>0.048111</td>\n",
       "      <td>-32.525551</td>\n",
       "      <td>51.962921</td>\n",
       "      <td>-30.609673</td>\n",
       "      <td>-43.179840</td>\n",
       "      <td>50.094788</td>\n",
       "      <td>-51.374573</td>\n",
       "      <td>-50.622570</td>\n",
       "      <td>39.835083</td>\n",
       "      <td>-62.017033</td>\n",
       "      <td>-3.633846</td>\n",
       "      <td>22.982605</td>\n",
       "      <td>-8.738350</td>\n",
       "      <td>-13.386490</td>\n",
       "      <td>51.681519</td>\n",
       "      <td>-44.252869</td>\n",
       "      <td>-28.673233</td>\n",
       "      <td>48.595428</td>\n",
       "      <td>-66.958786</td>\n",
       "      <td>-39.222069</td>\n",
       "      <td>36.870483</td>\n",
       "      <td>-76.047905</td>\n",
       "      <td>15.422112</td>\n",
       "      <td>14.125366</td>\n",
       "      <td>-15.494659</td>\n",
       "      <td>6.600189</td>\n",
       "      <td>39.797729</td>\n",
       "      <td>-49.203358</td>\n",
       "      <td>-9.420330</td>\n",
       "      <td>36.559906</td>\n",
       "      <td>-70.485764</td>\n",
       "      <td>-20.940365</td>\n",
       "      <td>25.131409</td>\n",
       "      <td>-78.501053</td>\n",
       "      <td>30.526321</td>\n",
       "      <td>2.120483</td>\n",
       "      <td>-23.107353</td>\n",
       "      <td>29.055214</td>\n",
       "      <td>23.661774</td>\n",
       "      <td>-49.696579</td>\n",
       "      <td>18.103806</td>\n",
       "      <td>24.847778</td>\n",
       "      <td>-65.111450</td>\n",
       "      <td>5.401817</td>\n",
       "      <td>17.842865</td>\n",
       "      <td>-73.380524</td>\n",
       "    </tr>\n",
       "    <tr>\n",
       "      <th>3</th>\n",
       "      <td>49.0</td>\n",
       "      <td>127.0</td>\n",
       "      <td>93.0</td>\n",
       "      <td>62.0</td>\n",
       "      <td>47.0</td>\n",
       "      <td>29.0</td>\n",
       "      <td>19.0</td>\n",
       "      <td>19.0</td>\n",
       "      <td>15.193947</td>\n",
       "      <td>-42.856445</td>\n",
       "      <td>27.215775</td>\n",
       "      <td>-13.311451</td>\n",
       "      <td>-46.394211</td>\n",
       "      <td>34.828873</td>\n",
       "      <td>-44.329765</td>\n",
       "      <td>-13.574219</td>\n",
       "      <td>17.542091</td>\n",
       "      <td>-64.028793</td>\n",
       "      <td>8.557846</td>\n",
       "      <td>2.949364</td>\n",
       "      <td>-78.351013</td>\n",
       "      <td>23.913254</td>\n",
       "      <td>-5.597000</td>\n",
       "      <td>-23.029011</td>\n",
       "      <td>25.469223</td>\n",
       "      <td>0.157326</td>\n",
       "      <td>-32.445007</td>\n",
       "      <td>52.199661</td>\n",
       "      <td>-30.318516</td>\n",
       "      <td>-43.076836</td>\n",
       "      <td>50.372849</td>\n",
       "      <td>-51.098602</td>\n",
       "      <td>-50.483139</td>\n",
       "      <td>40.077469</td>\n",
       "      <td>-61.732010</td>\n",
       "      <td>-3.620434</td>\n",
       "      <td>23.032364</td>\n",
       "      <td>-8.612030</td>\n",
       "      <td>-13.285526</td>\n",
       "      <td>51.682907</td>\n",
       "      <td>-44.189465</td>\n",
       "      <td>-28.553608</td>\n",
       "      <td>48.388809</td>\n",
       "      <td>-66.878716</td>\n",
       "      <td>-39.047562</td>\n",
       "      <td>36.520248</td>\n",
       "      <td>-75.844070</td>\n",
       "      <td>15.446640</td>\n",
       "      <td>14.214432</td>\n",
       "      <td>-15.388409</td>\n",
       "      <td>6.616112</td>\n",
       "      <td>39.908096</td>\n",
       "      <td>-49.078632</td>\n",
       "      <td>-9.473755</td>\n",
       "      <td>36.347458</td>\n",
       "      <td>-70.256920</td>\n",
       "      <td>-20.912308</td>\n",
       "      <td>24.651230</td>\n",
       "      <td>-77.997948</td>\n",
       "      <td>30.563431</td>\n",
       "      <td>2.253769</td>\n",
       "      <td>-23.045597</td>\n",
       "      <td>29.076378</td>\n",
       "      <td>23.919327</td>\n",
       "      <td>-49.532791</td>\n",
       "      <td>18.089577</td>\n",
       "      <td>25.101242</td>\n",
       "      <td>-64.922768</td>\n",
       "      <td>5.390579</td>\n",
       "      <td>18.041702</td>\n",
       "      <td>-73.149887</td>\n",
       "    </tr>\n",
       "    <tr>\n",
       "      <th>4</th>\n",
       "      <td>46.0</td>\n",
       "      <td>129.0</td>\n",
       "      <td>102.0</td>\n",
       "      <td>70.0</td>\n",
       "      <td>45.0</td>\n",
       "      <td>27.0</td>\n",
       "      <td>19.0</td>\n",
       "      <td>22.0</td>\n",
       "      <td>15.117997</td>\n",
       "      <td>-43.421595</td>\n",
       "      <td>26.344393</td>\n",
       "      <td>-13.427787</td>\n",
       "      <td>-47.192200</td>\n",
       "      <td>33.687737</td>\n",
       "      <td>-44.322858</td>\n",
       "      <td>-13.556007</td>\n",
       "      <td>17.817881</td>\n",
       "      <td>-63.657493</td>\n",
       "      <td>9.176361</td>\n",
       "      <td>3.670753</td>\n",
       "      <td>-77.777748</td>\n",
       "      <td>24.916138</td>\n",
       "      <td>-4.500704</td>\n",
       "      <td>-23.089967</td>\n",
       "      <td>25.407130</td>\n",
       "      <td>0.577586</td>\n",
       "      <td>-32.345097</td>\n",
       "      <td>52.851161</td>\n",
       "      <td>-29.305072</td>\n",
       "      <td>-42.895341</td>\n",
       "      <td>51.015945</td>\n",
       "      <td>-50.125760</td>\n",
       "      <td>-50.114274</td>\n",
       "      <td>40.497136</td>\n",
       "      <td>-60.667524</td>\n",
       "      <td>-3.618973</td>\n",
       "      <td>23.210907</td>\n",
       "      <td>-8.115753</td>\n",
       "      <td>-13.347451</td>\n",
       "      <td>52.297602</td>\n",
       "      <td>-43.318001</td>\n",
       "      <td>-28.605190</td>\n",
       "      <td>48.790334</td>\n",
       "      <td>-65.981815</td>\n",
       "      <td>-38.904646</td>\n",
       "      <td>36.650874</td>\n",
       "      <td>-74.806619</td>\n",
       "      <td>15.512709</td>\n",
       "      <td>14.590017</td>\n",
       "      <td>-14.962332</td>\n",
       "      <td>6.630132</td>\n",
       "      <td>40.704824</td>\n",
       "      <td>-48.312019</td>\n",
       "      <td>-9.500531</td>\n",
       "      <td>36.824956</td>\n",
       "      <td>-69.402916</td>\n",
       "      <td>-20.729682</td>\n",
       "      <td>24.762156</td>\n",
       "      <td>-76.882117</td>\n",
       "      <td>30.707456</td>\n",
       "      <td>2.838465</td>\n",
       "      <td>-22.786043</td>\n",
       "      <td>29.020397</td>\n",
       "      <td>24.815206</td>\n",
       "      <td>-49.002844</td>\n",
       "      <td>17.808577</td>\n",
       "      <td>25.739614</td>\n",
       "      <td>-64.247178</td>\n",
       "      <td>5.136779</td>\n",
       "      <td>18.249273</td>\n",
       "      <td>-72.126537</td>\n",
       "    </tr>\n",
       "  </tbody>\n",
       "</table>\n",
       "</div>"
      ],
      "text/plain": [
       "    ch1    ch2    ch3   ch4   ch5   ch6   ch7   ch8    Wrist x    Wrist y  \\\n",
       "0  36.0  134.0   52.0  66.0  40.0  23.0  18.0  19.0  14.774895 -41.911118   \n",
       "1  46.0  127.0   56.0  69.0  39.0  24.0  21.0  18.0  15.120982 -42.337372   \n",
       "2  46.0  128.0   82.0  71.0  47.0  27.0  20.0  19.0  15.236916 -42.699860   \n",
       "3  49.0  127.0   93.0  62.0  47.0  29.0  19.0  19.0  15.193947 -42.856445   \n",
       "4  46.0  129.0  102.0  70.0  45.0  27.0  19.0  22.0  15.117997 -43.421595   \n",
       "\n",
       "     Wrist z  Thumb Proximal x  Thumb Proximal y  Thumb Proximal z  \\\n",
       "0  28.868484        -13.722885        -44.715561         36.808525   \n",
       "1  28.053088        -13.366233        -45.582881         35.859851   \n",
       "2  27.436996        -13.256252        -46.192993         35.116188   \n",
       "3  27.215775        -13.311451        -46.394211         34.828873   \n",
       "4  26.344393        -13.427787        -47.192200         33.687737   \n",
       "\n",
       "   Thumb Intermediate x  Thumb Intermediate y  Thumb Intermediate z  \\\n",
       "0            -44.649223            -14.084595             15.750854   \n",
       "1            -44.456287            -14.032547             16.490850   \n",
       "2            -44.344387            -13.729218             17.290604   \n",
       "3            -44.329765            -13.574219             17.542091   \n",
       "4            -44.322858            -13.556007             17.817881   \n",
       "\n",
       "   Thumb Distal x  Thumb Distal y  Thumb Distal z  Thumb Tip x  Thumb Tip y  \\\n",
       "0      -65.168022        6.654526        0.268753   -80.627174    21.239609   \n",
       "1      -64.699994        7.276586        1.431384   -79.674077    22.149185   \n",
       "2      -64.217621        8.164429        2.574936   -78.699249    23.369995   \n",
       "3      -64.028793        8.557846        2.949364   -78.351013    23.913254   \n",
       "4      -63.657493        9.176361        3.670753   -77.777748    24.916138   \n",
       "\n",
       "   Thumb Tip z  Index Proximal x  Index Proximal y  Index Proximal z  \\\n",
       "0    -7.620781        -22.661293         25.786606         -0.747406   \n",
       "1    -6.839289        -22.914069         25.570582         -0.285380   \n",
       "2    -5.970657        -23.028225         25.470367          0.048111   \n",
       "3    -5.597000        -23.029011         25.469223          0.157326   \n",
       "4    -4.500704        -23.089967         25.407130          0.577586   \n",
       "\n",
       "   Index Intermediate x  Index Intermediate y  Index Intermediate z  \\\n",
       "0            -32.294617             50.715622            -32.648777   \n",
       "1            -32.556740             51.323532            -31.518884   \n",
       "2            -32.525551             51.962921            -30.609673   \n",
       "3            -32.445007             52.199661            -30.318516   \n",
       "4            -32.345097             52.851161            -29.305072   \n",
       "\n",
       "   Index Distal x  Index Distal y  Index Distal z  Index Tip x  Index Tip y  \\\n",
       "0      -43.066952       48.442886      -53.312187   -50.781441    38.295547   \n",
       "1      -43.270885       49.242498      -52.232421   -50.819617    39.019445   \n",
       "2      -43.179840       50.094788      -51.374573   -50.622570    39.835083   \n",
       "3      -43.076836       50.372849      -51.098602   -50.483139    40.077469   \n",
       "4      -42.895341       51.015945      -50.125760   -50.114274    40.497136   \n",
       "\n",
       "   Index Tip z  Middle Proximal x  Middle Proximal y  Middle Proximal z  \\\n",
       "0   -63.868496          -3.352757          22.706833          -9.535362   \n",
       "1   -62.835171          -3.555122          22.860102          -9.082870   \n",
       "2   -62.017033          -3.633846          22.982605          -8.738350   \n",
       "3   -61.732010          -3.620434          23.032364          -8.612030   \n",
       "4   -60.667524          -3.618973          23.210907          -8.115753   \n",
       "\n",
       "   Middle Intermediate x  Middle Intermediate y  Middle Intermediate z  \\\n",
       "0             -13.627308              50.289932             -45.779358   \n",
       "1             -13.594410              51.217290             -44.789654   \n",
       "2             -13.386490              51.681519             -44.252869   \n",
       "3             -13.285526              51.682907             -44.189465   \n",
       "4             -13.347451              52.297602             -43.318001   \n",
       "\n",
       "   Middle Distal x  Middle Distal y  Middle Distal z  Middle Tip x  \\\n",
       "0       -29.183559        47.039230       -68.278320    -40.014397   \n",
       "1       -28.984478        48.243515       -67.440371    -39.664645   \n",
       "2       -28.673233        48.595428       -66.958786    -39.222069   \n",
       "3       -28.553608        48.388809       -66.878716    -39.047562   \n",
       "4       -28.605190        48.790334       -65.981815    -38.904646   \n",
       "\n",
       "   Middle Tip y  Middle Tip z  Ring Proximal x  Ring Proximal y  \\\n",
       "0     35.496567    -77.268532        15.537476        13.339523   \n",
       "1     36.703740    -76.612325        15.442546        13.814092   \n",
       "2     36.870483    -76.047905        15.422112        14.125366   \n",
       "3     36.520248    -75.844070        15.446640        14.214432   \n",
       "4     36.650874    -74.806619        15.512709        14.590017   \n",
       "\n",
       "   Ring Proximal z  Ring Intermediate x  Ring Intermediate y  \\\n",
       "0       -16.065361             6.849747            38.003555   \n",
       "1       -15.751143             6.629501            39.062078   \n",
       "2       -15.494659             6.600189            39.797729   \n",
       "3       -15.388409             6.616112            39.908096   \n",
       "4       -14.962332             6.630132            40.704824   \n",
       "\n",
       "   Ring Intermediate z  Ring Distal x  Ring Distal y  Ring Distal z  \\\n",
       "0           -50.552784      -9.218124      34.708237     -71.790627   \n",
       "1           -49.779775      -9.407192      35.813777     -71.048355   \n",
       "2           -49.203358      -9.420330      36.559906     -70.485764   \n",
       "3           -49.078632      -9.473755      36.347458     -70.256920   \n",
       "4           -48.312019      -9.500531      36.824956     -69.402916   \n",
       "\n",
       "   Ring Tip x  Ring Tip y  Ring Tip z  Pinky Proximal x  Pinky Proximal y  \\\n",
       "0  -21.013229   23.535507  -79.766327         30.426750          0.853592   \n",
       "1  -21.036837   24.502365  -79.071009         30.472186          1.625575   \n",
       "2  -20.940365   25.131409  -78.501053         30.526321          2.120483   \n",
       "3  -20.912308   24.651230  -77.997948         30.563431          2.253769   \n",
       "4  -20.729682   24.762156  -76.882117         30.707456          2.838465   \n",
       "\n",
       "   Pinky Proximal z  Pinky Intermediate x  Pinky Intermediate y  \\\n",
       "0        -23.319221             29.460793             21.646652   \n",
       "1        -23.216618             29.163127             22.834732   \n",
       "2        -23.107353             29.055214             23.661774   \n",
       "3        -23.045597             29.076378             23.919327   \n",
       "4        -22.786043             29.020397             24.815206   \n",
       "\n",
       "   Pinky Intermediate z  Pinky Distal x  Pinky Distal y  Pinky Distal z  \\\n",
       "0            -50.520226       18.767494       22.918198      -66.108513   \n",
       "1            -50.078665       18.304637       24.026291      -65.558462   \n",
       "2            -49.696579       18.103806       24.847778      -65.111450   \n",
       "3            -49.532791       18.089577       25.101242      -64.922768   \n",
       "4            -49.002844       17.808577       25.739614      -64.247178   \n",
       "\n",
       "   Pinky Tip x  Pinky Tip y  Pinky Tip z  \n",
       "0     5.993256    16.304031   -74.585464  \n",
       "1     5.574804    17.155980   -73.896576  \n",
       "2     5.401817    17.842865   -73.380524  \n",
       "3     5.390579    18.041702   -73.149887  \n",
       "4     5.136779    18.249273   -72.126537  "
      ]
     },
     "execution_count": 6,
     "metadata": {},
     "output_type": "execute_result"
    }
   ],
   "source": [
    "df.head()"
   ]
  },
  {
   "cell_type": "code",
   "execution_count": 7,
   "metadata": {
    "colab": {
     "base_uri": "https://localhost:8080/",
     "height": 351
    },
    "colab_type": "code",
    "id": "yhYY9DaxjFIz",
    "outputId": "1bc6e0ea-af67-4b20-febf-8be595c99cf5"
   },
   "outputs": [
    {
     "data": {
      "text/html": [
       "<div>\n",
       "<style scoped>\n",
       "    .dataframe tbody tr th:only-of-type {\n",
       "        vertical-align: middle;\n",
       "    }\n",
       "\n",
       "    .dataframe tbody tr th {\n",
       "        vertical-align: top;\n",
       "    }\n",
       "\n",
       "    .dataframe thead th {\n",
       "        text-align: right;\n",
       "    }\n",
       "</style>\n",
       "<table border=\"1\" class=\"dataframe\">\n",
       "  <thead>\n",
       "    <tr style=\"text-align: right;\">\n",
       "      <th></th>\n",
       "      <th>ch1</th>\n",
       "      <th>ch2</th>\n",
       "      <th>ch3</th>\n",
       "      <th>ch4</th>\n",
       "      <th>ch5</th>\n",
       "      <th>ch6</th>\n",
       "      <th>ch7</th>\n",
       "      <th>ch8</th>\n",
       "      <th>Wrist x</th>\n",
       "      <th>Wrist y</th>\n",
       "      <th>Wrist z</th>\n",
       "      <th>Thumb Proximal x</th>\n",
       "      <th>Thumb Proximal y</th>\n",
       "      <th>Thumb Proximal z</th>\n",
       "      <th>Thumb Intermediate x</th>\n",
       "      <th>Thumb Intermediate y</th>\n",
       "      <th>Thumb Intermediate z</th>\n",
       "      <th>Thumb Distal x</th>\n",
       "      <th>Thumb Distal y</th>\n",
       "      <th>Thumb Distal z</th>\n",
       "      <th>Thumb Tip x</th>\n",
       "      <th>Thumb Tip y</th>\n",
       "      <th>Thumb Tip z</th>\n",
       "      <th>Index Proximal x</th>\n",
       "      <th>Index Proximal y</th>\n",
       "      <th>Index Proximal z</th>\n",
       "      <th>Index Intermediate x</th>\n",
       "      <th>Index Intermediate y</th>\n",
       "      <th>Index Intermediate z</th>\n",
       "      <th>Index Distal x</th>\n",
       "      <th>Index Distal y</th>\n",
       "      <th>Index Distal z</th>\n",
       "      <th>Index Tip x</th>\n",
       "      <th>Index Tip y</th>\n",
       "      <th>Index Tip z</th>\n",
       "      <th>Middle Proximal x</th>\n",
       "      <th>Middle Proximal y</th>\n",
       "      <th>Middle Proximal z</th>\n",
       "      <th>Middle Intermediate x</th>\n",
       "      <th>Middle Intermediate y</th>\n",
       "      <th>Middle Intermediate z</th>\n",
       "      <th>Middle Distal x</th>\n",
       "      <th>Middle Distal y</th>\n",
       "      <th>Middle Distal z</th>\n",
       "      <th>Middle Tip x</th>\n",
       "      <th>Middle Tip y</th>\n",
       "      <th>Middle Tip z</th>\n",
       "      <th>Ring Proximal x</th>\n",
       "      <th>Ring Proximal y</th>\n",
       "      <th>Ring Proximal z</th>\n",
       "      <th>Ring Intermediate x</th>\n",
       "      <th>Ring Intermediate y</th>\n",
       "      <th>Ring Intermediate z</th>\n",
       "      <th>Ring Distal x</th>\n",
       "      <th>Ring Distal y</th>\n",
       "      <th>Ring Distal z</th>\n",
       "      <th>Ring Tip x</th>\n",
       "      <th>Ring Tip y</th>\n",
       "      <th>Ring Tip z</th>\n",
       "      <th>Pinky Proximal x</th>\n",
       "      <th>Pinky Proximal y</th>\n",
       "      <th>Pinky Proximal z</th>\n",
       "      <th>Pinky Intermediate x</th>\n",
       "      <th>Pinky Intermediate y</th>\n",
       "      <th>Pinky Intermediate z</th>\n",
       "      <th>Pinky Distal x</th>\n",
       "      <th>Pinky Distal y</th>\n",
       "      <th>Pinky Distal z</th>\n",
       "      <th>Pinky Tip x</th>\n",
       "      <th>Pinky Tip y</th>\n",
       "      <th>Pinky Tip z</th>\n",
       "    </tr>\n",
       "  </thead>\n",
       "  <tbody>\n",
       "    <tr>\n",
       "      <th>count</th>\n",
       "      <td>66002.000000</td>\n",
       "      <td>66002.000000</td>\n",
       "      <td>66002.000000</td>\n",
       "      <td>66002.000000</td>\n",
       "      <td>66002.000000</td>\n",
       "      <td>66002.000000</td>\n",
       "      <td>66002.000000</td>\n",
       "      <td>66002.000000</td>\n",
       "      <td>66002.000000</td>\n",
       "      <td>66002.000000</td>\n",
       "      <td>66002.000000</td>\n",
       "      <td>66002.000000</td>\n",
       "      <td>66002.000000</td>\n",
       "      <td>66002.000000</td>\n",
       "      <td>66002.000000</td>\n",
       "      <td>66002.000000</td>\n",
       "      <td>66002.000000</td>\n",
       "      <td>66002.000000</td>\n",
       "      <td>66002.000000</td>\n",
       "      <td>66002.000000</td>\n",
       "      <td>66002.000000</td>\n",
       "      <td>66002.000000</td>\n",
       "      <td>66002.000000</td>\n",
       "      <td>66002.000000</td>\n",
       "      <td>66002.000000</td>\n",
       "      <td>66002.000000</td>\n",
       "      <td>66002.000000</td>\n",
       "      <td>66002.000000</td>\n",
       "      <td>66002.000000</td>\n",
       "      <td>66002.000000</td>\n",
       "      <td>66002.000000</td>\n",
       "      <td>66002.000000</td>\n",
       "      <td>66002.000000</td>\n",
       "      <td>66002.000000</td>\n",
       "      <td>66002.000000</td>\n",
       "      <td>66002.000000</td>\n",
       "      <td>66002.000000</td>\n",
       "      <td>66002.000000</td>\n",
       "      <td>66002.000000</td>\n",
       "      <td>66002.000000</td>\n",
       "      <td>66002.000000</td>\n",
       "      <td>66002.000000</td>\n",
       "      <td>66002.000000</td>\n",
       "      <td>66002.000000</td>\n",
       "      <td>66002.000000</td>\n",
       "      <td>66002.000000</td>\n",
       "      <td>66002.000000</td>\n",
       "      <td>66002.000000</td>\n",
       "      <td>66002.000000</td>\n",
       "      <td>66002.000000</td>\n",
       "      <td>66002.000000</td>\n",
       "      <td>66002.000000</td>\n",
       "      <td>66002.000000</td>\n",
       "      <td>66002.000000</td>\n",
       "      <td>66002.000000</td>\n",
       "      <td>66002.000000</td>\n",
       "      <td>66002.000000</td>\n",
       "      <td>66002.000000</td>\n",
       "      <td>66002.000000</td>\n",
       "      <td>66002.000000</td>\n",
       "      <td>66002.000000</td>\n",
       "      <td>66002.000000</td>\n",
       "      <td>66002.000000</td>\n",
       "      <td>66002.000000</td>\n",
       "      <td>66002.000000</td>\n",
       "      <td>66002.000000</td>\n",
       "      <td>66002.000000</td>\n",
       "      <td>66002.000000</td>\n",
       "      <td>66002.000000</td>\n",
       "      <td>66002.000000</td>\n",
       "      <td>66002.000000</td>\n",
       "    </tr>\n",
       "    <tr>\n",
       "      <th>mean</th>\n",
       "      <td>80.398670</td>\n",
       "      <td>263.853989</td>\n",
       "      <td>240.563513</td>\n",
       "      <td>108.572952</td>\n",
       "      <td>47.852701</td>\n",
       "      <td>34.135238</td>\n",
       "      <td>27.687419</td>\n",
       "      <td>34.214615</td>\n",
       "      <td>15.628867</td>\n",
       "      <td>-9.636118</td>\n",
       "      <td>42.504739</td>\n",
       "      <td>-8.853896</td>\n",
       "      <td>-19.143357</td>\n",
       "      <td>46.381890</td>\n",
       "      <td>-37.486184</td>\n",
       "      <td>-21.893227</td>\n",
       "      <td>16.337011</td>\n",
       "      <td>-52.643159</td>\n",
       "      <td>-24.575628</td>\n",
       "      <td>-3.823726</td>\n",
       "      <td>-59.410447</td>\n",
       "      <td>-26.705491</td>\n",
       "      <td>-15.393781</td>\n",
       "      <td>-24.942067</td>\n",
       "      <td>8.076910</td>\n",
       "      <td>-15.477016</td>\n",
       "      <td>-35.590848</td>\n",
       "      <td>-5.329349</td>\n",
       "      <td>-48.276948</td>\n",
       "      <td>-41.420593</td>\n",
       "      <td>-16.481926</td>\n",
       "      <td>-64.732954</td>\n",
       "      <td>-45.317816</td>\n",
       "      <td>-25.688659</td>\n",
       "      <td>-74.980993</td>\n",
       "      <td>-6.210362</td>\n",
       "      <td>9.701155</td>\n",
       "      <td>-18.142907</td>\n",
       "      <td>-16.588028</td>\n",
       "      <td>-8.042621</td>\n",
       "      <td>-54.273002</td>\n",
       "      <td>-23.565451</td>\n",
       "      <td>-22.753434</td>\n",
       "      <td>-72.741069</td>\n",
       "      <td>-28.336703</td>\n",
       "      <td>-33.853304</td>\n",
       "      <td>-83.182693</td>\n",
       "      <td>13.239948</td>\n",
       "      <td>7.947346</td>\n",
       "      <td>-16.207959</td>\n",
       "      <td>3.760514</td>\n",
       "      <td>-8.667989</td>\n",
       "      <td>-49.647210</td>\n",
       "      <td>-3.278007</td>\n",
       "      <td>-22.794163</td>\n",
       "      <td>-67.777573</td>\n",
       "      <td>-8.360278</td>\n",
       "      <td>-33.646331</td>\n",
       "      <td>-78.418629</td>\n",
       "      <td>30.419273</td>\n",
       "      <td>2.234340</td>\n",
       "      <td>-13.731176</td>\n",
       "      <td>27.610719</td>\n",
       "      <td>-8.545469</td>\n",
       "      <td>-41.336284</td>\n",
       "      <td>24.433938</td>\n",
       "      <td>-16.946437</td>\n",
       "      <td>-55.354338</td>\n",
       "      <td>20.781010</td>\n",
       "      <td>-25.524480</td>\n",
       "      <td>-66.550817</td>\n",
       "    </tr>\n",
       "    <tr>\n",
       "      <th>std</th>\n",
       "      <td>40.117646</td>\n",
       "      <td>109.149310</td>\n",
       "      <td>120.180316</td>\n",
       "      <td>72.581889</td>\n",
       "      <td>20.991431</td>\n",
       "      <td>18.825727</td>\n",
       "      <td>12.593379</td>\n",
       "      <td>37.129393</td>\n",
       "      <td>15.825413</td>\n",
       "      <td>12.860273</td>\n",
       "      <td>11.300732</td>\n",
       "      <td>19.513547</td>\n",
       "      <td>17.080521</td>\n",
       "      <td>11.018947</td>\n",
       "      <td>17.343289</td>\n",
       "      <td>16.078972</td>\n",
       "      <td>14.066530</td>\n",
       "      <td>25.183020</td>\n",
       "      <td>21.727323</td>\n",
       "      <td>21.381719</td>\n",
       "      <td>34.325499</td>\n",
       "      <td>26.818085</td>\n",
       "      <td>27.956943</td>\n",
       "      <td>6.939991</td>\n",
       "      <td>6.508655</td>\n",
       "      <td>10.529884</td>\n",
       "      <td>15.467803</td>\n",
       "      <td>14.009727</td>\n",
       "      <td>13.741926</td>\n",
       "      <td>20.001841</td>\n",
       "      <td>19.794035</td>\n",
       "      <td>15.694227</td>\n",
       "      <td>22.977653</td>\n",
       "      <td>23.992022</td>\n",
       "      <td>17.473098</td>\n",
       "      <td>7.686875</td>\n",
       "      <td>5.639035</td>\n",
       "      <td>6.198857</td>\n",
       "      <td>17.323390</td>\n",
       "      <td>17.005286</td>\n",
       "      <td>10.421288</td>\n",
       "      <td>22.388266</td>\n",
       "      <td>24.070134</td>\n",
       "      <td>13.404358</td>\n",
       "      <td>25.428132</td>\n",
       "      <td>28.535368</td>\n",
       "      <td>16.007630</td>\n",
       "      <td>7.716814</td>\n",
       "      <td>7.933290</td>\n",
       "      <td>4.963204</td>\n",
       "      <td>16.356959</td>\n",
       "      <td>18.320780</td>\n",
       "      <td>8.953181</td>\n",
       "      <td>21.284995</td>\n",
       "      <td>25.097148</td>\n",
       "      <td>12.641308</td>\n",
       "      <td>24.343402</td>\n",
       "      <td>29.462867</td>\n",
       "      <td>15.668353</td>\n",
       "      <td>7.931476</td>\n",
       "      <td>11.494570</td>\n",
       "      <td>9.648849</td>\n",
       "      <td>16.425902</td>\n",
       "      <td>19.394448</td>\n",
       "      <td>11.589994</td>\n",
       "      <td>20.941002</td>\n",
       "      <td>24.135852</td>\n",
       "      <td>13.565762</td>\n",
       "      <td>24.662535</td>\n",
       "      <td>28.174338</td>\n",
       "      <td>15.868269</td>\n",
       "    </tr>\n",
       "    <tr>\n",
       "      <th>min</th>\n",
       "      <td>0.000000</td>\n",
       "      <td>0.000000</td>\n",
       "      <td>0.000000</td>\n",
       "      <td>0.000000</td>\n",
       "      <td>0.000000</td>\n",
       "      <td>0.000000</td>\n",
       "      <td>0.000000</td>\n",
       "      <td>0.000000</td>\n",
       "      <td>-41.769203</td>\n",
       "      <td>-49.962799</td>\n",
       "      <td>0.000000</td>\n",
       "      <td>-58.613197</td>\n",
       "      <td>-55.231729</td>\n",
       "      <td>0.000000</td>\n",
       "      <td>-75.124115</td>\n",
       "      <td>-63.879837</td>\n",
       "      <td>-37.188974</td>\n",
       "      <td>-105.185623</td>\n",
       "      <td>-86.412979</td>\n",
       "      <td>-68.617961</td>\n",
       "      <td>-126.288147</td>\n",
       "      <td>-91.383759</td>\n",
       "      <td>-89.471339</td>\n",
       "      <td>-33.618752</td>\n",
       "      <td>-15.178196</td>\n",
       "      <td>-34.146778</td>\n",
       "      <td>-64.539724</td>\n",
       "      <td>-49.275574</td>\n",
       "      <td>-72.147652</td>\n",
       "      <td>-85.884410</td>\n",
       "      <td>-66.214897</td>\n",
       "      <td>-93.330811</td>\n",
       "      <td>-100.719783</td>\n",
       "      <td>-82.686340</td>\n",
       "      <td>-109.333484</td>\n",
       "      <td>-21.526745</td>\n",
       "      <td>-7.785858</td>\n",
       "      <td>-25.334070</td>\n",
       "      <td>-63.473035</td>\n",
       "      <td>-51.173683</td>\n",
       "      <td>-71.729972</td>\n",
       "      <td>-88.499311</td>\n",
       "      <td>-77.155800</td>\n",
       "      <td>-98.184779</td>\n",
       "      <td>-104.805283</td>\n",
       "      <td>-94.416588</td>\n",
       "      <td>-116.448059</td>\n",
       "      <td>-10.103988</td>\n",
       "      <td>-20.103516</td>\n",
       "      <td>-25.792450</td>\n",
       "      <td>-50.135470</td>\n",
       "      <td>-52.239143</td>\n",
       "      <td>-65.242197</td>\n",
       "      <td>-74.705999</td>\n",
       "      <td>-75.831100</td>\n",
       "      <td>-91.399651</td>\n",
       "      <td>-91.097928</td>\n",
       "      <td>-92.824486</td>\n",
       "      <td>-108.465546</td>\n",
       "      <td>-0.412278</td>\n",
       "      <td>-37.374756</td>\n",
       "      <td>-35.031367</td>\n",
       "      <td>-32.654390</td>\n",
       "      <td>-59.203604</td>\n",
       "      <td>-61.064201</td>\n",
       "      <td>-50.459674</td>\n",
       "      <td>-72.659924</td>\n",
       "      <td>-78.677053</td>\n",
       "      <td>-66.094860</td>\n",
       "      <td>-84.137856</td>\n",
       "      <td>-94.676819</td>\n",
       "    </tr>\n",
       "    <tr>\n",
       "      <th>25%</th>\n",
       "      <td>56.000000</td>\n",
       "      <td>192.000000</td>\n",
       "      <td>153.000000</td>\n",
       "      <td>63.000000</td>\n",
       "      <td>36.000000</td>\n",
       "      <td>26.000000</td>\n",
       "      <td>22.000000</td>\n",
       "      <td>25.000000</td>\n",
       "      <td>3.306108</td>\n",
       "      <td>-18.128154</td>\n",
       "      <td>33.911880</td>\n",
       "      <td>-23.794734</td>\n",
       "      <td>-33.881516</td>\n",
       "      <td>41.388982</td>\n",
       "      <td>-51.202532</td>\n",
       "      <td>-33.628389</td>\n",
       "      <td>6.504376</td>\n",
       "      <td>-73.478289</td>\n",
       "      <td>-40.536343</td>\n",
       "      <td>-19.420896</td>\n",
       "      <td>-87.605331</td>\n",
       "      <td>-47.278874</td>\n",
       "      <td>-37.040837</td>\n",
       "      <td>-31.707785</td>\n",
       "      <td>3.096991</td>\n",
       "      <td>-24.037073</td>\n",
       "      <td>-49.239956</td>\n",
       "      <td>-14.445910</td>\n",
       "      <td>-59.359394</td>\n",
       "      <td>-58.538254</td>\n",
       "      <td>-30.296930</td>\n",
       "      <td>-76.005886</td>\n",
       "      <td>-64.366140</td>\n",
       "      <td>-43.315198</td>\n",
       "      <td>-85.949130</td>\n",
       "      <td>-14.332561</td>\n",
       "      <td>5.921315</td>\n",
       "      <td>-23.292155</td>\n",
       "      <td>-31.159524</td>\n",
       "      <td>-20.734425</td>\n",
       "      <td>-60.601708</td>\n",
       "      <td>-41.690361</td>\n",
       "      <td>-41.592550</td>\n",
       "      <td>-79.830915</td>\n",
       "      <td>-47.940240</td>\n",
       "      <td>-56.697332</td>\n",
       "      <td>-92.064555</td>\n",
       "      <td>5.160790</td>\n",
       "      <td>1.633162</td>\n",
       "      <td>-19.467970</td>\n",
       "      <td>-9.501145</td>\n",
       "      <td>-24.035486</td>\n",
       "      <td>-54.537436</td>\n",
       "      <td>-19.820558</td>\n",
       "      <td>-43.611079</td>\n",
       "      <td>-75.231869</td>\n",
       "      <td>-26.552357</td>\n",
       "      <td>-57.925187</td>\n",
       "      <td>-88.529852</td>\n",
       "      <td>24.428001</td>\n",
       "      <td>-6.518652</td>\n",
       "      <td>-22.081446</td>\n",
       "      <td>13.298158</td>\n",
       "      <td>-24.487020</td>\n",
       "      <td>-51.554524</td>\n",
       "      <td>6.366694</td>\n",
       "      <td>-36.860324</td>\n",
       "      <td>-66.687759</td>\n",
       "      <td>0.000000</td>\n",
       "      <td>-48.729205</td>\n",
       "      <td>-79.089222</td>\n",
       "    </tr>\n",
       "    <tr>\n",
       "      <th>50%</th>\n",
       "      <td>75.000000</td>\n",
       "      <td>254.000000</td>\n",
       "      <td>218.000000</td>\n",
       "      <td>88.000000</td>\n",
       "      <td>44.000000</td>\n",
       "      <td>30.000000</td>\n",
       "      <td>25.000000</td>\n",
       "      <td>28.000000</td>\n",
       "      <td>11.501838</td>\n",
       "      <td>-9.723414</td>\n",
       "      <td>47.982812</td>\n",
       "      <td>-14.902173</td>\n",
       "      <td>-18.288846</td>\n",
       "      <td>48.862537</td>\n",
       "      <td>-37.656265</td>\n",
       "      <td>-25.293104</td>\n",
       "      <td>16.482807</td>\n",
       "      <td>-53.531664</td>\n",
       "      <td>-31.090834</td>\n",
       "      <td>-6.007606</td>\n",
       "      <td>-65.444878</td>\n",
       "      <td>-32.450337</td>\n",
       "      <td>-19.456399</td>\n",
       "      <td>-24.824138</td>\n",
       "      <td>8.068207</td>\n",
       "      <td>-19.993586</td>\n",
       "      <td>-33.842811</td>\n",
       "      <td>-5.617432</td>\n",
       "      <td>-51.770579</td>\n",
       "      <td>-39.307131</td>\n",
       "      <td>-18.235226</td>\n",
       "      <td>-66.438778</td>\n",
       "      <td>-43.201712</td>\n",
       "      <td>-28.940395</td>\n",
       "      <td>-76.093819</td>\n",
       "      <td>-4.226663</td>\n",
       "      <td>10.082527</td>\n",
       "      <td>-20.754963</td>\n",
       "      <td>-12.891502</td>\n",
       "      <td>-10.329857</td>\n",
       "      <td>-55.109606</td>\n",
       "      <td>-20.242399</td>\n",
       "      <td>-28.139771</td>\n",
       "      <td>-74.491016</td>\n",
       "      <td>-25.936740</td>\n",
       "      <td>-41.457986</td>\n",
       "      <td>-85.579449</td>\n",
       "      <td>16.144842</td>\n",
       "      <td>6.478820</td>\n",
       "      <td>-17.132699</td>\n",
       "      <td>7.612205</td>\n",
       "      <td>-14.160412</td>\n",
       "      <td>-51.169322</td>\n",
       "      <td>0.000000</td>\n",
       "      <td>-31.363540</td>\n",
       "      <td>-69.798725</td>\n",
       "      <td>-5.494121</td>\n",
       "      <td>-44.306662</td>\n",
       "      <td>-80.613522</td>\n",
       "      <td>33.913198</td>\n",
       "      <td>-0.479855</td>\n",
       "      <td>-12.884474</td>\n",
       "      <td>31.056520</td>\n",
       "      <td>-15.432093</td>\n",
       "      <td>-41.029644</td>\n",
       "      <td>26.840442</td>\n",
       "      <td>-25.979293</td>\n",
       "      <td>-54.784927</td>\n",
       "      <td>22.560590</td>\n",
       "      <td>-36.439934</td>\n",
       "      <td>-66.013069</td>\n",
       "    </tr>\n",
       "    <tr>\n",
       "      <th>75%</th>\n",
       "      <td>95.000000</td>\n",
       "      <td>328.000000</td>\n",
       "      <td>313.000000</td>\n",
       "      <td>132.000000</td>\n",
       "      <td>57.000000</td>\n",
       "      <td>38.000000</td>\n",
       "      <td>30.000000</td>\n",
       "      <td>33.000000</td>\n",
       "      <td>32.190577</td>\n",
       "      <td>-0.299257</td>\n",
       "      <td>51.097540</td>\n",
       "      <td>10.674254</td>\n",
       "      <td>-5.720846</td>\n",
       "      <td>54.507702</td>\n",
       "      <td>-24.725456</td>\n",
       "      <td>-12.470357</td>\n",
       "      <td>26.183790</td>\n",
       "      <td>-31.478357</td>\n",
       "      <td>-11.502274</td>\n",
       "      <td>10.577304</td>\n",
       "      <td>-29.532209</td>\n",
       "      <td>-10.238359</td>\n",
       "      <td>2.613466</td>\n",
       "      <td>-21.030470</td>\n",
       "      <td>12.456696</td>\n",
       "      <td>-4.391290</td>\n",
       "      <td>-25.265239</td>\n",
       "      <td>1.595347</td>\n",
       "      <td>-38.166463</td>\n",
       "      <td>-28.661189</td>\n",
       "      <td>-4.411273</td>\n",
       "      <td>-55.919910</td>\n",
       "      <td>-31.300406</td>\n",
       "      <td>-10.609764</td>\n",
       "      <td>-67.114450</td>\n",
       "      <td>-0.308920</td>\n",
       "      <td>13.533192</td>\n",
       "      <td>-12.970821</td>\n",
       "      <td>-3.431637</td>\n",
       "      <td>4.022148</td>\n",
       "      <td>-50.287872</td>\n",
       "      <td>-8.036676</td>\n",
       "      <td>-4.148252</td>\n",
       "      <td>-68.438993</td>\n",
       "      <td>-11.866154</td>\n",
       "      <td>-11.791942</td>\n",
       "      <td>-77.489300</td>\n",
       "      <td>19.360963</td>\n",
       "      <td>15.504025</td>\n",
       "      <td>-13.880799</td>\n",
       "      <td>16.200839</td>\n",
       "      <td>8.609890</td>\n",
       "      <td>-46.999765</td>\n",
       "      <td>11.495419</td>\n",
       "      <td>0.000000</td>\n",
       "      <td>-64.103909</td>\n",
       "      <td>7.488386</td>\n",
       "      <td>-6.108440</td>\n",
       "      <td>-72.361887</td>\n",
       "      <td>36.316199</td>\n",
       "      <td>12.094612</td>\n",
       "      <td>-6.819073</td>\n",
       "      <td>41.273618</td>\n",
       "      <td>11.354939</td>\n",
       "      <td>-34.605333</td>\n",
       "      <td>41.724557</td>\n",
       "      <td>7.599297</td>\n",
       "      <td>-48.356477</td>\n",
       "      <td>40.833249</td>\n",
       "      <td>2.269497</td>\n",
       "      <td>-58.874644</td>\n",
       "    </tr>\n",
       "    <tr>\n",
       "      <th>max</th>\n",
       "      <td>1271.000000</td>\n",
       "      <td>1009.000000</td>\n",
       "      <td>976.000000</td>\n",
       "      <td>1194.000000</td>\n",
       "      <td>1247.000000</td>\n",
       "      <td>619.000000</td>\n",
       "      <td>690.000000</td>\n",
       "      <td>750.000000</td>\n",
       "      <td>48.918073</td>\n",
       "      <td>26.931290</td>\n",
       "      <td>54.497086</td>\n",
       "      <td>41.711753</td>\n",
       "      <td>34.810913</td>\n",
       "      <td>60.542961</td>\n",
       "      <td>8.556782</td>\n",
       "      <td>59.417938</td>\n",
       "      <td>64.516220</td>\n",
       "      <td>16.186504</td>\n",
       "      <td>84.375000</td>\n",
       "      <td>68.118755</td>\n",
       "      <td>36.061478</td>\n",
       "      <td>85.578766</td>\n",
       "      <td>81.304055</td>\n",
       "      <td>8.841000</td>\n",
       "      <td>28.495361</td>\n",
       "      <td>11.038406</td>\n",
       "      <td>32.566391</td>\n",
       "      <td>53.748627</td>\n",
       "      <td>6.689461</td>\n",
       "      <td>45.873011</td>\n",
       "      <td>61.509003</td>\n",
       "      <td>27.582443</td>\n",
       "      <td>58.192686</td>\n",
       "      <td>70.475922</td>\n",
       "      <td>39.452796</td>\n",
       "      <td>19.702423</td>\n",
       "      <td>24.655060</td>\n",
       "      <td>2.565414</td>\n",
       "      <td>57.683995</td>\n",
       "      <td>53.754425</td>\n",
       "      <td>2.234589</td>\n",
       "      <td>78.365943</td>\n",
       "      <td>57.164490</td>\n",
       "      <td>19.856145</td>\n",
       "      <td>93.048944</td>\n",
       "      <td>62.314819</td>\n",
       "      <td>32.871714</td>\n",
       "      <td>26.502565</td>\n",
       "      <td>24.967285</td>\n",
       "      <td>6.532516</td>\n",
       "      <td>65.783958</td>\n",
       "      <td>41.747070</td>\n",
       "      <td>0.042633</td>\n",
       "      <td>90.270927</td>\n",
       "      <td>44.470184</td>\n",
       "      <td>15.660894</td>\n",
       "      <td>107.049249</td>\n",
       "      <td>49.105225</td>\n",
       "      <td>27.485667</td>\n",
       "      <td>39.582912</td>\n",
       "      <td>32.678497</td>\n",
       "      <td>26.239498</td>\n",
       "      <td>69.466048</td>\n",
       "      <td>38.185471</td>\n",
       "      <td>33.731670</td>\n",
       "      <td>87.439415</td>\n",
       "      <td>37.354155</td>\n",
       "      <td>37.871891</td>\n",
       "      <td>102.900546</td>\n",
       "      <td>40.241700</td>\n",
       "      <td>41.498585</td>\n",
       "    </tr>\n",
       "  </tbody>\n",
       "</table>\n",
       "</div>"
      ],
      "text/plain": [
       "                ch1           ch2           ch3           ch4           ch5  \\\n",
       "count  66002.000000  66002.000000  66002.000000  66002.000000  66002.000000   \n",
       "mean      80.398670    263.853989    240.563513    108.572952     47.852701   \n",
       "std       40.117646    109.149310    120.180316     72.581889     20.991431   \n",
       "min        0.000000      0.000000      0.000000      0.000000      0.000000   \n",
       "25%       56.000000    192.000000    153.000000     63.000000     36.000000   \n",
       "50%       75.000000    254.000000    218.000000     88.000000     44.000000   \n",
       "75%       95.000000    328.000000    313.000000    132.000000     57.000000   \n",
       "max     1271.000000   1009.000000    976.000000   1194.000000   1247.000000   \n",
       "\n",
       "                ch6           ch7           ch8       Wrist x       Wrist y  \\\n",
       "count  66002.000000  66002.000000  66002.000000  66002.000000  66002.000000   \n",
       "mean      34.135238     27.687419     34.214615     15.628867     -9.636118   \n",
       "std       18.825727     12.593379     37.129393     15.825413     12.860273   \n",
       "min        0.000000      0.000000      0.000000    -41.769203    -49.962799   \n",
       "25%       26.000000     22.000000     25.000000      3.306108    -18.128154   \n",
       "50%       30.000000     25.000000     28.000000     11.501838     -9.723414   \n",
       "75%       38.000000     30.000000     33.000000     32.190577     -0.299257   \n",
       "max      619.000000    690.000000    750.000000     48.918073     26.931290   \n",
       "\n",
       "            Wrist z  Thumb Proximal x  Thumb Proximal y  Thumb Proximal z  \\\n",
       "count  66002.000000      66002.000000      66002.000000      66002.000000   \n",
       "mean      42.504739         -8.853896        -19.143357         46.381890   \n",
       "std       11.300732         19.513547         17.080521         11.018947   \n",
       "min        0.000000        -58.613197        -55.231729          0.000000   \n",
       "25%       33.911880        -23.794734        -33.881516         41.388982   \n",
       "50%       47.982812        -14.902173        -18.288846         48.862537   \n",
       "75%       51.097540         10.674254         -5.720846         54.507702   \n",
       "max       54.497086         41.711753         34.810913         60.542961   \n",
       "\n",
       "       Thumb Intermediate x  Thumb Intermediate y  Thumb Intermediate z  \\\n",
       "count          66002.000000          66002.000000          66002.000000   \n",
       "mean             -37.486184            -21.893227             16.337011   \n",
       "std               17.343289             16.078972             14.066530   \n",
       "min              -75.124115            -63.879837            -37.188974   \n",
       "25%              -51.202532            -33.628389              6.504376   \n",
       "50%              -37.656265            -25.293104             16.482807   \n",
       "75%              -24.725456            -12.470357             26.183790   \n",
       "max                8.556782             59.417938             64.516220   \n",
       "\n",
       "       Thumb Distal x  Thumb Distal y  Thumb Distal z   Thumb Tip x  \\\n",
       "count    66002.000000    66002.000000    66002.000000  66002.000000   \n",
       "mean       -52.643159      -24.575628       -3.823726    -59.410447   \n",
       "std         25.183020       21.727323       21.381719     34.325499   \n",
       "min       -105.185623      -86.412979      -68.617961   -126.288147   \n",
       "25%        -73.478289      -40.536343      -19.420896    -87.605331   \n",
       "50%        -53.531664      -31.090834       -6.007606    -65.444878   \n",
       "75%        -31.478357      -11.502274       10.577304    -29.532209   \n",
       "max         16.186504       84.375000       68.118755     36.061478   \n",
       "\n",
       "        Thumb Tip y   Thumb Tip z  Index Proximal x  Index Proximal y  \\\n",
       "count  66002.000000  66002.000000      66002.000000      66002.000000   \n",
       "mean     -26.705491    -15.393781        -24.942067          8.076910   \n",
       "std       26.818085     27.956943          6.939991          6.508655   \n",
       "min      -91.383759    -89.471339        -33.618752        -15.178196   \n",
       "25%      -47.278874    -37.040837        -31.707785          3.096991   \n",
       "50%      -32.450337    -19.456399        -24.824138          8.068207   \n",
       "75%      -10.238359      2.613466        -21.030470         12.456696   \n",
       "max       85.578766     81.304055          8.841000         28.495361   \n",
       "\n",
       "       Index Proximal z  Index Intermediate x  Index Intermediate y  \\\n",
       "count      66002.000000          66002.000000          66002.000000   \n",
       "mean         -15.477016            -35.590848             -5.329349   \n",
       "std           10.529884             15.467803             14.009727   \n",
       "min          -34.146778            -64.539724            -49.275574   \n",
       "25%          -24.037073            -49.239956            -14.445910   \n",
       "50%          -19.993586            -33.842811             -5.617432   \n",
       "75%           -4.391290            -25.265239              1.595347   \n",
       "max           11.038406             32.566391             53.748627   \n",
       "\n",
       "       Index Intermediate z  Index Distal x  Index Distal y  Index Distal z  \\\n",
       "count          66002.000000    66002.000000    66002.000000    66002.000000   \n",
       "mean             -48.276948      -41.420593      -16.481926      -64.732954   \n",
       "std               13.741926       20.001841       19.794035       15.694227   \n",
       "min              -72.147652      -85.884410      -66.214897      -93.330811   \n",
       "25%              -59.359394      -58.538254      -30.296930      -76.005886   \n",
       "50%              -51.770579      -39.307131      -18.235226      -66.438778   \n",
       "75%              -38.166463      -28.661189       -4.411273      -55.919910   \n",
       "max                6.689461       45.873011       61.509003       27.582443   \n",
       "\n",
       "        Index Tip x   Index Tip y   Index Tip z  Middle Proximal x  \\\n",
       "count  66002.000000  66002.000000  66002.000000       66002.000000   \n",
       "mean     -45.317816    -25.688659    -74.980993          -6.210362   \n",
       "std       22.977653     23.992022     17.473098           7.686875   \n",
       "min     -100.719783    -82.686340   -109.333484         -21.526745   \n",
       "25%      -64.366140    -43.315198    -85.949130         -14.332561   \n",
       "50%      -43.201712    -28.940395    -76.093819          -4.226663   \n",
       "75%      -31.300406    -10.609764    -67.114450          -0.308920   \n",
       "max       58.192686     70.475922     39.452796          19.702423   \n",
       "\n",
       "       Middle Proximal y  Middle Proximal z  Middle Intermediate x  \\\n",
       "count       66002.000000       66002.000000           66002.000000   \n",
       "mean            9.701155         -18.142907             -16.588028   \n",
       "std             5.639035           6.198857              17.323390   \n",
       "min            -7.785858         -25.334070             -63.473035   \n",
       "25%             5.921315         -23.292155             -31.159524   \n",
       "50%            10.082527         -20.754963             -12.891502   \n",
       "75%            13.533192         -12.970821              -3.431637   \n",
       "max            24.655060           2.565414              57.683995   \n",
       "\n",
       "       Middle Intermediate y  Middle Intermediate z  Middle Distal x  \\\n",
       "count           66002.000000           66002.000000     66002.000000   \n",
       "mean               -8.042621             -54.273002       -23.565451   \n",
       "std                17.005286              10.421288        22.388266   \n",
       "min               -51.173683             -71.729972       -88.499311   \n",
       "25%               -20.734425             -60.601708       -41.690361   \n",
       "50%               -10.329857             -55.109606       -20.242399   \n",
       "75%                 4.022148             -50.287872        -8.036676   \n",
       "max                53.754425               2.234589        78.365943   \n",
       "\n",
       "       Middle Distal y  Middle Distal z  Middle Tip x  Middle Tip y  \\\n",
       "count     66002.000000     66002.000000  66002.000000  66002.000000   \n",
       "mean        -22.753434       -72.741069    -28.336703    -33.853304   \n",
       "std          24.070134        13.404358     25.428132     28.535368   \n",
       "min         -77.155800       -98.184779   -104.805283    -94.416588   \n",
       "25%         -41.592550       -79.830915    -47.940240    -56.697332   \n",
       "50%         -28.139771       -74.491016    -25.936740    -41.457986   \n",
       "75%          -4.148252       -68.438993    -11.866154    -11.791942   \n",
       "max          57.164490        19.856145     93.048944     62.314819   \n",
       "\n",
       "       Middle Tip z  Ring Proximal x  Ring Proximal y  Ring Proximal z  \\\n",
       "count  66002.000000     66002.000000     66002.000000     66002.000000   \n",
       "mean     -83.182693        13.239948         7.947346       -16.207959   \n",
       "std       16.007630         7.716814         7.933290         4.963204   \n",
       "min     -116.448059       -10.103988       -20.103516       -25.792450   \n",
       "25%      -92.064555         5.160790         1.633162       -19.467970   \n",
       "50%      -85.579449        16.144842         6.478820       -17.132699   \n",
       "75%      -77.489300        19.360963        15.504025       -13.880799   \n",
       "max       32.871714        26.502565        24.967285         6.532516   \n",
       "\n",
       "       Ring Intermediate x  Ring Intermediate y  Ring Intermediate z  \\\n",
       "count         66002.000000         66002.000000         66002.000000   \n",
       "mean              3.760514            -8.667989           -49.647210   \n",
       "std              16.356959            18.320780             8.953181   \n",
       "min             -50.135470           -52.239143           -65.242197   \n",
       "25%              -9.501145           -24.035486           -54.537436   \n",
       "50%               7.612205           -14.160412           -51.169322   \n",
       "75%              16.200839             8.609890           -46.999765   \n",
       "max              65.783958            41.747070             0.042633   \n",
       "\n",
       "       Ring Distal x  Ring Distal y  Ring Distal z    Ring Tip x  \\\n",
       "count   66002.000000   66002.000000   66002.000000  66002.000000   \n",
       "mean       -3.278007     -22.794163     -67.777573     -8.360278   \n",
       "std        21.284995      25.097148      12.641308     24.343402   \n",
       "min       -74.705999     -75.831100     -91.399651    -91.097928   \n",
       "25%       -19.820558     -43.611079     -75.231869    -26.552357   \n",
       "50%         0.000000     -31.363540     -69.798725     -5.494121   \n",
       "75%        11.495419       0.000000     -64.103909      7.488386   \n",
       "max        90.270927      44.470184      15.660894    107.049249   \n",
       "\n",
       "         Ring Tip y    Ring Tip z  Pinky Proximal x  Pinky Proximal y  \\\n",
       "count  66002.000000  66002.000000      66002.000000      66002.000000   \n",
       "mean     -33.646331    -78.418629         30.419273          2.234340   \n",
       "std       29.462867     15.668353          7.931476         11.494570   \n",
       "min      -92.824486   -108.465546         -0.412278        -37.374756   \n",
       "25%      -57.925187    -88.529852         24.428001         -6.518652   \n",
       "50%      -44.306662    -80.613522         33.913198         -0.479855   \n",
       "75%       -6.108440    -72.361887         36.316199         12.094612   \n",
       "max       49.105225     27.485667         39.582912         32.678497   \n",
       "\n",
       "       Pinky Proximal z  Pinky Intermediate x  Pinky Intermediate y  \\\n",
       "count      66002.000000          66002.000000          66002.000000   \n",
       "mean         -13.731176             27.610719             -8.545469   \n",
       "std            9.648849             16.425902             19.394448   \n",
       "min          -35.031367            -32.654390            -59.203604   \n",
       "25%          -22.081446             13.298158            -24.487020   \n",
       "50%          -12.884474             31.056520            -15.432093   \n",
       "75%           -6.819073             41.273618             11.354939   \n",
       "max           26.239498             69.466048             38.185471   \n",
       "\n",
       "       Pinky Intermediate z  Pinky Distal x  Pinky Distal y  Pinky Distal z  \\\n",
       "count          66002.000000    66002.000000    66002.000000    66002.000000   \n",
       "mean             -41.336284       24.433938      -16.946437      -55.354338   \n",
       "std               11.589994       20.941002       24.135852       13.565762   \n",
       "min              -61.064201      -50.459674      -72.659924      -78.677053   \n",
       "25%              -51.554524        6.366694      -36.860324      -66.687759   \n",
       "50%              -41.029644       26.840442      -25.979293      -54.784927   \n",
       "75%              -34.605333       41.724557        7.599297      -48.356477   \n",
       "max               33.731670       87.439415       37.354155       37.871891   \n",
       "\n",
       "        Pinky Tip x   Pinky Tip y   Pinky Tip z  \n",
       "count  66002.000000  66002.000000  66002.000000  \n",
       "mean      20.781010    -25.524480    -66.550817  \n",
       "std       24.662535     28.174338     15.868269  \n",
       "min      -66.094860    -84.137856    -94.676819  \n",
       "25%        0.000000    -48.729205    -79.089222  \n",
       "50%       22.560590    -36.439934    -66.013069  \n",
       "75%       40.833249      2.269497    -58.874644  \n",
       "max      102.900546     40.241700     41.498585  "
      ]
     },
     "execution_count": 7,
     "metadata": {},
     "output_type": "execute_result"
    }
   ],
   "source": [
    "df.describe()"
   ]
  },
  {
   "cell_type": "markdown",
   "metadata": {
    "colab_type": "text",
    "id": "Z4peY_3sW2MM"
   },
   "source": [
    "### Autoencoder"
   ]
  },
  {
   "cell_type": "code",
   "execution_count": 8,
   "metadata": {
    "colab": {},
    "colab_type": "code",
    "id": "6WXkKA9ssO2u"
   },
   "outputs": [],
   "source": [
    "raw_features = df.loc[:, 'ch1':'ch8'].values\n",
    "raw_labels = df.loc[:, 'Wrist x':].values"
   ]
  },
  {
   "cell_type": "code",
   "execution_count": 9,
   "metadata": {
    "colab": {
     "base_uri": "https://localhost:8080/",
     "height": 34
    },
    "colab_type": "code",
    "id": "j4oo_cPhsO2x",
    "outputId": "d3de939f-2862-4498-b46c-518fa4a87b62"
   },
   "outputs": [
    {
     "data": {
      "text/plain": [
       "(66002, 8)"
      ]
     },
     "execution_count": 9,
     "metadata": {},
     "output_type": "execute_result"
    }
   ],
   "source": [
    "raw_features.shape"
   ]
  },
  {
   "cell_type": "code",
   "execution_count": 10,
   "metadata": {
    "colab": {
     "base_uri": "https://localhost:8080/",
     "height": 34
    },
    "colab_type": "code",
    "id": "Vc-vasVBsO2z",
    "outputId": "8a299a87-f594-4e68-8528-8bd35691a656"
   },
   "outputs": [
    {
     "data": {
      "text/plain": [
       "(66002, 63)"
      ]
     },
     "execution_count": 10,
     "metadata": {},
     "output_type": "execute_result"
    }
   ],
   "source": [
    "raw_labels.shape"
   ]
  },
  {
   "cell_type": "code",
   "execution_count": 11,
   "metadata": {
    "colab": {
     "base_uri": "https://localhost:8080/",
     "height": 479
    },
    "colab_type": "code",
    "id": "pALKWnBtXlCA",
    "outputId": "0f9e9421-c4bc-422e-effe-9984fa6e5cfc"
   },
   "outputs": [
    {
     "name": "stdout",
     "output_type": "stream",
     "text": [
      "WARNING:tensorflow:From /nfs/2018/j/jcruz-y-/miniconda3/lib/python3.7/site-packages/tensorflow/python/ops/resource_variable_ops.py:435: colocate_with (from tensorflow.python.framework.ops) is deprecated and will be removed in a future version.\n",
      "Instructions for updating:\n",
      "Colocations handled automatically by placer.\n",
      "WARNING:tensorflow:From /nfs/2018/j/jcruz-y-/miniconda3/lib/python3.7/site-packages/tensorflow/python/keras/utils/losses_utils.py:170: to_float (from tensorflow.python.ops.math_ops) is deprecated and will be removed in a future version.\n",
      "Instructions for updating:\n",
      "Use tf.cast instead.\n",
      "_________________________________________________________________\n",
      "Layer (type)                 Output Shape              Param #   \n",
      "=================================================================\n",
      "input_1 (InputLayer)         (None, 63)                0         \n",
      "_________________________________________________________________\n",
      "dense (Dense)                (None, 32)                2048      \n",
      "_________________________________________________________________\n",
      "dense_1 (Dense)              (None, 16)                528       \n",
      "_________________________________________________________________\n",
      "dense_2 (Dense)              (None, 9)                 153       \n",
      "_________________________________________________________________\n",
      "decoder_0 (Dense)            (None, 32)                320       \n",
      "_________________________________________________________________\n",
      "decoder_1 (Dense)            (None, 16)                528       \n",
      "_________________________________________________________________\n",
      "decoder_output (Dense)       (None, 63)                1071      \n",
      "=================================================================\n",
      "Total params: 4,648\n",
      "Trainable params: 4,648\n",
      "Non-trainable params: 0\n",
      "_________________________________________________________________\n"
     ]
    }
   ],
   "source": [
    "encoding_dim = 9\n",
    "\n",
    "input_vec = Input(shape=(63,))\n",
    "dense_0 = Dense(32, activation=None)(input_vec)\n",
    "dense_1 = Dense(16, activation=None)(dense_0)\n",
    "encoded = Dense(encoding_dim, activation=None)(dense_1)\n",
    "dense_2 = Dense(32, activation=None, name='decoder_0')(encoded)\n",
    "dense_3 = Dense(16, activation=None, name='decoder_1')(dense_2)\n",
    "decoded = Dense(63, activation=None, name='decoder_output')(dense_3)\n",
    "\n",
    "autoencoder = Model(input_vec, decoded)\n",
    "encoder = Model(input_vec, encoded)\n",
    "\n",
    "encoded_input = Input(shape=(encoding_dim,), name='encoded_input')\n",
    "decode_0 = autoencoder.layers[-3](encoded_input)\n",
    "decode_1 = autoencoder.layers[-2](decode_0)\n",
    "decode_output = autoencoder.layers[-1](decode_1)\n",
    "decoder = Model(encoded_input, decode_output, name='decoder')\n",
    "optimizer = tf.keras.optimizers.Adam(lr=0.001, beta_1=0.9, beta_2=0.999, epsilon=None, decay=0.0, amsgrad=False)\n",
    "autoencoder.compile(optimizer=optimizer, loss='mean_squared_error')\n",
    "autoencoder.summary()"
   ]
  },
  {
   "cell_type": "code",
   "execution_count": 12,
   "metadata": {
    "colab": {
     "base_uri": "https://localhost:8080/",
     "height": 289
    },
    "colab_type": "code",
    "id": "j2gGlYgnwSmr",
    "outputId": "f80166cc-62fd-4a74-ca22-68b7b86e7d8a"
   },
   "outputs": [
    {
     "name": "stdout",
     "output_type": "stream",
     "text": [
      "_________________________________________________________________\n",
      "Layer (type)                 Output Shape              Param #   \n",
      "=================================================================\n",
      "input_1 (InputLayer)         (None, 63)                0         \n",
      "_________________________________________________________________\n",
      "dense (Dense)                (None, 32)                2048      \n",
      "_________________________________________________________________\n",
      "dense_1 (Dense)              (None, 16)                528       \n",
      "_________________________________________________________________\n",
      "dense_2 (Dense)              (None, 9)                 153       \n",
      "=================================================================\n",
      "Total params: 2,729\n",
      "Trainable params: 2,729\n",
      "Non-trainable params: 0\n",
      "_________________________________________________________________\n"
     ]
    }
   ],
   "source": [
    "encoder.summary()"
   ]
  },
  {
   "cell_type": "code",
   "execution_count": 13,
   "metadata": {
    "colab": {
     "base_uri": "https://localhost:8080/",
     "height": 289
    },
    "colab_type": "code",
    "id": "SiWpLrmPzMtS",
    "outputId": "ba1062e0-bb56-467a-c6b0-f9a644bdd267"
   },
   "outputs": [
    {
     "name": "stdout",
     "output_type": "stream",
     "text": [
      "_________________________________________________________________\n",
      "Layer (type)                 Output Shape              Param #   \n",
      "=================================================================\n",
      "encoded_input (InputLayer)   (None, 9)                 0         \n",
      "_________________________________________________________________\n",
      "decoder_0 (Dense)            (None, 32)                320       \n",
      "_________________________________________________________________\n",
      "decoder_1 (Dense)            (None, 16)                528       \n",
      "_________________________________________________________________\n",
      "decoder_output (Dense)       (None, 63)                1071      \n",
      "=================================================================\n",
      "Total params: 1,919\n",
      "Trainable params: 1,919\n",
      "Non-trainable params: 0\n",
      "_________________________________________________________________\n"
     ]
    }
   ],
   "source": [
    "decoder.summary()"
   ]
  },
  {
   "cell_type": "code",
   "execution_count": 14,
   "metadata": {
    "colab": {
     "base_uri": "https://localhost:8080/",
     "height": 51
    },
    "colab_type": "code",
    "id": "gWO4nrqKfhlt",
    "outputId": "650e277e-9114-4aa7-e959-2f10674346ba"
   },
   "outputs": [
    {
     "name": "stdout",
     "output_type": "stream",
     "text": [
      "66002/66002 [==============================] - 3s 42us/sample - loss: 2340.5415\n"
     ]
    },
    {
     "data": {
      "text/plain": [
       "2340.5415022343072"
      ]
     },
     "execution_count": 14,
     "metadata": {},
     "output_type": "execute_result"
    }
   ],
   "source": [
    "autoencoder.evaluate(raw_labels, raw_labels)"
   ]
  },
  {
   "cell_type": "code",
   "execution_count": 18,
   "metadata": {
    "colab": {
     "base_uri": "https://localhost:8080/",
     "height": 884
    },
    "colab_type": "code",
    "id": "AepdOOpRZUmH",
    "outputId": "4cc9b279-ba78-4d86-9e45-c5373bdc5291"
   },
   "outputs": [
    {
     "name": "stdout",
     "output_type": "stream",
     "text": [
      "Train on 52801 samples, validate on 13201 samples\n",
      "52801/52801 [==============================] - 1s 13us/sample - loss: 30.1281 - val_loss: 30.1364\n"
     ]
    }
   ],
   "source": [
    "ret = autoencoder.fit(raw_labels, raw_labels, batch_size=512, epochs=1, verbose=1, validation_split=0.2)"
   ]
  },
  {
   "cell_type": "code",
   "execution_count": 19,
   "metadata": {
    "colab": {},
    "colab_type": "code",
    "id": "PRRVjM4htG7c"
   },
   "outputs": [],
   "source": [
    "#evaluate autoencoder performance\n",
    "encoded_vec = encoder.predict(raw_labels)\n",
    "decoded_vec = decoder.predict(encoded_vec)"
   ]
  },
  {
   "cell_type": "code",
   "execution_count": 20,
   "metadata": {
    "colab": {
     "base_uri": "https://localhost:8080/",
     "height": 51
    },
    "colab_type": "code",
    "id": "KN37FTQX3A6t",
    "outputId": "4cc2876c-98d1-4fd1-f63c-5d570dc43616"
   },
   "outputs": [
    {
     "name": "stdout",
     "output_type": "stream",
     "text": [
      "66002/66002 [==============================] - 3s 40us/sample - loss: 27.4253\n"
     ]
    },
    {
     "data": {
      "text/plain": [
       "27.42531593852943"
      ]
     },
     "execution_count": 20,
     "metadata": {},
     "output_type": "execute_result"
    }
   ],
   "source": [
    "decoder.compile(optimizer='adam', loss='mse')\n",
    "decoder.evaluate(encoded_vec, raw_labels)"
   ]
  },
  {
   "cell_type": "code",
   "execution_count": 21,
   "metadata": {
    "colab": {
     "base_uri": "https://localhost:8080/",
     "height": 34
    },
    "colab_type": "code",
    "id": "AX2R7nCyw6lD",
    "outputId": "aa5770cd-4fa5-4053-94c7-86562c26a522"
   },
   "outputs": [
    {
     "data": {
      "text/plain": [
       "(66002, 9)"
      ]
     },
     "execution_count": 21,
     "metadata": {},
     "output_type": "execute_result"
    }
   ],
   "source": [
    "encoded_vec.shape"
   ]
  },
  {
   "cell_type": "code",
   "execution_count": 22,
   "metadata": {
    "colab": {
     "base_uri": "https://localhost:8080/",
     "height": 34
    },
    "colab_type": "code",
    "id": "gfPfklMAw-rq",
    "outputId": "82b7c356-a1a5-4423-c7e0-a7fdf71bfe13"
   },
   "outputs": [
    {
     "data": {
      "text/plain": [
       "(66002, 63)"
      ]
     },
     "execution_count": 22,
     "metadata": {},
     "output_type": "execute_result"
    }
   ],
   "source": [
    "decoded_vec.shape"
   ]
  },
  {
   "cell_type": "code",
   "execution_count": 23,
   "metadata": {
    "colab": {},
    "colab_type": "code",
    "id": "E-UvBy6esO22"
   },
   "outputs": [],
   "source": [
    "# def reshape_data(seq_length, features, labels):\n",
    "#     samples = features.shape[0] // seq_length\n",
    "#     new_f = np.zeros((samples, seq_length, features.shape[1]))\n",
    "#     new_l = np.zeros((samples, seq_length, labels.shape[1]))\n",
    "#     j = 0\n",
    "#     for i in range(0, features.shape[0], seq_length):\n",
    "#         if (i + seq_length <= features.shape[0]):\n",
    "#             new_f[j] = features[i:i + seq_length]\n",
    "#             new_l[j] = labels[i:i + seq_length]\n",
    "#         j += 1\n",
    "#     return (new_f, new_l)"
   ]
  },
  {
   "cell_type": "code",
   "execution_count": 24,
   "metadata": {},
   "outputs": [],
   "source": [
    "def overlap_reshape(seq_length, feats, labs):\n",
    "    samples = feats.shape[0] - (seq_length - 1)\n",
    "    new_f = np.zeros((samples, seq_length, feats.shape[1]))\n",
    "    new_l = labs[seq_length - 1:]\n",
    "    queue = collections.deque(feats[:seq_length])\n",
    "    new_f[0] = np.array(queue)\n",
    "    j = 1\n",
    "    for i in range(seq_length, feats.shape[0]):\n",
    "        queue.popleft()\n",
    "        queue.append(feats[i])\n",
    "        new_f[j] = np.array(queue)\n",
    "        j += 1\n",
    "    return (new_f, new_l)"
   ]
  },
  {
   "cell_type": "markdown",
   "metadata": {
    "colab_type": "text",
    "id": "rY9szpCayVul"
   },
   "source": [
    "### Lotery LSTM (Autoencoder)"
   ]
  },
  {
   "cell_type": "code",
   "execution_count": 25,
   "metadata": {},
   "outputs": [],
   "source": [
    "seq_length = 24\n",
    "features, labels = overlap_reshape(seq_length, raw_features, encoded_vec)"
   ]
  },
  {
   "cell_type": "code",
   "execution_count": 26,
   "metadata": {},
   "outputs": [],
   "source": [
    "# seq_length = 24\n",
    "# features, labels = reshape_data(seq_length, raw_features, encoded_vec)"
   ]
  },
  {
   "cell_type": "code",
   "execution_count": 27,
   "metadata": {},
   "outputs": [
    {
     "data": {
      "text/plain": [
       "(65979, 9)"
      ]
     },
     "execution_count": 27,
     "metadata": {},
     "output_type": "execute_result"
    }
   ],
   "source": [
    "labels.shape"
   ]
  },
  {
   "cell_type": "code",
   "execution_count": 28,
   "metadata": {},
   "outputs": [
    {
     "data": {
      "text/plain": [
       "(65979, 24, 8)"
      ]
     },
     "execution_count": 28,
     "metadata": {},
     "output_type": "execute_result"
    }
   ],
   "source": [
    "features.shape"
   ]
  },
  {
   "cell_type": "code",
   "execution_count": 29,
   "metadata": {},
   "outputs": [
    {
     "name": "stdout",
     "output_type": "stream",
     "text": [
      "_________________________________________________________________\n",
      "Layer (type)                 Output Shape              Param #   \n",
      "=================================================================\n",
      "encoded_input (InputLayer)   (None, 9)                 0         \n",
      "_________________________________________________________________\n",
      "decoder_0 (Dense)            (None, 32)                320       \n",
      "_________________________________________________________________\n",
      "decoder_1 (Dense)            (None, 16)                528       \n",
      "_________________________________________________________________\n",
      "decoder_output (Dense)       (None, 63)                1071      \n",
      "=================================================================\n",
      "Total params: 1,919\n",
      "Trainable params: 1,919\n",
      "Non-trainable params: 0\n",
      "_________________________________________________________________\n"
     ]
    }
   ],
   "source": [
    "decoder.summary()"
   ]
  },
  {
   "cell_type": "code",
   "execution_count": 47,
   "metadata": {
    "colab": {
     "base_uri": "https://localhost:8080/",
     "height": 289
    },
    "colab_type": "code",
    "id": "DG06orinzGAE",
    "outputId": "cc6047f0-7bfa-4d28-a2a2-7d3a33e3da9a"
   },
   "outputs": [
    {
     "name": "stdout",
     "output_type": "stream",
     "text": [
      "_________________________________________________________________\n",
      "Layer (type)                 Output Shape              Param #   \n",
      "=================================================================\n",
      "inputs (InputLayer)          (None, None, 8)           0         \n",
      "_________________________________________________________________\n",
      "lstm_0 (LSTM)                (None, None, 42)          8568      \n",
      "_________________________________________________________________\n",
      "lstm_1 (LSTM)                (None, 42)                14280     \n",
      "_________________________________________________________________\n",
      "lstm_out (Dense)             (None, 9)                 387       \n",
      "_________________________________________________________________\n",
      "decoder_0 (Dense)            (None, 32)                320       \n",
      "_________________________________________________________________\n",
      "decoder_1 (Dense)            (None, 16)                528       \n",
      "_________________________________________________________________\n",
      "decoder_output (Dense)       (None, 63)                1071      \n",
      "=================================================================\n",
      "Total params: 25,154\n",
      "Trainable params: 25,154\n",
      "Non-trainable params: 0\n",
      "_________________________________________________________________\n"
     ]
    }
   ],
   "source": [
    "#lstm layers\n",
    "inputs = Input(shape=(None, 8), name=\"inputs\")\n",
    "lstm_0 = LSTM(42, return_sequences=True, name=\"lstm_0\")(inputs)\n",
    "lstm_1 = LSTM(42, return_sequences=False, name=\"lstm_1\")(lstm_0)\n",
    "lstm_out = Dense(9, activation=None, name=\"lstm_out\")(lstm_1)\n",
    "\n",
    "#decoder layers\n",
    "decoder_0 = decoder.get_layer(\"decoder_0\")(lstm_out)\n",
    "decoder_0.trainable = False\n",
    "decoder_1 = decoder.get_layer(\"decoder_1\")(decoder_0)\n",
    "decoder_1.trainable = False\n",
    "decoder_output = decoder.get_layer(\"decoder_output\")(decoder_1)\n",
    "decoder_output.trainable = False\n",
    "\n",
    "model = Model(inputs, decoder_output, name=\"model_v1\")\n",
    "# model = Model(inputs, dense, name=\"lstm_model\")\n",
    "optimizer = tf.keras.optimizers.Adam(lr=0.001, beta_1=0.9, beta_2=0.999, epsilon=None, decay=0.0, amsgrad=False)\n",
    "model.compile(optimizer=optimizer, loss='mse')\n",
    "model.summary()"
   ]
  },
  {
   "cell_type": "code",
   "execution_count": 48,
   "metadata": {},
   "outputs": [
    {
     "data": {
      "text/plain": [
       "(65979, 24, 8)"
      ]
     },
     "execution_count": 48,
     "metadata": {},
     "output_type": "execute_result"
    }
   ],
   "source": [
    "features.shape"
   ]
  },
  {
   "cell_type": "code",
   "execution_count": 49,
   "metadata": {},
   "outputs": [
    {
     "data": {
      "text/plain": [
       "(65979, 63)"
      ]
     },
     "execution_count": 49,
     "metadata": {},
     "output_type": "execute_result"
    }
   ],
   "source": [
    "raw_labels[seq_length - 1:].shape"
   ]
  },
  {
   "cell_type": "code",
   "execution_count": 50,
   "metadata": {
    "colab": {
     "base_uri": "https://localhost:8080/",
     "height": 51
    },
    "colab_type": "code",
    "id": "n931sDbc00CG",
    "outputId": "e9523935-bcee-49c1-e6c8-e1fd4d186c01"
   },
   "outputs": [
    {
     "name": "stdout",
     "output_type": "stream",
     "text": [
      "65979/65979 [==============================] - 19s 286us/sample - loss: 1386.4281\n"
     ]
    },
    {
     "data": {
      "text/plain": [
       "1386.4280998278432"
      ]
     },
     "execution_count": 50,
     "metadata": {},
     "output_type": "execute_result"
    }
   ],
   "source": [
    "model.evaluate(features, raw_labels[seq_length - 1:], verbose=1)"
   ]
  },
  {
   "cell_type": "code",
   "execution_count": 51,
   "metadata": {},
   "outputs": [
    {
     "name": "stdout",
     "output_type": "stream",
     "text": [
      "Train on 52783 samples, validate on 13196 samples\n",
      "Epoch 1/4\n",
      "52783/52783 [==============================] - 87s 2ms/sample - loss: 218.7611 - val_loss: 122.3969\n",
      "Epoch 2/4\n",
      "52783/52783 [==============================] - 82s 2ms/sample - loss: 160.3901 - val_loss: 140.7041\n",
      "Epoch 3/4\n",
      "52783/52783 [==============================] - 82s 2ms/sample - loss: 148.0352 - val_loss: 170.7930\n",
      "Epoch 4/4\n",
      "52783/52783 [==============================] - 82s 2ms/sample - loss: 138.2281 - val_loss: 128.1246\n"
     ]
    }
   ],
   "source": [
    "history = model.fit(features, raw_labels[seq_length - 1:], batch_size=seq_length, epochs=4, verbose=1, validation_split=0.2);"
   ]
  },
  {
   "cell_type": "markdown",
   "metadata": {},
   "source": [
    "#### LSTM experiment log: \n",
    "1. jose_finger_5:<br>\n",
    "    a. 64 cells, 2 layers, 1 epoch, train_loss: 100, val_loss: 76<br>\n",
    "    b. 32 cells, 2 layers, 1 epoch, train_loss: 82, val_loss: 72<br>\n",
    "    c. 42 cells, 2 layers, 1 epoch, train_loss: 92, val_loss: 68 (lucky 4 epoch train_loss:62 and val_loss:68)<br>\n",
    "   "
   ]
  },
  {
   "cell_type": "code",
   "execution_count": 40,
   "metadata": {},
   "outputs": [],
   "source": [
    "model.save(\"/nfs/2018/j/jcruz-y-/neurotron_models/model_val_loss_190_thumb_jose_1.h5\")"
   ]
  },
  {
   "cell_type": "code",
   "execution_count": 82,
   "metadata": {},
   "outputs": [],
   "source": [
    "m = load_model(\"saved_models/model_overfitted_thomas_2_001.h5\")"
   ]
  },
  {
   "cell_type": "code",
   "execution_count": 83,
   "metadata": {},
   "outputs": [
    {
     "name": "stdout",
     "output_type": "stream",
     "text": [
      "90434/90434 [==============================] - 34s 373us/sample - loss: 329.6422\n"
     ]
    },
    {
     "data": {
      "text/plain": [
       "329.6421536507562"
      ]
     },
     "execution_count": 83,
     "metadata": {},
     "output_type": "execute_result"
    }
   ],
   "source": [
    "m.evaluate(features, raw_labels[seq_length - 1:])"
   ]
  },
  {
   "cell_type": "code",
   "execution_count": null,
   "metadata": {
    "colab": {},
    "colab_type": "code",
    "id": "GWsl7oiVLzPz"
   },
   "outputs": [],
   "source": [
    "preds = model.predict(features)"
   ]
  },
  {
   "cell_type": "code",
   "execution_count": 52,
   "metadata": {},
   "outputs": [
    {
     "data": {
      "text/plain": [
       "<matplotlib.legend.Legend at 0x14be14e80>"
      ]
     },
     "execution_count": 52,
     "metadata": {},
     "output_type": "execute_result"
    },
    {
     "data": {
      "image/png": "[encoded data removed]",
      "text/plain": [
       "<Figure size 432x288 with 1 Axes>"
      ]
     },
     "metadata": {
      "needs_background": "light"
     },
     "output_type": "display_data"
    }
   ],
   "source": [
    "plt.plot(history.history['loss'])\n",
    "plt.plot(history.history['val_loss'])\n",
    "plt.legend(['Train', 'Test'])"
   ]
  },
  {
   "cell_type": "code",
   "execution_count": null,
   "metadata": {},
   "outputs": [],
   "source": [
    "error = raw_labels[seq_length - 1:] - preds\n",
    "sq_error = error * error\n",
    "avg_error = np.mean(sq_error, axis=0)\n",
    "plt.figure(figsize=(15, 10))\n",
    "plt.xticks(rotation=90)\n",
    "plt.ylabel('Prediction Error (mm)')\n",
    "bar = plt.bar(df.columns[8:], avg_error)\n",
    "for i in range(0,63,3):\n",
    "    bar[i].set_color('coral')\n",
    "    bar[i+1].set_color('olivedrab')\n",
    "plt.show()"
   ]
  },
  {
   "cell_type": "code",
   "execution_count": null,
   "metadata": {
    "colab": {
     "base_uri": "https://localhost:8080/",
     "height": 34
    },
    "colab_type": "code",
    "id": "ryZhtnw_NheE",
    "outputId": "b8e171f1-1719-43e0-bf3f-1eb05e1a57cf"
   },
   "outputs": [],
   "source": [
    "preds.shape"
   ]
  },
  {
   "cell_type": "code",
   "execution_count": null,
   "metadata": {
    "colab": {},
    "colab_type": "code",
    "id": "Wyb7KJCWylJZ"
   },
   "outputs": [],
   "source": [
    "preds = preds.reshape(-1, 9)"
   ]
  },
  {
   "cell_type": "code",
   "execution_count": null,
   "metadata": {
    "colab": {
     "base_uri": "https://localhost:8080/",
     "height": 34
    },
    "colab_type": "code",
    "id": "CjTZMw1uypmm",
    "outputId": "68739234-c692-476b-c141-54b8932b5a5a"
   },
   "outputs": [],
   "source": [
    "preds.shape"
   ]
  },
  {
   "cell_type": "code",
   "execution_count": null,
   "metadata": {
    "colab": {
     "base_uri": "https://localhost:8080/",
     "height": 34
    },
    "colab_type": "code",
    "id": "VuMIu6TfysVW",
    "outputId": "51d272d9-d9a6-4ae5-8461-f5fd1ebf8207"
   },
   "outputs": [],
   "source": [
    "raw_labels[:preds.shape[0]].shape"
   ]
  },
  {
   "cell_type": "code",
   "execution_count": null,
   "metadata": {},
   "outputs": [],
   "source": [
    "raw_labels[seq_length - 1:].shape"
   ]
  },
  {
   "cell_type": "code",
   "execution_count": null,
   "metadata": {
    "colab": {
     "base_uri": "https://localhost:8080/",
     "height": 51
    },
    "colab_type": "code",
    "id": "9pOql9Rcy4l0",
    "outputId": "c7de94d4-4e9e-4f85-a5e0-5126c1d1125c"
   },
   "outputs": [],
   "source": [
    "decoder.evaluate(preds, raw_labels[seq_length - 1:])"
   ]
  },
  {
   "cell_type": "markdown",
   "metadata": {},
   "source": [
    "#### Save predictions"
   ]
  },
  {
   "cell_type": "code",
   "execution_count": null,
   "metadata": {},
   "outputs": [],
   "source": [
    "full_preds = decoder.predict(preds)"
   ]
  },
  {
   "cell_type": "code",
   "execution_count": null,
   "metadata": {},
   "outputs": [],
   "source": [
    "full_preds_df = pd.DataFrame(data=full_preds, columns=df.loc[:, 'Wrist x':].columns)"
   ]
  },
  {
   "cell_type": "code",
   "execution_count": null,
   "metadata": {},
   "outputs": [],
   "source": [
    "full_preds_df.to_csv(\"predictions/pred_001.csv\", index=False)"
   ]
  },
  {
   "cell_type": "markdown",
   "metadata": {},
   "source": [
    "### Run a model multiple times until it hits the lottery"
   ]
  },
  {
   "cell_type": "code",
   "execution_count": null,
   "metadata": {},
   "outputs": [],
   "source": [
    "%%time\n",
    "eval_loss = 300\n",
    "current_best = 1000\n",
    "cur_model = 0\n",
    "\n",
    "while (eval_loss > 180):\n",
    "    total_epochs = 0\n",
    "    inputs = Input(shape=(None, 8))\n",
    "    lstm = LSTM(64, return_sequences=True)(inputs)\n",
    "    lstm = LSTM(64, return_sequences=True)(lstm)\n",
    "    dense = Dense(9, activation=None)(lstm)\n",
    "\n",
    "    model = Model(inputs, dense)\n",
    "    optimizer = tf.keras.optimizers.Adam(lr=0.001, beta_1=0.9, beta_2=0.999, epsilon=None, decay=0.0, amsgrad=False)\n",
    "    model.compile(optimizer=optimizer, loss='mse')\n",
    "\n",
    "    model.evaluate(features, labels, verbose=1)\n",
    "\n",
    "    history = model.fit(features, labels, batch_size=seq_length, epochs=1, verbose=1, validation_split=0.2)\n",
    "\n",
    "    while (history.history['loss'][-1] - history.history['val_loss'][-1] > -100):\n",
    "        history = model.fit(features, labels, batch_size=seq_length, epochs=10, verbose=1, validation_split=0.2)\n",
    "        total_epochs += 10\n",
    "    \n",
    "    preds = model.predict(features)\n",
    "    preds = preds.reshape(-1, 9)\n",
    "    eval_loss = decoder.evaluate(preds, raw_labels[:preds.shape[0]])\n",
    "    if (eval_loss < current_best):\n",
    "        current_best = eval_loss\n",
    "        model.save('saved_models/model_{}.h5'.format(round(current_best)))\n",
    "    print(\"|||||||||||||||||||||||||||||||||||||||||||||||||\")\n",
    "    print(\"Current model ==> {}\".format(cur_model))\n",
    "    print(\"Total epochs  ==> {}\".format(total_epochs))\n",
    "    print(\"Current loss  ==> {}\".format(eval_loss))\n",
    "    print(\"Current best  ==> {}\".format(current_best))\n",
    "    print(\"|||||||||||||||||||||||||||||||||||||||||||||||||\")\n",
    "    cur_model += 1"
   ]
  },
  {
   "cell_type": "markdown",
   "metadata": {
    "colab_type": "text",
    "id": "SKQnKjtMF9UV"
   },
   "source": [
    "### Saving and loading model"
   ]
  },
  {
   "cell_type": "code",
   "execution_count": null,
   "metadata": {
    "colab": {},
    "colab_type": "code",
    "id": "amHNGclf42qD"
   },
   "outputs": [],
   "source": [
    "from tensorflow.keras.models import load_model\n",
    "\n",
    "model = load_model('model_200.h5')"
   ]
  },
  {
   "cell_type": "code",
   "execution_count": null,
   "metadata": {
    "colab": {},
    "colab_type": "code",
    "id": "1J4hyqdR7V04"
   },
   "outputs": [],
   "source": [
    "model.save_weights('model_200_weights.h5')"
   ]
  },
  {
   "cell_type": "code",
   "execution_count": null,
   "metadata": {
    "colab": {
     "base_uri": "https://localhost:8080/",
     "height": 289
    },
    "colab_type": "code",
    "id": "NqT_10kp5WG7",
    "outputId": "0dc4f39f-8799-4d89-8d0c-3ec719c7cccf"
   },
   "outputs": [],
   "source": [
    "model.summary()"
   ]
  },
  {
   "cell_type": "code",
   "execution_count": null,
   "metadata": {
    "colab": {
     "base_uri": "https://localhost:8080/",
     "height": 289
    },
    "colab_type": "code",
    "id": "_Ah0FjNp5g_e",
    "outputId": "61b3a4b5-9dc6-4547-bfb7-ab030f8eb550"
   },
   "outputs": [],
   "source": [
    "inputs = Input(shape=(None, 8))\n",
    "lstm = LSTM(256, recurrent_activation='hard_sigmoid', return_sequences=True)(inputs)\n",
    "lstm = LSTM(256, recurrent_activation='hard_sigmoid', return_sequences=True)(lstm)\n",
    "#lstm3 = CuDNNLSTM(256, return_sequences=True)(lstm2)\n",
    "#lstm4 = CuDNNLSTM(256, return_sequences=True)(lstm3)\n",
    "dense = Dense(63, activation=None)(lstm)\n",
    "\n",
    "model = Model(inputs, dense)\n",
    "optimizer = tf.keras.optimizers.Adam(lr=0.001, beta_1=0.9, beta_2=0.999, epsilon=None, decay=0.0, amsgrad=False)\n",
    "model.compile(optimizer=optimizer, loss='mean_squared_error')\n",
    "model.summary()"
   ]
  },
  {
   "cell_type": "code",
   "execution_count": null,
   "metadata": {
    "colab": {},
    "colab_type": "code",
    "id": "qcMa2sFb7iCs"
   },
   "outputs": [],
   "source": [
    "model.load_weights('model_200_weights.h5')"
   ]
  },
  {
   "cell_type": "code",
   "execution_count": null,
   "metadata": {
    "colab": {
     "base_uri": "https://localhost:8080/",
     "height": 289
    },
    "colab_type": "code",
    "id": "FOh7HO7S7p_Z",
    "outputId": "eada8a50-bd99-42e2-d059-3dd6ca8fbb8b"
   },
   "outputs": [],
   "source": [
    "model.summary()"
   ]
  },
  {
   "cell_type": "code",
   "execution_count": null,
   "metadata": {
    "colab": {
     "base_uri": "https://localhost:8080/",
     "height": 51
    },
    "colab_type": "code",
    "id": "kdMAw7Ut8gT0",
    "outputId": "886d4cda-5f77-4301-bc0b-1f4bc10803ef"
   },
   "outputs": [],
   "source": [
    "model.evaluate(features, labels)"
   ]
  },
  {
   "cell_type": "code",
   "execution_count": null,
   "metadata": {
    "colab": {},
    "colab_type": "code",
    "id": "MsDkXSya7tVq"
   },
   "outputs": [],
   "source": [
    "model.save('model_200_v2.h5')"
   ]
  },
  {
   "cell_type": "markdown",
   "metadata": {
    "colab_type": "text",
    "id": "5w4zX0M8cPTw"
   },
   "source": [
    "### Lotery LSTM"
   ]
  },
  {
   "cell_type": "code",
   "execution_count": null,
   "metadata": {
    "colab": {
     "base_uri": "https://localhost:8080/",
     "height": 289
    },
    "colab_type": "code",
    "id": "LFPgxTY8cXzf",
    "outputId": "f78ad452-7366-4537-aec1-96778178f924"
   },
   "outputs": [],
   "source": [
    "inputs = Input(shape=(None, 8))\n",
    "lstm = CuDNNLSTM(256, return_sequences=True)(inputs)\n",
    "lstm = CuDNNLSTM(256, return_sequences=True)(lstm)\n",
    "#lstm3 = CuDNNLSTM(256, return_sequences=True)(lstm2)\n",
    "#lstm4 = CuDNNLSTM(256, return_sequences=True)(lstm3)\n",
    "dense = Dense(63, activation=None)(lstm)\n",
    "\n",
    "model = Model(inputs, dense)\n",
    "optimizer = tf.keras.optimizers.Adam(lr=0.001, beta_1=0.9, beta_2=0.999, epsilon=None, decay=0.0, amsgrad=False)\n",
    "model.compile(optimizer=optimizer, loss='mean_squared_error')\n",
    "model.summary()"
   ]
  },
  {
   "cell_type": "code",
   "execution_count": null,
   "metadata": {
    "colab": {},
    "colab_type": "code",
    "id": "o24NIbg_vgqZ"
   },
   "outputs": [],
   "source": [
    "seq_length = 32"
   ]
  },
  {
   "cell_type": "code",
   "execution_count": null,
   "metadata": {
    "colab": {},
    "colab_type": "code",
    "id": "5XmrKmZneYBN"
   },
   "outputs": [],
   "source": [
    "features, labels = reshape_data(seq_length, raw_features, raw_labels)"
   ]
  },
  {
   "cell_type": "code",
   "execution_count": null,
   "metadata": {
    "colab": {
     "base_uri": "https://localhost:8080/",
     "height": 34
    },
    "colab_type": "code",
    "id": "Qt3M-cR_enYe",
    "outputId": "42b7bce2-7995-4bdc-b5fb-86a0f9148d32"
   },
   "outputs": [],
   "source": [
    "features.shape"
   ]
  },
  {
   "cell_type": "code",
   "execution_count": null,
   "metadata": {
    "colab": {
     "base_uri": "https://localhost:8080/",
     "height": 34
    },
    "colab_type": "code",
    "id": "w4_3SD-7enx1",
    "outputId": "1dfb730b-427b-4e9f-ccd0-aeb5a53a63ed"
   },
   "outputs": [],
   "source": [
    "labels.shape"
   ]
  },
  {
   "cell_type": "code",
   "execution_count": null,
   "metadata": {
    "colab": {
     "base_uri": "https://localhost:8080/",
     "height": 51
    },
    "colab_type": "code",
    "id": "PrgRNC2C1SDz",
    "outputId": "1c8c3ed2-9b5e-4c0a-c344-361aaa70c2a8"
   },
   "outputs": [],
   "source": [
    "model.evaluate(features, labels, verbose=1)"
   ]
  },
  {
   "cell_type": "code",
   "execution_count": null,
   "metadata": {
    "colab": {
     "base_uri": "https://localhost:8080/",
     "height": 1000
    },
    "colab_type": "code",
    "id": "XmArq91IeLm-",
    "outputId": "f5cb038f-72bf-4946-f999-219a108e1f63"
   },
   "outputs": [],
   "source": [
    "model.fit(features, labels, batch_size=seq_length, epochs=100, verbose=1, validation_split=0.2)"
   ]
  },
  {
   "cell_type": "code",
   "execution_count": null,
   "metadata": {
    "colab": {},
    "colab_type": "code",
    "id": "Hq8jmLCZ8o6u"
   },
   "outputs": [],
   "source": [
    "model.save(\"model_200.h5\")"
   ]
  },
  {
   "cell_type": "markdown",
   "metadata": {
    "colab_type": "text",
    "id": "Mn2y_de00GFx"
   },
   "source": [
    "### LSTM Model google Colab"
   ]
  },
  {
   "cell_type": "code",
   "execution_count": null,
   "metadata": {
    "colab": {},
    "colab_type": "code",
    "id": "htBxd6a8sO24"
   },
   "outputs": [],
   "source": [
    "seq_length = 100\n",
    "features = df.loc[:, 'ch1':'ch8'].values\n",
    "labels = df.loc[:, 'Wrist x':].values"
   ]
  },
  {
   "cell_type": "code",
   "execution_count": null,
   "metadata": {
    "colab": {},
    "colab_type": "code",
    "id": "0hWnDOP8sO27"
   },
   "outputs": [],
   "source": [
    "features, labels = reshape_data(seq_length, features, encoded_vec)"
   ]
  },
  {
   "cell_type": "code",
   "execution_count": null,
   "metadata": {
    "colab": {
     "base_uri": "https://localhost:8080/",
     "height": 34
    },
    "colab_type": "code",
    "id": "gIXEBBnTsO2-",
    "outputId": "84fa9f93-73a6-43d2-d8bf-01811bc809dd"
   },
   "outputs": [],
   "source": [
    "features.shape"
   ]
  },
  {
   "cell_type": "code",
   "execution_count": null,
   "metadata": {
    "colab": {
     "base_uri": "https://localhost:8080/",
     "height": 34
    },
    "colab_type": "code",
    "id": "Fe-JuQDusO3C",
    "outputId": "4eccd4a7-6bba-4fbe-9260-04ccadd0ba3e"
   },
   "outputs": [],
   "source": [
    "labels.shape"
   ]
  },
  {
   "cell_type": "code",
   "execution_count": null,
   "metadata": {
    "colab": {
     "base_uri": "https://localhost:8080/",
     "height": 289
    },
    "colab_type": "code",
    "id": "OZr_lnF41plx",
    "outputId": "eada87e7-edc5-4c80-ead1-c2bf5c29d743"
   },
   "outputs": [],
   "source": [
    "input_size = features.shape[2]\n",
    "hidden_size = 256\n",
    "output_size = labels.shape[2]\n",
    "\n",
    "input_vec = Input(shape=(None, input_size))\n",
    "lstm = CuDNNLSTM(hidden_size, return_sequences=True)(input_vec)\n",
    "lstm = CuDNNLSTM(hidden_size, return_sequences=True)(lstm)\n",
    "dense = Dense(output_size, activation=None)(lstm)\n",
    "\n",
    "model = Model(input_vec, dense)\n",
    "optimizer = tf.keras.optimizers.Adam(lr=0.001, beta_1=0.9, beta_2=0.999, epsilon=None, decay=0.0, amsgrad=False)\n",
    "model.compile(optimizer=optimizer, loss='mean_squared_error')\n",
    "model.summary()"
   ]
  },
  {
   "cell_type": "code",
   "execution_count": null,
   "metadata": {
    "colab": {
     "base_uri": "https://localhost:8080/",
     "height": 1000
    },
    "colab_type": "code",
    "id": "JCgmait-6VLN",
    "outputId": "b8250586-8abe-41db-97c0-210c4fa681a9"
   },
   "outputs": [],
   "source": [
    "model.fit(features, labels, batch_size=100, epochs=1000, verbose=1, validation_split=0.2)"
   ]
  },
  {
   "cell_type": "markdown",
   "metadata": {
    "colab_type": "text",
    "id": "xW1f6acx5jtG"
   },
   "source": [
    "### Neural Net Model"
   ]
  },
  {
   "cell_type": "code",
   "execution_count": null,
   "metadata": {
    "colab": {
     "base_uri": "https://localhost:8080/",
     "height": 595
    },
    "colab_type": "code",
    "id": "ALnwgLd0sO3F",
    "outputId": "729c461a-effb-4e15-f845-6df1a3e2e3b2"
   },
   "outputs": [],
   "source": [
    "model = tf.keras.models.Sequential()\n",
    "model.add(tf.keras.layers.Dense(1024, activation='relu', input_shape=(8,)))\n",
    "model.add(tf.keras.layers.Dropout(0.5))\n",
    "model.add(tf.keras.layers.Dense(1024, activation='relu'))\n",
    "model.add(tf.keras.layers.Dropout(0.5))\n",
    "model.add(tf.keras.layers.Dense(512, activation='relu'))\n",
    "model.add(tf.keras.layers.Dropout(0.5))\n",
    "model.add(tf.keras.layers.Dense(512, activation='relu'))\n",
    "model.add(tf.keras.layers.Dropout(0.5))\n",
    "model.add(tf.keras.layers.Dense(256, activation='relu'))\n",
    "model.add(tf.keras.layers.Dropout(0.5))\n",
    "model.add(tf.keras.layers.Dense(256, activation='relu'))\n",
    "model.add(tf.keras.layers.Dropout(0.5))\n",
    "model.add(tf.keras.layers.Dense(63, activation='relu'))\n",
    "\n",
    "model.compile(optimizer='adam', loss='mean_squared_error')\n",
    "model.summary()"
   ]
  },
  {
   "cell_type": "code",
   "execution_count": null,
   "metadata": {
    "colab": {
     "base_uri": "https://localhost:8080/",
     "height": 34068
    },
    "colab_type": "code",
    "id": "X4E0CR0zsO3H",
    "outputId": "1530f601-c7b0-4127-fc21-7a06b5739c4b"
   },
   "outputs": [],
   "source": [
    "%%time\n",
    "#ret = model.fit(features, labels, epochs=3000, verbose=2)\n",
    "ret = model.fit(features, labels, batch_size=256, epochs=1000, verbose=2, validation_split=0.2)"
   ]
  },
  {
   "cell_type": "markdown",
   "metadata": {
    "colab": {},
    "colab_type": "code",
    "id": "4fnzu3XEsO3J"
   },
   "source": [
    "### RNN model"
   ]
  },
  {
   "cell_type": "code",
   "execution_count": 41,
   "metadata": {},
   "outputs": [
    {
     "name": "stdout",
     "output_type": "stream",
     "text": [
      "_________________________________________________________________\n",
      "Layer (type)                 Output Shape              Param #   \n",
      "=================================================================\n",
      "inputs (InputLayer)          (None, None, 8)           0         \n",
      "_________________________________________________________________\n",
      "lstm_0 (SimpleRNN)           (None, None, 32)          1312      \n",
      "_________________________________________________________________\n",
      "lstm_1 (SimpleRNN)           (None, 32)                2080      \n",
      "_________________________________________________________________\n",
      "lstm_out (Dense)             (None, 9)                 297       \n",
      "_________________________________________________________________\n",
      "decoder_0 (Dense)            (None, 32)                320       \n",
      "_________________________________________________________________\n",
      "decoder_1 (Dense)            (None, 16)                528       \n",
      "_________________________________________________________________\n",
      "decoder_output (Dense)       (None, 63)                1071      \n",
      "=================================================================\n",
      "Total params: 5,608\n",
      "Trainable params: 5,608\n",
      "Non-trainable params: 0\n",
      "_________________________________________________________________\n"
     ]
    }
   ],
   "source": [
    "#lstm layers\n",
    "inputs = Input(shape=(None, 8), name=\"inputs\")\n",
    "rnn_0 = SimpleRNN(32, return_sequences=True, name=\"lstm_0\")(inputs)\n",
    "rnn_1 = SimpleRNN(32, return_sequences=False, name=\"lstm_1\")(rnn_0)\n",
    "rnn_out = Dense(9, activation=None, name=\"lstm_out\")(rnn_1)\n",
    "\n",
    "#decoder layers\n",
    "decoder_0 = decoder.get_layer(\"decoder_0\")(rnn_out)\n",
    "decoder_0.trainable = False\n",
    "decoder_1 = decoder.get_layer(\"decoder_1\")(decoder_0)\n",
    "decoder_1.trainable = False\n",
    "decoder_output = decoder.get_layer(\"decoder_output\")(decoder_1)\n",
    "decoder_output.trainable = False\n",
    "\n",
    "model = Model(inputs, decoder_output, name=\"model_v1\")\n",
    "# model = Model(inputs, dense, name=\"lstm_model\")\n",
    "optimizer = tf.keras.optimizers.Adam(lr=0.001, beta_1=0.9, beta_2=0.999, epsilon=None, decay=0.0, amsgrad=False)\n",
    "model.compile(optimizer=optimizer, loss='mse')\n",
    "model.summary()"
   ]
  },
  {
   "cell_type": "code",
   "execution_count": 42,
   "metadata": {},
   "outputs": [
    {
     "name": "stdout",
     "output_type": "stream",
     "text": [
      "65979/65979 [==============================] - 9s 129us/sample - loss: 1516.7232\n"
     ]
    },
    {
     "data": {
      "text/plain": [
       "1516.723164109246"
      ]
     },
     "execution_count": 42,
     "metadata": {},
     "output_type": "execute_result"
    }
   ],
   "source": [
    "model.evaluate(features, raw_labels[seq_length - 1:], verbose=1)"
   ]
  },
  {
   "cell_type": "code",
   "execution_count": 43,
   "metadata": {},
   "outputs": [
    {
     "name": "stdout",
     "output_type": "stream",
     "text": [
      "Train on 52783 samples, validate on 13196 samples\n",
      "Epoch 1/5\n",
      "52783/52783 [==============================] - 27s 517us/sample - loss: 286.9632 - val_loss: 187.2000\n",
      "Epoch 2/5\n",
      "52783/52783 [==============================] - 27s 509us/sample - loss: 257.5150 - val_loss: 203.6774\n",
      "Epoch 3/5\n",
      "52783/52783 [==============================] - 26s 486us/sample - loss: 247.1652 - val_loss: 265.4428\n",
      "Epoch 4/5\n",
      "52783/52783 [==============================] - 23s 441us/sample - loss: 256.6244 - val_loss: 194.6943\n",
      "Epoch 5/5\n",
      "52783/52783 [==============================] - 24s 452us/sample - loss: 245.9073 - val_loss: 224.5425\n"
     ]
    },
    {
     "data": {
      "text/plain": [
       "<tensorflow.python.keras.callbacks.History at 0x140bee668>"
      ]
     },
     "execution_count": 43,
     "metadata": {},
     "output_type": "execute_result"
    }
   ],
   "source": [
    "model.fit(features, raw_labels[seq_length - 1:], batch_size=seq_length, epochs=5, verbose=1, validation_split=0.2)"
   ]
  },
  {
   "cell_type": "markdown",
   "metadata": {},
   "source": [
    "#### Average conversion:\n",
    "1. jose_finger_5: val_loss 70, train_loss = 110 of RNN model after 2 or more epochs"
   ]
  },
  {
   "cell_type": "code",
   "execution_count": null,
   "metadata": {},
   "outputs": [],
   "source": []
  }
 ],
 "metadata": {
  "accelerator": "GPU",
  "colab": {
   "name": "explore_models.ipynb",
   "provenance": [],
   "version": "0.3.2"
  },
  "kernelspec": {
   "display_name": "Python 3",
   "language": "python",
   "name": "python3"
  },
  "language_info": {
   "codemirror_mode": {
    "name": "ipython",
    "version": 3
   },
   "file_extension": ".py",
   "mimetype": "text/x-python",
   "name": "python",
   "nbconvert_exporter": "python",
   "pygments_lexer": "ipython3",
   "version": "3.7.3"
  }
 },
 "nbformat": 4,
 "nbformat_minor": 1
}
